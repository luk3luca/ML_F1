{
 "cells": [
  {
   "cell_type": "code",
   "execution_count": 1,
   "id": "735ef10e",
   "metadata": {},
   "outputs": [],
   "source": [
    "import fastf1 as ff1\n",
    "from fastf1 import plotting\n",
    "from fastf1.core import Laps\n",
    "\n",
    "import pandas as pd\n",
    "import numpy as np"
   ]
  },
  {
   "cell_type": "code",
   "execution_count": 2,
   "id": "ca6153ea",
   "metadata": {},
   "outputs": [],
   "source": [
    "# Enable the cache by providing the name of the cache folder, speed up\n",
    "ff1.Cache.enable_cache('cache')\n",
    "\n",
    "# Setup plotting, setup the plot (bg: black, ...)\n",
    "plotting.setup_mpl()\n",
    "\n",
    "ff1.Cache.offline_mode(True)"
   ]
  },
  {
   "cell_type": "code",
   "execution_count": 87,
   "id": "996fb44f",
   "metadata": {},
   "outputs": [],
   "source": [
    "FILE_CIRCUITS = 'f1_unique_circuits_complete.csv'\n",
    "\n",
    "circuit_info = pd.read_csv(FILE_CIRCUITS, delimiter=\",\")"
   ]
  },
  {
   "cell_type": "code",
   "execution_count": 3,
   "id": "eb602d0e",
   "metadata": {},
   "outputs": [
    {
     "name": "stderr",
     "output_type": "stream",
     "text": [
      "core           INFO \tLoading data for Italian Grand Prix - Qualifying [v3.6.1]\n",
      "req            INFO \tUsing cached data for session_info\n",
      "req            INFO \tUsing cached data for driver_info\n",
      "req            INFO \tUsing cached data for session_status_data\n",
      "req            INFO \tUsing cached data for track_status_data\n",
      "req            INFO \tUsing cached data for _extended_timing_data\n",
      "req            INFO \tUsing cached data for timing_app_data\n",
      "core           INFO \tProcessing timing data...\n",
      "req            INFO \tUsing cached data for car_data\n",
      "req            INFO \tUsing cached data for position_data\n",
      "req            INFO \tUsing cached data for weather_data\n",
      "req            INFO \tUsing cached data for race_control_messages\n",
      "core           INFO \tFinished loading data for 20 drivers: ['1', '4', '81', '16', '44', '63', '12', '5', '14', '22', '87', '27', '55', '23', '31', '6', '18', '43', '10', '30']\n"
     ]
    }
   ],
   "source": [
    "session = ff1.get_session(2025, 'Monza', 'Q')\n",
    "session.load()"
   ]
  },
  {
   "cell_type": "code",
   "execution_count": 4,
   "id": "4f1fde82",
   "metadata": {},
   "outputs": [],
   "source": [
    "driver = 'VER'\n",
    "# fastest lap of the driver\n",
    "fastest_lap = session.laps.pick_drivers(driver).pick_fastest()\n",
    "telemetry_driver = fastest_lap.get_telemetry().add_distance()\n"
   ]
  },
  {
   "cell_type": "code",
   "execution_count": 5,
   "id": "7985079c",
   "metadata": {},
   "outputs": [
    {
     "data": {
      "text/plain": [
       "348.0"
      ]
     },
     "execution_count": 5,
     "metadata": {},
     "output_type": "execute_result"
    }
   ],
   "source": [
    "max(telemetry_driver['Speed'])"
   ]
  },
  {
   "cell_type": "code",
   "execution_count": 6,
   "id": "24ca9d35",
   "metadata": {},
   "outputs": [],
   "source": [
    "def calculate_physics(physics_df):\n",
    "    # Convert speed from km/h to m/s and add it as a new column\n",
    "    physics_df['v_m/s'] = physics_df['Speed'] / 3.6\n",
    "\n",
    "    # Convert Time to seconds (float) and add it as a new column\n",
    "    physics_df['time_s'] = physics_df['Time'] / np.timedelta64(1, 's')\n",
    "\n",
    "    # Calculate longitudinal (forward/backward) acceleration (ax)\n",
    "    # This is the derivative of velocity (v) with respect to time (t), or a = dv/dt\n",
    "    # np.gradient() is a standard way to compute this from arrays of data.\n",
    "    physics_df['ax_m/s^2'] = np.gradient(physics_df['v_m/s']) / np.gradient(physics_df['time_s'])\n",
    "\n",
    "    # Smooth the acceleration data.\n",
    "    # Telemetry data is often \"noisy\" (spiky), which makes derivatives very unstable.\n",
    "    # np.convolve() applies a simple 3-point moving average to smooth out the spikes,\n",
    "    # giving a more realistic acceleration value.\n",
    "    physics_df['ax_smooth_m/s^2'] = np.convolve(\n",
    "        physics_df['ax_m/s^2'], \n",
    "        np.ones((3,))/3, \n",
    "        mode='same'\n",
    "    )\n",
    "\n",
    "    # --- MODEL I: STATIC WEIGHT ONLY ---\n",
    "    m = 798    # kg (Mass)\n",
    "    g = 9.81   # m/s^2 (Gravity)\n",
    "    staticWeightTot = m * g\n",
    "    fractionWeightFront = 0.46\n",
    "\n",
    "    # Calculate the static weight (in Newtons) on the front and rear axles\n",
    "    staticWeightFront = staticWeightTot * fractionWeightFront\n",
    "    staticWeightRear = staticWeightTot - staticWeightFront\n",
    "\n",
    "    # Add the static loads to the DataFrame\n",
    "    physics_df['loadFront_static_N'] = staticWeightFront\n",
    "    physics_df['loadRear_static_N'] = staticWeightRear\n",
    "\n",
    "    # --- MODEL II: INERTIAL LOAD TRANSFER ADDED ---\n",
    "    CoGheight = 0.25    # m (Center of Gravity height)\n",
    "    wheelbase = 3.6     # m (Wheelbase)\n",
    "\n",
    "    # Calculate the *change* in load (deltaLoad) caused by longitudinal acceleration (ax)\n",
    "    # This is the core \"load transfer\" equation.\n",
    "    # If ax_smooth is positive (accelerating), deltaLoad becomes negative.\n",
    "    physics_df['deltaLoad_Inertial_N'] = -CoGheight / wheelbase * m * physics_df['ax_smooth_m/s^2']\n",
    "\n",
    "    # Add the inertial load to the static load\n",
    "    # Calculate the new, dynamic load on the front and rear axles\n",
    "    # Front Axle:\n",
    "    #   - If accelerating (deltaLoad < 0), the front load *decreases*.\n",
    "    physics_df['loadFront_Inertial_N'] = physics_df['loadFront_static_N'] + physics_df['deltaLoad_Inertial_N']\n",
    "    # Rear Axle:\n",
    "    #   - If accelerating (deltaLoad < 0), subtracting a negative *increases* the rear load.\n",
    "    physics_df['loadRear_Inertial_N'] = physics_df['loadRear_static_N'] - physics_df['deltaLoad_Inertial_N']\n",
    "\n",
    "    # --- MODEL III: AERODYNAMIC EFFECTS ADDED ---\n",
    "    rho = 1.225         # kg/m^3 (Standard air density at sea level)\n",
    "    CdA = 1.7           # Drag Coefficient * Frontal Area. Measures total air resistance.\n",
    "    efficiency = 3.7      # Aerodynamic efficiency (Lift/Drag ratio). For F1, this is Downforce/Drag.\n",
    "    ClA = efficiency*CdA  # Downforce Coefficient * Frontal Area. Measures total downforce.\n",
    "    dragHeight = 0.5    # m (Height of drag force application)\n",
    "\n",
    "    # Calculate Drag and Downforce (which depend on speed)\n",
    "    # Calculate Drag Force (in Newtons)\n",
    "    # Formula: Fd = 0.5 * rho * v^2 * CdA\n",
    "    # Force increases with the *square* of velocity (v).\n",
    "    physics_df['dragForce_N'] = 0.5 * CdA * rho * np.square(physics_df['v_m/s'])\n",
    "    # Calculate Downforce (in Newtons)\n",
    "    # Formula: Fl = 0.5 * rho * v^2 * ClA\n",
    "    # This force also increases with the *square* of velocity.\n",
    "    physics_df['downForce_N'] = 0.5 * ClA * rho * np.square(physics_df['v_m/s'])\n",
    "\n",
    "    # Distribute the aerodynamic forces\n",
    "    fractionDownforceFront = 0.4\n",
    "    physics_df['downForceFront_N'] = physics_df['downForce_N'] * fractionDownforceFront\n",
    "    physics_df['downForceRear_N'] = physics_df['downForce_N'] * (1 - fractionDownforceFront)\n",
    "\n",
    "    # Calculate the load transfer caused *by drag*.\n",
    "    # Drag pulls the car backward from a point *above* the ground (dragHeight),\n",
    "    # which creates a moment that also shifts load to the rear axle.\n",
    "    physics_df['deltaLoad_Drag_N'] = -dragHeight / wheelbase * physics_df['dragForce_N']\n",
    "\n",
    "    # FINAL FRONT LOAD:\n",
    "    # Model II load + downforce on the front + load transfer from drag\n",
    "    physics_df['loadFront_AeroModel_N'] = (\n",
    "        physics_df['loadFront_Inertial_N'] + \n",
    "        physics_df['downForceFront_N'] + \n",
    "        physics_df['deltaLoad_Drag_N']\n",
    "    )\n",
    "    # FINAL REAR LOAD:\n",
    "    # Model II load + downforce on the rear - load transfer from drag\n",
    "    physics_df['loadRear_AeroModel_N'] = (\n",
    "        physics_df['loadRear_Inertial_N'] + \n",
    "        physics_df['downForceRear_N'] - \n",
    "        physics_df['deltaLoad_Drag_N']\n",
    "    )\n",
    "\n",
    "    return physics_df"
   ]
  },
  {
   "cell_type": "markdown",
   "id": "20bc679e",
   "metadata": {},
   "source": [
    "# Longitudinal and Latitudinal acceleration"
   ]
  },
  {
   "cell_type": "code",
   "execution_count": 7,
   "id": "7a781dd8",
   "metadata": {},
   "outputs": [],
   "source": [
    "def convert_to_g(accelerations_ms2):\n",
    "    g = 9.81\n",
    "    return accelerations_ms2 / g\n"
   ]
  },
  {
   "cell_type": "code",
   "execution_count": 8,
   "id": "c08fb47e",
   "metadata": {},
   "outputs": [],
   "source": [
    "import numpy as np\n",
    "import pandas as pd # Needed for type checking/conversion\n",
    "\n",
    "def smooth_derivative(t_in, v_in, method=\"smooth\"):\n",
    "    \"\"\"\n",
    "    Computes a smooth estimation of a derivative (dv/dt) using a multi-point\n",
    "    finite difference stencil to reduce noise amplification.\n",
    "    \"\"\"\n",
    "    t = t_in.copy()\n",
    "    v = v_in.copy()\n",
    "    \n",
    "    # (0) Prepare inputs: Ensure Time is transformed to seconds (a float array)\n",
    "    try:\n",
    "        # Check if t is a Pandas Series of timedelta objects\n",
    "        if isinstance(t, pd.Series) and t.dtype == 'timedelta64[ns]':\n",
    "            t = np.array([td.total_seconds() for td in t])\n",
    "        else:\n",
    "             # Assume it's a list/array of timedeltas needing conversion\n",
    "             t = np.array([td.total_seconds() for td in t])\n",
    "    except:\n",
    "        # If it throws an error, it's likely already a float/int array (e.g., Distance)\n",
    "        t = np.array(t)\n",
    "        \n",
    "    v = np.array(v)\n",
    "    \n",
    "    # Assert they have the same size and initialize output array\n",
    "    assert t.size == v.size\n",
    "    n = t.size\n",
    "    dvdt = np.zeros(n)\n",
    "    \n",
    "    if n < 6:\n",
    "        # Fallback to simple gradient if not enough points for the stencil\n",
    "        return np.gradient(v, t)\n",
    "\n",
    "    # (1) Manually compute points out of the stencil (boundary conditions)\n",
    "    # The first few and last few points can't use the full stencil, so we use\n",
    "    # a simpler, but stable, forward/backward difference approximation.\n",
    "    \n",
    "    dvdt[0] = (v[1]-v[0])/(t[1]-t[0])\n",
    "    dvdt[1] = (v[2]-v[0])/(t[2]-t[0])\n",
    "    dvdt[2] = (v[3]-v[1])/(t[3]-t[1])\n",
    "    \n",
    "    dvdt[n-1] = (v[n-1]-v[n-2])/(t[n-1]-t[n-2])\n",
    "    dvdt[n-2] = (v[n-1]-v[n-3])/(t[n-1]-t[n-3])\n",
    "    dvdt[n-3] = (v[n-2]-v[n-4])/(t[n-2]-t[n-4])\n",
    "\n",
    "    # (2) Compute the rest of the points using the stencil\n",
    "    if (method=='smooth'):\n",
    "        # This uses a weighted average of multiple centered differences\n",
    "        # (up to 3 points away) to achieve maximum noise suppression.\n",
    "        c = [5./32., 4./32., 1./32.]\n",
    "        for i in range(3, n-3):\n",
    "            for j in range(1, 4):\n",
    "                dvdt[i] += 2*j*c[j-1]*(v[i+j]-v[i-j])/(t[i+j]-t[i-j])\n",
    "    elif (method == 'centered'):\n",
    "        # Fallback for a standard (but still 2-point) centered difference\n",
    "        for i in range(3, n-3):\n",
    "            dvdt[i] = (v[i+1]-v[i-1])/(t[i+1]-t[i-1])\n",
    "            \n",
    "    return dvdt"
   ]
  },
  {
   "cell_type": "code",
   "execution_count": 9,
   "id": "ed385a38",
   "metadata": {},
   "outputs": [],
   "source": [
    "import math\n",
    "\n",
    "def truncated_remainder(dividend, divisor):\n",
    "    \"\"\"\n",
    "    Computes a truncated remainder, ensuring consistent mathematical behavior\n",
    "    especially for negative numbers, unlike standard Python's modulo operator.\n",
    "    \"\"\"\n",
    "    \n",
    "    # Calculate the integer part of the division (the quotient)\n",
    "    # Using specific logic to ensure 'truncation' (cutting off the decimal part \n",
    "    # toward zero), which differs from standard floor/ceil for negative numbers.\n",
    "    divided_number = dividend / divisor\n",
    "    divided_number = -int(-divided_number) if divided_number < 0 else int(divided_number)\n",
    "\n",
    "    # Calculate the remainder: Remainder = Dividend - Divisor * Quotient\n",
    "    remainder = dividend - divisor * divided_number\n",
    "\n",
    "    return remainder"
   ]
  },
  {
   "cell_type": "code",
   "execution_count": 10,
   "id": "82ff84f3",
   "metadata": {},
   "outputs": [],
   "source": [
    "import math\n",
    "import numpy as np\n",
    "\n",
    "def transform_to_pipi(input_angle):\n",
    "    \"\"\"\n",
    "    Unwinds an angle (in radians) to ensure it changes continuously\n",
    "    and does not jump from +pi to -pi (or vice versa), which is vital for\n",
    "    calculating a smooth derivative (rate of change of the angle).\n",
    "    \"\"\"\n",
    "    pi = math.pi\n",
    "    \n",
    "    # Calculate how many full 2*pi revolutions have occurred\n",
    "    revolutions = np.floor((input_angle + np.sign(input_angle) * pi) / (2 * pi))\n",
    "\n",
    "    # Calculate the remainder of the angle after removing full revolutions\n",
    "    p1 = truncated_remainder(input_angle + np.sign(input_angle) * pi, 2 * pi)\n",
    "    \n",
    "    # Apply a correction term (p2) based on the sign to correctly map the angle \n",
    "    # back into the range of [-pi, pi] (this handles the unwrapping logic)\n",
    "    p2 = (np.sign(np.sign(input_angle)\n",
    "                  + 2 * (np.sign(math.fabs((truncated_remainder(input_angle + pi, 2 * pi))\n",
    "                                          / (2 * pi))) - 1))) * pi\n",
    "\n",
    "    # The final unwrapped angle\n",
    "    output_angle = p1 - p2\n",
    "\n",
    "    return output_angle, revolutions"
   ]
  },
  {
   "cell_type": "code",
   "execution_count": 11,
   "id": "df647799",
   "metadata": {},
   "outputs": [],
   "source": [
    "import math\n",
    "import numpy as np\n",
    "\n",
    "def remove_acceleration_outliers(acc):\n",
    "    \"\"\"\n",
    "    Filters out extreme acceleration spikes by replacing values above a G-force\n",
    "    threshold (default 7.0G) with the previous time step's value.\n",
    "    \"\"\"\n",
    "    \n",
    "    acc_threshold_g = 7.0  # F1 cars rarely sustain forces above 5-6G\n",
    "    acc = np.array(acc)\n",
    "    \n",
    "    # Handle the very first point\n",
    "    if (math.fabs(acc[0]) > acc_threshold_g):\n",
    "        acc[0] = 0.0\n",
    "        \n",
    "    # Iterate through the main body of the data\n",
    "    for i in range(1, acc.size-1):\n",
    "        if ( math.fabs(acc[i]) > acc_threshold_g ):\n",
    "            # Replace the outlier with the previous, clean value\n",
    "            acc[i] = acc[i-1]\n",
    "            \n",
    "    # Handle the very last point\n",
    "    if (acc.size > 1 and math.fabs(acc[-1]) > acc_threshold_g ):\n",
    "        acc[-1] = acc[-2]\n",
    "            \n",
    "    return acc"
   ]
  },
  {
   "cell_type": "code",
   "execution_count": 12,
   "id": "dac9a165",
   "metadata": {},
   "outputs": [],
   "source": [
    "import numpy as np\n",
    "import math\n",
    "\n",
    "def compute_accelerations(physics_df):\n",
    "    \"\"\"\n",
    "    Calculates the Longitudinal (ax) and Lateral (ay) acceleration \n",
    "    (in G's) for every point in a telemetry lap.\n",
    "    \"\"\"\n",
    "    \n",
    "    # --- 1. Longitudinal Acceleration (ax) ---\n",
    "    # Convert Speed from km/h to m/s for physics calculations\n",
    "    v = np.array(physics_df['Speed']) / 3.6\n",
    "    \n",
    "    # Calculate the rate of change of speed over time (dv/dt) using the smooth derivative\n",
    "    # Then divide by 9.81 m/s^2 to convert the units from m/s^2 to G-force.\n",
    "    lon_acc = smooth_derivative(physics_df['Time'], v) / 9.81 \n",
    "\n",
    "    # --- 2. Lateral Acceleration (ay) - Requires Heading & Curvature ---\n",
    "    # Calculate the derivative of X and Y positions with respect to DISTANCE (dx/ds, dy/ds)\n",
    "    # These derivatives define the tangent direction (the car's path)\n",
    "    dx = smooth_derivative(physics_df['Distance'], physics_df['X'])\n",
    "    dy = smooth_derivative(physics_df['Distance'], physics_df['Y'])\n",
    "\n",
    "    # Initialize the array to store the car's heading angle (theta)\n",
    "    theta = np.zeros(dx.size)\n",
    "    \n",
    "    # Determine the initial heading angle using atan2\n",
    "    if dx.size > 0 and dy.size > 0:\n",
    "        theta[0] = math.atan2(dy[0], dx[0])\n",
    "    else:\n",
    "        # Return zeros if telemetry is empty or too short\n",
    "        physics_df['Longitudinal_G'] = np.zeros_like(v)\n",
    "        physics_df['Lateral_G'] = np.zeros_like(v)\n",
    "        return physics_df\n",
    "\n",
    "    # Loop to calculate the continuous heading angle (theta)\n",
    "    for i in range(1, dx.size):\n",
    "        # Calculate the raw change in angle from the previous point\n",
    "        delta_angle = math.atan2(dy[i], dx[i]) - theta[i-1]\n",
    "        \n",
    "        # Use transform_to_pipi to \"unwind\" this change, preventing jumps from +180 to -180\n",
    "        unwound_delta, _ = transform_to_pipi(delta_angle)\n",
    "        \n",
    "        # Update the continuous heading angle\n",
    "        theta[i] = theta[i-1] + unwound_delta\n",
    "        \n",
    "    # Curvature (kappa) is the rate of change of the continuous heading (theta) \n",
    "    # with respect to the Distance traveled (d(theta)/ds).\n",
    "    kappa = smooth_derivative(physics_df['Distance'], theta)\n",
    "    \n",
    "    # Lateral Acceleration (ay) is calculated using the centripetal formula:\n",
    "    # ay = v^2 * kappa. This is then converted to G-force.\n",
    "    lat_acc = (v * v * kappa) / 9.81\n",
    "    \n",
    "    # --- 3. Outlier Removal ---\n",
    "    # Apply the final filtering step to remove any extreme, non-physical spikes\n",
    "    physics_df['Longitudinal_G'] = remove_acceleration_outliers(lon_acc)\n",
    "    physics_df['Lateral_G'] = remove_acceleration_outliers(lat_acc)\n",
    "    \n",
    "    return physics_df"
   ]
  },
  {
   "cell_type": "code",
   "execution_count": null,
   "id": "6aebbf4b",
   "metadata": {},
   "outputs": [],
   "source": [
    "def compute_speeds(physics_df, fastest_lap):\n",
    "    # Find max straight speed\n",
    "    max_speed = physics_df['v_m/s'].max()\n",
    "    physics_df['Max_Straight_Speed'] = max_speed\n",
    "\n",
    "    # Find min corner speed\n",
    "    # Define a \"high-G corner\" as the top 5% of all lateral G-forces\n",
    "    HIGH_G_PERCENTILE = 95\n",
    "\n",
    "    g_threshold = np.percentile(abs(physics_df['Lateral_G']), HIGH_G_PERCENTILE)\n",
    "    high_g_corners = physics_df[abs(physics_df['Lateral_G']) >= g_threshold]\n",
    "    min_corner_speed = high_g_corners['v_m/s'].min()\n",
    "    physics_df['Min_Corner_Speed'] = min_corner_speed\n",
    "\n",
    "    # Average lap speed\n",
    "    total_distance_meters = physics_df['Distance'].max()\n",
    "    total_time_seconds = fastest_lap['LapTime'].total_seconds()\n",
    "    avg_speed_lap = total_distance_meters / total_time_seconds\n",
    "    physics_df['Avg_Speed_Lap'] = avg_speed_lap\n",
    "\n",
    "    return physics_df\n"
   ]
  },
  {
   "cell_type": "code",
   "execution_count": 38,
   "id": "7d31920a",
   "metadata": {},
   "outputs": [],
   "source": [
    "def compute_forces(physics_df):\n",
    "    # --- G-Force Features (Peak Performance) ---\n",
    "    # maximum lateral G, car's maximum cornering grip\n",
    "    #physics_df['LatG_max'] = max(abs(physics_df['Lateral_G']))\n",
    "    physics_df['LatG_Max'] = physics_df['Lateral_G'].abs().max()\n",
    "\n",
    "    # minimum longitudinal G, car's maximum braking force\n",
    "    physics_df['LonG_Min'] = physics_df['Longitudinal_G'].min()\n",
    "    # minimum longitudinal G, car's maximum acceleration\n",
    "    physics_df['LonG_Max'] = physics_df['Longitudinal_G'].max()\n",
    "\n",
    "    # --- Aero/Load Features (Setup & Car Characteristics) ---\n",
    "    physics_df['DownForce_Max'] = physics_df['downForce_N'].max()\n",
    "    physics_df['DownForce_Avg'] = physics_df['downForce_N'].mean()\n",
    "    physics_df['DragForce_Max'] = physics_df['dragForce_N'].max()\n",
    "    physics_df['LoadFront_Max'] = physics_df['loadFront_AeroModel_N'].max()\n",
    "    physics_df['LoadRear_Max'] = physics_df['loadRear_AeroModel_N'].max()\n",
    "\n",
    "    return physics_df"
   ]
  },
  {
   "cell_type": "code",
   "execution_count": 16,
   "id": "dc65b454",
   "metadata": {},
   "outputs": [
    {
     "data": {
      "text/plain": [
       "Time                      0 days 01:14:52.170000\n",
       "Driver                                       VER\n",
       "DriverNumber                                   1\n",
       "LapTime                   0 days 00:01:18.792000\n",
       "LapNumber                                   17.0\n",
       "Stint                                        6.0\n",
       "PitOutTime                                   NaT\n",
       "PitInTime                                    NaT\n",
       "Sector1Time               0 days 00:00:26.262000\n",
       "Sector2Time               0 days 00:00:26.483000\n",
       "Sector3Time               0 days 00:00:26.047000\n",
       "Sector1SessionTime        0 days 01:13:59.640000\n",
       "Sector2SessionTime        0 days 01:14:26.123000\n",
       "Sector3SessionTime        0 days 01:14:52.170000\n",
       "SpeedI1                                    327.0\n",
       "SpeedI2                                    340.0\n",
       "SpeedFL                                    315.0\n",
       "SpeedST                                    348.0\n",
       "IsPersonalBest                              True\n",
       "Compound                                    SOFT\n",
       "TyreLife                                     2.0\n",
       "FreshTyre                                   True\n",
       "Team                             Red Bull Racing\n",
       "LapStartTime              0 days 01:13:33.378000\n",
       "LapStartDate          2025-09-06 15:00:53.955000\n",
       "TrackStatus                                    1\n",
       "Position                                     NaN\n",
       "Deleted                                    False\n",
       "DeletedReason                                   \n",
       "FastF1Generated                            False\n",
       "IsAccurate                                  True\n",
       "Name: 16, dtype: object"
      ]
     },
     "execution_count": 16,
     "metadata": {},
     "output_type": "execute_result"
    }
   ],
   "source": [
    "fastest_lap"
   ]
  },
  {
   "cell_type": "code",
   "execution_count": 99,
   "id": "025185fc",
   "metadata": {},
   "outputs": [],
   "source": [
    "def compute_data_df(physics_df, fastest_lap, session, year, location):\n",
    "    lap_features = pd.DataFrame([fastest_lap.to_dict()])\n",
    "    \n",
    "    lap_features['LapTime'] = lap_features['LapTime'].dt.total_seconds()\n",
    "    lap_features['Sector1Time'] = lap_features['Sector1Time'].dt.total_seconds()\n",
    "    lap_features['Sector2Time'] = lap_features['Sector2Time'].dt.total_seconds()\n",
    "    lap_features['Sector3Time'] = lap_features['Sector3Time'].dt.total_seconds()\n",
    "    lap_features['Location'] = location\n",
    "    lap_features['Year'] = year\n",
    "\n",
    "    lap_features['LapStartTime'] = lap_features['Time']\n",
    "    weather = session.weather_data\n",
    "    lap_features = pd.merge_asof(\n",
    "        lap_features,                # Use the new DataFrame\n",
    "        weather,\n",
    "        left_on='LapStartTime', # Column from fl_df\n",
    "        right_on='Time',        # Column from weather\n",
    "        direction='backward'  # Finds weather row *just before* or at LapStartTime\n",
    "    )\n",
    "    lap_features = lap_features.rename(columns={'Time_x': 'Time'})\n",
    "    lap_features = lap_features.drop(columns={'Time_y'})\n",
    "\n",
    "    lap_features = pd.merge(lap_features, circuit_info, on='Location', how='left')\n",
    "    lap_features['EventDate'] = session.event['EventDate']\n",
    "\n",
    "    KEEP_COLS = ['Time', 'Driver', 'DriverNumber', 'Team', 'LapTime', 'LapNumber', 'Stint',\n",
    "                  'Sector1Time', 'Sector2Time', 'Sector3Time', 'Compound', 'TyreLife', 'FreshTyre',\n",
    "                  'AirTemp', 'TrackTemp', 'Rainfall', 'Humidity', 'WindSpeed', 'WindDirection', \n",
    "                  'TrackLenght', 'NumTurns', 'Traction', 'AsphaltGrip', 'AsphaltAbrasion', \n",
    "                  'TrackEvolution', 'TyreStress', 'Braking', 'LateralLoad', 'Downforce', \n",
    "                  'Soft', 'Medium', 'Hard', 'Location', 'Country', 'Year', 'EventDate'\n",
    "                  ]\n",
    "    \n",
    "    lap_features = lap_features[KEEP_COLS]\n",
    "\n",
    "    # --- Speed Features ---\n",
    "    lap_features['Max_Straight_Speed'] = physics_df['v_m/s'].max()\n",
    "    total_distance_meters = physics_df['Distance'].max()\n",
    "    total_time_seconds = fastest_lap['LapTime'].total_seconds()\n",
    "    lap_features['Avg_Lap_Speed'] = total_distance_meters / total_time_seconds\n",
    "\n",
    "    HIGH_G_PERCENTILE = 95\n",
    "    g_threshold = np.percentile(abs(physics_df['Lateral_G']), HIGH_G_PERCENTILE)\n",
    "    high_g_corners = physics_df[abs(physics_df['Lateral_G']) >= g_threshold]\n",
    "    lap_features['Min_Corner_Speed'] = high_g_corners['v_m/s'].min()\n",
    "\n",
    "    # --- G-Force Features (Peak Performance) ---\n",
    "    lap_features['Peak_Cornering_G'] = abs(physics_df['Lateral_G']).max()\n",
    "    lap_features['Peak_Braking_G'] = physics_df['Longitudinal_G'].min()\n",
    "    lap_features['Peak_Acceleration_G'] = physics_df['Longitudinal_G'].max()\n",
    "\n",
    "    # --- Aero/Load Features (Your selected columns) ---\n",
    "    lap_features['Peak_Downforce_N'] = physics_df['downForce_N'].max()\n",
    "    lap_features['Avg_Downforce_N'] = physics_df['downForce_N'].mean()\n",
    "    lap_features['Peak_Drag_N'] = physics_df['dragForce_N'].max()\n",
    "    lap_features['Peak_Front_Load_N'] = physics_df['loadFront_AeroModel_N'].max()\n",
    "    lap_features['Peak_Rear_Load_N'] = physics_df['loadRear_AeroModel_N'].max()\n",
    "\n",
    "    return lap_features\n"
   ]
  },
  {
   "cell_type": "markdown",
   "id": "ef050395",
   "metadata": {},
   "source": [
    "# Building dataframe"
   ]
  },
  {
   "cell_type": "code",
   "execution_count": 20,
   "id": "34ac26cf",
   "metadata": {},
   "outputs": [],
   "source": [
    "YEAR = 2025\n",
    "LOCATION = 'Monza'"
   ]
  },
  {
   "cell_type": "code",
   "execution_count": 100,
   "id": "359dc646",
   "metadata": {},
   "outputs": [],
   "source": [
    "fast_lap_data = fastest_lap[['Driver', 'DriverNumber']]\n",
    "fast_lap_data['Year'] = YEAR\n",
    "fast_lap_data['Location'] = LOCATION\n",
    "fast_lap_data['EventDate'] = session.event['EventDate']\n",
    "\n",
    "# Create a new DataFrame to calcualate data\n",
    "physics_df = telemetry_driver.copy()\n",
    "\n",
    "physics_df = calculate_physics(physics_df)\n",
    "\n",
    "physics_df = compute_accelerations(physics_df)\n",
    "\n",
    "# physics_df = compute_speeds(physics_df, fastest_lap)\n",
    "\n",
    "# physics_df = compute_forces(physics_df)\n",
    "\n",
    "lap_features = compute_data_df(physics_df, fastest_lap, session, YEAR, LOCATION)\n"
   ]
  },
  {
   "cell_type": "code",
   "execution_count": 103,
   "id": "3d8e46e9",
   "metadata": {},
   "outputs": [
    {
     "data": {
      "application/vnd.microsoft.datawrangler.viewer.v0+json": {
       "columns": [
        {
         "name": "index",
         "rawType": "int64",
         "type": "integer"
        },
        {
         "name": "Time",
         "rawType": "timedelta64[ns]",
         "type": "unknown"
        },
        {
         "name": "Driver",
         "rawType": "object",
         "type": "string"
        },
        {
         "name": "DriverNumber",
         "rawType": "object",
         "type": "string"
        },
        {
         "name": "Team",
         "rawType": "object",
         "type": "string"
        },
        {
         "name": "LapTime",
         "rawType": "float64",
         "type": "float"
        },
        {
         "name": "LapNumber",
         "rawType": "float64",
         "type": "float"
        },
        {
         "name": "Stint",
         "rawType": "float64",
         "type": "float"
        },
        {
         "name": "Sector1Time",
         "rawType": "float64",
         "type": "float"
        },
        {
         "name": "Sector2Time",
         "rawType": "float64",
         "type": "float"
        },
        {
         "name": "Sector3Time",
         "rawType": "float64",
         "type": "float"
        },
        {
         "name": "Compound",
         "rawType": "object",
         "type": "string"
        },
        {
         "name": "TyreLife",
         "rawType": "float64",
         "type": "float"
        },
        {
         "name": "FreshTyre",
         "rawType": "bool",
         "type": "boolean"
        },
        {
         "name": "AirTemp",
         "rawType": "float64",
         "type": "float"
        },
        {
         "name": "TrackTemp",
         "rawType": "float64",
         "type": "float"
        },
        {
         "name": "Rainfall",
         "rawType": "bool",
         "type": "boolean"
        },
        {
         "name": "Humidity",
         "rawType": "float64",
         "type": "float"
        },
        {
         "name": "WindSpeed",
         "rawType": "float64",
         "type": "float"
        },
        {
         "name": "WindDirection",
         "rawType": "int64",
         "type": "integer"
        },
        {
         "name": "TrackLenght",
         "rawType": "float64",
         "type": "float"
        },
        {
         "name": "NumTurns",
         "rawType": "int64",
         "type": "integer"
        },
        {
         "name": "Traction",
         "rawType": "int64",
         "type": "integer"
        },
        {
         "name": "AsphaltGrip",
         "rawType": "int64",
         "type": "integer"
        },
        {
         "name": "AsphaltAbrasion",
         "rawType": "int64",
         "type": "integer"
        },
        {
         "name": "TrackEvolution",
         "rawType": "int64",
         "type": "integer"
        },
        {
         "name": "TyreStress",
         "rawType": "int64",
         "type": "integer"
        },
        {
         "name": "Braking",
         "rawType": "int64",
         "type": "integer"
        },
        {
         "name": "LateralLoad",
         "rawType": "int64",
         "type": "integer"
        },
        {
         "name": "Downforce",
         "rawType": "int64",
         "type": "integer"
        },
        {
         "name": "Soft",
         "rawType": "object",
         "type": "string"
        },
        {
         "name": "Medium",
         "rawType": "object",
         "type": "string"
        },
        {
         "name": "Hard",
         "rawType": "object",
         "type": "string"
        },
        {
         "name": "Location",
         "rawType": "object",
         "type": "string"
        },
        {
         "name": "Country",
         "rawType": "object",
         "type": "string"
        },
        {
         "name": "Year",
         "rawType": "int64",
         "type": "integer"
        },
        {
         "name": "EventDate",
         "rawType": "datetime64[ns]",
         "type": "datetime"
        },
        {
         "name": "Max_Straight_Speed",
         "rawType": "float64",
         "type": "float"
        },
        {
         "name": "Avg_Lap_Speed",
         "rawType": "float64",
         "type": "float"
        },
        {
         "name": "Min_Corner_Speed",
         "rawType": "float64",
         "type": "float"
        },
        {
         "name": "Peak_Cornering_G",
         "rawType": "float64",
         "type": "float"
        },
        {
         "name": "Peak_Braking_G",
         "rawType": "float64",
         "type": "float"
        },
        {
         "name": "Peak_Acceleration_G",
         "rawType": "float64",
         "type": "float"
        },
        {
         "name": "Peak_Downforce_N",
         "rawType": "float64",
         "type": "float"
        },
        {
         "name": "Avg_Downforce_N",
         "rawType": "float64",
         "type": "float"
        },
        {
         "name": "Peak_Drag_N",
         "rawType": "float64",
         "type": "float"
        },
        {
         "name": "Peak_Front_Load_N",
         "rawType": "float64",
         "type": "float"
        },
        {
         "name": "Peak_Rear_Load_N",
         "rawType": "float64",
         "type": "float"
        }
       ],
       "ref": "d48d7f6b-469d-4fb5-a5e6-71f61cf07cc0",
       "rows": [
        [
         "0",
         "0 days 01:14:52.170000",
         "VER",
         "1",
         "Red Bull Racing",
         "78.792",
         "17.0",
         "6.0",
         "26.262",
         "26.483",
         "26.047",
         "SOFT",
         "2.0",
         "True",
         "26.6",
         "41.5",
         "False",
         "36.0",
         "1.3",
         "173",
         "5.793",
         "11",
         "3",
         "3",
         "2",
         "4",
         "3",
         "4",
         "2",
         "1",
         "C5",
         "C4",
         "C3",
         "Monza",
         "Italy",
         "2025",
         "2025-09-07 00:00:00",
         "96.66666666666666",
         "73.00147468098086",
         "52.77777777777778",
         "6.662891093813264",
         "-5.4105957160701825",
         "1.9281824860547387",
         "36000.64027777778",
         "22274.462436535516",
         "9729.902777777777",
         "18120.69412295596",
         "27201.10299035399"
        ]
       ],
       "shape": {
        "columns": 47,
        "rows": 1
       }
      },
      "text/html": [
       "<div>\n",
       "<style scoped>\n",
       "    .dataframe tbody tr th:only-of-type {\n",
       "        vertical-align: middle;\n",
       "    }\n",
       "\n",
       "    .dataframe tbody tr th {\n",
       "        vertical-align: top;\n",
       "    }\n",
       "\n",
       "    .dataframe thead th {\n",
       "        text-align: right;\n",
       "    }\n",
       "</style>\n",
       "<table border=\"1\" class=\"dataframe\">\n",
       "  <thead>\n",
       "    <tr style=\"text-align: right;\">\n",
       "      <th></th>\n",
       "      <th>Time</th>\n",
       "      <th>Driver</th>\n",
       "      <th>DriverNumber</th>\n",
       "      <th>Team</th>\n",
       "      <th>LapTime</th>\n",
       "      <th>LapNumber</th>\n",
       "      <th>Stint</th>\n",
       "      <th>Sector1Time</th>\n",
       "      <th>Sector2Time</th>\n",
       "      <th>Sector3Time</th>\n",
       "      <th>...</th>\n",
       "      <th>Avg_Lap_Speed</th>\n",
       "      <th>Min_Corner_Speed</th>\n",
       "      <th>Peak_Cornering_G</th>\n",
       "      <th>Peak_Braking_G</th>\n",
       "      <th>Peak_Acceleration_G</th>\n",
       "      <th>Peak_Downforce_N</th>\n",
       "      <th>Avg_Downforce_N</th>\n",
       "      <th>Peak_Drag_N</th>\n",
       "      <th>Peak_Front_Load_N</th>\n",
       "      <th>Peak_Rear_Load_N</th>\n",
       "    </tr>\n",
       "  </thead>\n",
       "  <tbody>\n",
       "    <tr>\n",
       "      <th>0</th>\n",
       "      <td>0 days 01:14:52.170000</td>\n",
       "      <td>VER</td>\n",
       "      <td>1</td>\n",
       "      <td>Red Bull Racing</td>\n",
       "      <td>78.792</td>\n",
       "      <td>17.0</td>\n",
       "      <td>6.0</td>\n",
       "      <td>26.262</td>\n",
       "      <td>26.483</td>\n",
       "      <td>26.047</td>\n",
       "      <td>...</td>\n",
       "      <td>73.001475</td>\n",
       "      <td>52.777778</td>\n",
       "      <td>6.662891</td>\n",
       "      <td>-5.410596</td>\n",
       "      <td>1.928182</td>\n",
       "      <td>36000.640278</td>\n",
       "      <td>22274.462437</td>\n",
       "      <td>9729.902778</td>\n",
       "      <td>18120.694123</td>\n",
       "      <td>27201.10299</td>\n",
       "    </tr>\n",
       "  </tbody>\n",
       "</table>\n",
       "<p>1 rows × 47 columns</p>\n",
       "</div>"
      ],
      "text/plain": [
       "                    Time Driver DriverNumber             Team  LapTime  \\\n",
       "0 0 days 01:14:52.170000    VER            1  Red Bull Racing   78.792   \n",
       "\n",
       "   LapNumber  Stint  Sector1Time  Sector2Time  Sector3Time  ... Avg_Lap_Speed  \\\n",
       "0       17.0    6.0       26.262       26.483       26.047  ...     73.001475   \n",
       "\n",
       "   Min_Corner_Speed  Peak_Cornering_G  Peak_Braking_G  Peak_Acceleration_G  \\\n",
       "0         52.777778          6.662891       -5.410596             1.928182   \n",
       "\n",
       "   Peak_Downforce_N  Avg_Downforce_N  Peak_Drag_N  Peak_Front_Load_N  \\\n",
       "0      36000.640278     22274.462437  9729.902778       18120.694123   \n",
       "\n",
       "   Peak_Rear_Load_N  \n",
       "0       27201.10299  \n",
       "\n",
       "[1 rows x 47 columns]"
      ]
     },
     "execution_count": 103,
     "metadata": {},
     "output_type": "execute_result"
    }
   ],
   "source": [
    "lap_features"
   ]
  }
 ],
 "metadata": {
  "kernelspec": {
   "display_name": "myenv_mlf1",
   "language": "python",
   "name": "python3"
  },
  "language_info": {
   "codemirror_mode": {
    "name": "ipython",
    "version": 3
   },
   "file_extension": ".py",
   "mimetype": "text/x-python",
   "name": "python",
   "nbconvert_exporter": "python",
   "pygments_lexer": "ipython3",
   "version": "3.12.9"
  }
 },
 "nbformat": 4,
 "nbformat_minor": 5
}
