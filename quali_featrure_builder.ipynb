{
 "cells": [
  {
   "cell_type": "code",
   "execution_count": 1,
   "id": "99e0e433",
   "metadata": {},
   "outputs": [],
   "source": [
    "import fastf1 as ff1\n",
    "from fastf1 import plotting\n",
    "from fastf1.core import Laps\n",
    "\n",
    "import pandas as pd"
   ]
  },
  {
   "cell_type": "code",
   "execution_count": 2,
   "id": "a57218b3",
   "metadata": {},
   "outputs": [],
   "source": [
    "# Enable the cache by providing the name of the cache folder, speed up\n",
    "ff1.Cache.enable_cache('cache')\n",
    "\n",
    "# Setup plotting, setup the plot (bg: black, ...)\n",
    "plotting.setup_mpl()"
   ]
  },
  {
   "cell_type": "code",
   "execution_count": 2,
   "id": "fb63fa09",
   "metadata": {},
   "outputs": [
    {
     "name": "stderr",
     "output_type": "stream",
     "text": [
      "req         WARNING \tDEFAULT CACHE ENABLED! (114.74 KB) C:\\Users\\lucam\\AppData\\Local\\Temp\\fastf1\n"
     ]
    }
   ],
   "source": [
    "schedule = ff1.get_event_schedule(2025)"
   ]
  },
  {
   "cell_type": "code",
   "execution_count": 3,
   "id": "3ea2dcb4",
   "metadata": {},
   "outputs": [
    {
     "data": {
      "text/html": [
       "<div>\n",
       "<style scoped>\n",
       "    .dataframe tbody tr th:only-of-type {\n",
       "        vertical-align: middle;\n",
       "    }\n",
       "\n",
       "    .dataframe tbody tr th {\n",
       "        vertical-align: top;\n",
       "    }\n",
       "\n",
       "    .dataframe thead th {\n",
       "        text-align: right;\n",
       "    }\n",
       "</style>\n",
       "<table border=\"1\" class=\"dataframe\">\n",
       "  <thead>\n",
       "    <tr style=\"text-align: right;\">\n",
       "      <th></th>\n",
       "      <th>RoundNumber</th>\n",
       "      <th>Country</th>\n",
       "      <th>Location</th>\n",
       "      <th>OfficialEventName</th>\n",
       "      <th>EventDate</th>\n",
       "      <th>EventName</th>\n",
       "      <th>EventFormat</th>\n",
       "      <th>Session1</th>\n",
       "      <th>Session1Date</th>\n",
       "      <th>Session1DateUtc</th>\n",
       "      <th>...</th>\n",
       "      <th>Session3</th>\n",
       "      <th>Session3Date</th>\n",
       "      <th>Session3DateUtc</th>\n",
       "      <th>Session4</th>\n",
       "      <th>Session4Date</th>\n",
       "      <th>Session4DateUtc</th>\n",
       "      <th>Session5</th>\n",
       "      <th>Session5Date</th>\n",
       "      <th>Session5DateUtc</th>\n",
       "      <th>F1ApiSupport</th>\n",
       "    </tr>\n",
       "  </thead>\n",
       "  <tbody>\n",
       "    <tr>\n",
       "      <th>1</th>\n",
       "      <td>1</td>\n",
       "      <td>Australia</td>\n",
       "      <td>Melbourne</td>\n",
       "      <td>FORMULA 1 LOUIS VUITTON AUSTRALIAN GRAND PRIX ...</td>\n",
       "      <td>2025-03-16</td>\n",
       "      <td>Australian Grand Prix</td>\n",
       "      <td>conventional</td>\n",
       "      <td>Practice 1</td>\n",
       "      <td>2025-03-14 12:30:00+11:00</td>\n",
       "      <td>2025-03-14 01:30:00</td>\n",
       "      <td>...</td>\n",
       "      <td>Practice 3</td>\n",
       "      <td>2025-03-15 12:30:00+11:00</td>\n",
       "      <td>2025-03-15 01:30:00</td>\n",
       "      <td>Qualifying</td>\n",
       "      <td>2025-03-15 16:00:00+11:00</td>\n",
       "      <td>2025-03-15 05:00:00</td>\n",
       "      <td>Race</td>\n",
       "      <td>2025-03-16 15:00:00+11:00</td>\n",
       "      <td>2025-03-16 04:00:00</td>\n",
       "      <td>True</td>\n",
       "    </tr>\n",
       "    <tr>\n",
       "      <th>2</th>\n",
       "      <td>2</td>\n",
       "      <td>China</td>\n",
       "      <td>Shanghai</td>\n",
       "      <td>FORMULA 1 HEINEKEN CHINESE GRAND PRIX 2025</td>\n",
       "      <td>2025-03-23</td>\n",
       "      <td>Chinese Grand Prix</td>\n",
       "      <td>sprint_qualifying</td>\n",
       "      <td>Practice 1</td>\n",
       "      <td>2025-03-21 11:30:00+08:00</td>\n",
       "      <td>2025-03-21 03:30:00</td>\n",
       "      <td>...</td>\n",
       "      <td>Sprint</td>\n",
       "      <td>2025-03-22 11:00:00+08:00</td>\n",
       "      <td>2025-03-22 03:00:00</td>\n",
       "      <td>Qualifying</td>\n",
       "      <td>2025-03-22 15:00:00+08:00</td>\n",
       "      <td>2025-03-22 07:00:00</td>\n",
       "      <td>Race</td>\n",
       "      <td>2025-03-23 15:00:00+08:00</td>\n",
       "      <td>2025-03-23 07:00:00</td>\n",
       "      <td>True</td>\n",
       "    </tr>\n",
       "    <tr>\n",
       "      <th>3</th>\n",
       "      <td>3</td>\n",
       "      <td>Japan</td>\n",
       "      <td>Suzuka</td>\n",
       "      <td>FORMULA 1 LENOVO JAPANESE GRAND PRIX 2025</td>\n",
       "      <td>2025-04-06</td>\n",
       "      <td>Japanese Grand Prix</td>\n",
       "      <td>conventional</td>\n",
       "      <td>Practice 1</td>\n",
       "      <td>2025-04-04 11:30:00+09:00</td>\n",
       "      <td>2025-04-04 02:30:00</td>\n",
       "      <td>...</td>\n",
       "      <td>Practice 3</td>\n",
       "      <td>2025-04-05 11:30:00+09:00</td>\n",
       "      <td>2025-04-05 02:30:00</td>\n",
       "      <td>Qualifying</td>\n",
       "      <td>2025-04-05 15:00:00+09:00</td>\n",
       "      <td>2025-04-05 06:00:00</td>\n",
       "      <td>Race</td>\n",
       "      <td>2025-04-06 14:00:00+09:00</td>\n",
       "      <td>2025-04-06 05:00:00</td>\n",
       "      <td>True</td>\n",
       "    </tr>\n",
       "    <tr>\n",
       "      <th>4</th>\n",
       "      <td>4</td>\n",
       "      <td>Bahrain</td>\n",
       "      <td>Sakhir</td>\n",
       "      <td>FORMULA 1 GULF AIR BAHRAIN GRAND PRIX 2025</td>\n",
       "      <td>2025-04-13</td>\n",
       "      <td>Bahrain Grand Prix</td>\n",
       "      <td>conventional</td>\n",
       "      <td>Practice 1</td>\n",
       "      <td>2025-04-11 14:30:00+03:00</td>\n",
       "      <td>2025-04-11 11:30:00</td>\n",
       "      <td>...</td>\n",
       "      <td>Practice 3</td>\n",
       "      <td>2025-04-12 15:30:00+03:00</td>\n",
       "      <td>2025-04-12 12:30:00</td>\n",
       "      <td>Qualifying</td>\n",
       "      <td>2025-04-12 19:00:00+03:00</td>\n",
       "      <td>2025-04-12 16:00:00</td>\n",
       "      <td>Race</td>\n",
       "      <td>2025-04-13 18:00:00+03:00</td>\n",
       "      <td>2025-04-13 15:00:00</td>\n",
       "      <td>True</td>\n",
       "    </tr>\n",
       "  </tbody>\n",
       "</table>\n",
       "<p>4 rows × 23 columns</p>\n",
       "</div>"
      ],
      "text/plain": [
       "   RoundNumber    Country   Location  \\\n",
       "1            1  Australia  Melbourne   \n",
       "2            2      China   Shanghai   \n",
       "3            3      Japan     Suzuka   \n",
       "4            4    Bahrain     Sakhir   \n",
       "\n",
       "                                   OfficialEventName  EventDate  \\\n",
       "1  FORMULA 1 LOUIS VUITTON AUSTRALIAN GRAND PRIX ... 2025-03-16   \n",
       "2         FORMULA 1 HEINEKEN CHINESE GRAND PRIX 2025 2025-03-23   \n",
       "3         FORMULA 1 LENOVO JAPANESE GRAND PRIX 2025  2025-04-06   \n",
       "4         FORMULA 1 GULF AIR BAHRAIN GRAND PRIX 2025 2025-04-13   \n",
       "\n",
       "               EventName        EventFormat    Session1  \\\n",
       "1  Australian Grand Prix       conventional  Practice 1   \n",
       "2     Chinese Grand Prix  sprint_qualifying  Practice 1   \n",
       "3    Japanese Grand Prix       conventional  Practice 1   \n",
       "4     Bahrain Grand Prix       conventional  Practice 1   \n",
       "\n",
       "                Session1Date     Session1DateUtc  ...    Session3  \\\n",
       "1  2025-03-14 12:30:00+11:00 2025-03-14 01:30:00  ...  Practice 3   \n",
       "2  2025-03-21 11:30:00+08:00 2025-03-21 03:30:00  ...      Sprint   \n",
       "3  2025-04-04 11:30:00+09:00 2025-04-04 02:30:00  ...  Practice 3   \n",
       "4  2025-04-11 14:30:00+03:00 2025-04-11 11:30:00  ...  Practice 3   \n",
       "\n",
       "                Session3Date     Session3DateUtc    Session4  \\\n",
       "1  2025-03-15 12:30:00+11:00 2025-03-15 01:30:00  Qualifying   \n",
       "2  2025-03-22 11:00:00+08:00 2025-03-22 03:00:00  Qualifying   \n",
       "3  2025-04-05 11:30:00+09:00 2025-04-05 02:30:00  Qualifying   \n",
       "4  2025-04-12 15:30:00+03:00 2025-04-12 12:30:00  Qualifying   \n",
       "\n",
       "                Session4Date     Session4DateUtc Session5  \\\n",
       "1  2025-03-15 16:00:00+11:00 2025-03-15 05:00:00     Race   \n",
       "2  2025-03-22 15:00:00+08:00 2025-03-22 07:00:00     Race   \n",
       "3  2025-04-05 15:00:00+09:00 2025-04-05 06:00:00     Race   \n",
       "4  2025-04-12 19:00:00+03:00 2025-04-12 16:00:00     Race   \n",
       "\n",
       "                Session5Date     Session5DateUtc F1ApiSupport  \n",
       "1  2025-03-16 15:00:00+11:00 2025-03-16 04:00:00         True  \n",
       "2  2025-03-23 15:00:00+08:00 2025-03-23 07:00:00         True  \n",
       "3  2025-04-06 14:00:00+09:00 2025-04-06 05:00:00         True  \n",
       "4  2025-04-13 18:00:00+03:00 2025-04-13 15:00:00         True  \n",
       "\n",
       "[4 rows x 23 columns]"
      ]
     },
     "execution_count": 3,
     "metadata": {},
     "output_type": "execute_result"
    }
   ],
   "source": [
    "schedule[1:5]"
   ]
  },
  {
   "cell_type": "code",
   "execution_count": 4,
   "id": "54b11177",
   "metadata": {},
   "outputs": [],
   "source": [
    "seasons = [2025, 2024, 2023]\n",
    "\n",
    "all_schedules = []\n",
    "\n",
    "for y in seasons:\n",
    "    schedule = ff1.get_event_schedule(y)\n",
    "    all_schedules.append(schedule[1:])\n",
    "\n",
    "combined = pd.concat(all_schedules, ignore_index=True)\n",
    "unique_circuits = combined.drop_duplicates(subset='Location', keep='first')\n",
    "\n",
    "unique_circuits = unique_circuits[['Country', 'Location', 'EventName', 'EventDate']]\n"
   ]
  },
  {
   "cell_type": "code",
   "execution_count": 5,
   "id": "4da45e9d",
   "metadata": {},
   "outputs": [
    {
     "data": {
      "text/html": [
       "<div>\n",
       "<style scoped>\n",
       "    .dataframe tbody tr th:only-of-type {\n",
       "        vertical-align: middle;\n",
       "    }\n",
       "\n",
       "    .dataframe tbody tr th {\n",
       "        vertical-align: top;\n",
       "    }\n",
       "\n",
       "    .dataframe thead th {\n",
       "        text-align: right;\n",
       "    }\n",
       "</style>\n",
       "<table border=\"1\" class=\"dataframe\">\n",
       "  <thead>\n",
       "    <tr style=\"text-align: right;\">\n",
       "      <th></th>\n",
       "      <th>Country</th>\n",
       "      <th>Location</th>\n",
       "      <th>EventName</th>\n",
       "      <th>EventDate</th>\n",
       "    </tr>\n",
       "  </thead>\n",
       "  <tbody>\n",
       "    <tr>\n",
       "      <th>0</th>\n",
       "      <td>Australia</td>\n",
       "      <td>Melbourne</td>\n",
       "      <td>Australian Grand Prix</td>\n",
       "      <td>2025-03-16</td>\n",
       "    </tr>\n",
       "    <tr>\n",
       "      <th>1</th>\n",
       "      <td>China</td>\n",
       "      <td>Shanghai</td>\n",
       "      <td>Chinese Grand Prix</td>\n",
       "      <td>2025-03-23</td>\n",
       "    </tr>\n",
       "    <tr>\n",
       "      <th>2</th>\n",
       "      <td>Japan</td>\n",
       "      <td>Suzuka</td>\n",
       "      <td>Japanese Grand Prix</td>\n",
       "      <td>2025-04-06</td>\n",
       "    </tr>\n",
       "    <tr>\n",
       "      <th>3</th>\n",
       "      <td>Bahrain</td>\n",
       "      <td>Sakhir</td>\n",
       "      <td>Bahrain Grand Prix</td>\n",
       "      <td>2025-04-13</td>\n",
       "    </tr>\n",
       "    <tr>\n",
       "      <th>4</th>\n",
       "      <td>Saudi Arabia</td>\n",
       "      <td>Jeddah</td>\n",
       "      <td>Saudi Arabian Grand Prix</td>\n",
       "      <td>2025-04-20</td>\n",
       "    </tr>\n",
       "    <tr>\n",
       "      <th>5</th>\n",
       "      <td>United States</td>\n",
       "      <td>Miami Gardens</td>\n",
       "      <td>Miami Grand Prix</td>\n",
       "      <td>2025-05-04</td>\n",
       "    </tr>\n",
       "    <tr>\n",
       "      <th>6</th>\n",
       "      <td>Italy</td>\n",
       "      <td>Imola</td>\n",
       "      <td>Emilia Romagna Grand Prix</td>\n",
       "      <td>2025-05-18</td>\n",
       "    </tr>\n",
       "    <tr>\n",
       "      <th>7</th>\n",
       "      <td>Monaco</td>\n",
       "      <td>Monaco</td>\n",
       "      <td>Monaco Grand Prix</td>\n",
       "      <td>2025-05-25</td>\n",
       "    </tr>\n",
       "    <tr>\n",
       "      <th>8</th>\n",
       "      <td>Spain</td>\n",
       "      <td>Barcelona</td>\n",
       "      <td>Spanish Grand Prix</td>\n",
       "      <td>2025-06-01</td>\n",
       "    </tr>\n",
       "    <tr>\n",
       "      <th>9</th>\n",
       "      <td>Canada</td>\n",
       "      <td>Montréal</td>\n",
       "      <td>Canadian Grand Prix</td>\n",
       "      <td>2025-06-15</td>\n",
       "    </tr>\n",
       "    <tr>\n",
       "      <th>10</th>\n",
       "      <td>Austria</td>\n",
       "      <td>Spielberg</td>\n",
       "      <td>Austrian Grand Prix</td>\n",
       "      <td>2025-06-29</td>\n",
       "    </tr>\n",
       "    <tr>\n",
       "      <th>11</th>\n",
       "      <td>United Kingdom</td>\n",
       "      <td>Silverstone</td>\n",
       "      <td>British Grand Prix</td>\n",
       "      <td>2025-07-06</td>\n",
       "    </tr>\n",
       "    <tr>\n",
       "      <th>12</th>\n",
       "      <td>Belgium</td>\n",
       "      <td>Spa-Francorchamps</td>\n",
       "      <td>Belgian Grand Prix</td>\n",
       "      <td>2025-07-27</td>\n",
       "    </tr>\n",
       "    <tr>\n",
       "      <th>13</th>\n",
       "      <td>Hungary</td>\n",
       "      <td>Budapest</td>\n",
       "      <td>Hungarian Grand Prix</td>\n",
       "      <td>2025-08-03</td>\n",
       "    </tr>\n",
       "    <tr>\n",
       "      <th>14</th>\n",
       "      <td>Netherlands</td>\n",
       "      <td>Zandvoort</td>\n",
       "      <td>Dutch Grand Prix</td>\n",
       "      <td>2025-08-31</td>\n",
       "    </tr>\n",
       "    <tr>\n",
       "      <th>15</th>\n",
       "      <td>Italy</td>\n",
       "      <td>Monza</td>\n",
       "      <td>Italian Grand Prix</td>\n",
       "      <td>2025-09-07</td>\n",
       "    </tr>\n",
       "    <tr>\n",
       "      <th>16</th>\n",
       "      <td>Azerbaijan</td>\n",
       "      <td>Baku</td>\n",
       "      <td>Azerbaijan Grand Prix</td>\n",
       "      <td>2025-09-21</td>\n",
       "    </tr>\n",
       "    <tr>\n",
       "      <th>17</th>\n",
       "      <td>Singapore</td>\n",
       "      <td>Marina Bay</td>\n",
       "      <td>Singapore Grand Prix</td>\n",
       "      <td>2025-10-05</td>\n",
       "    </tr>\n",
       "    <tr>\n",
       "      <th>18</th>\n",
       "      <td>United States</td>\n",
       "      <td>Austin</td>\n",
       "      <td>United States Grand Prix</td>\n",
       "      <td>2025-10-19</td>\n",
       "    </tr>\n",
       "    <tr>\n",
       "      <th>19</th>\n",
       "      <td>Mexico</td>\n",
       "      <td>Mexico City</td>\n",
       "      <td>Mexico City Grand Prix</td>\n",
       "      <td>2025-10-26</td>\n",
       "    </tr>\n",
       "    <tr>\n",
       "      <th>20</th>\n",
       "      <td>Brazil</td>\n",
       "      <td>São Paulo</td>\n",
       "      <td>São Paulo Grand Prix</td>\n",
       "      <td>2025-11-09</td>\n",
       "    </tr>\n",
       "    <tr>\n",
       "      <th>21</th>\n",
       "      <td>United States</td>\n",
       "      <td>Las Vegas</td>\n",
       "      <td>Las Vegas Grand Prix</td>\n",
       "      <td>2025-11-22</td>\n",
       "    </tr>\n",
       "    <tr>\n",
       "      <th>22</th>\n",
       "      <td>Qatar</td>\n",
       "      <td>Lusail</td>\n",
       "      <td>Qatar Grand Prix</td>\n",
       "      <td>2025-11-30</td>\n",
       "    </tr>\n",
       "    <tr>\n",
       "      <th>23</th>\n",
       "      <td>United Arab Emirates</td>\n",
       "      <td>Yas Island</td>\n",
       "      <td>Abu Dhabi Grand Prix</td>\n",
       "      <td>2025-12-07</td>\n",
       "    </tr>\n",
       "  </tbody>\n",
       "</table>\n",
       "</div>"
      ],
      "text/plain": [
       "                 Country           Location                  EventName  \\\n",
       "0              Australia          Melbourne      Australian Grand Prix   \n",
       "1                  China           Shanghai         Chinese Grand Prix   \n",
       "2                  Japan             Suzuka        Japanese Grand Prix   \n",
       "3                Bahrain             Sakhir         Bahrain Grand Prix   \n",
       "4           Saudi Arabia             Jeddah   Saudi Arabian Grand Prix   \n",
       "5          United States      Miami Gardens           Miami Grand Prix   \n",
       "6                  Italy              Imola  Emilia Romagna Grand Prix   \n",
       "7                 Monaco             Monaco          Monaco Grand Prix   \n",
       "8                  Spain          Barcelona         Spanish Grand Prix   \n",
       "9                 Canada           Montréal        Canadian Grand Prix   \n",
       "10               Austria          Spielberg        Austrian Grand Prix   \n",
       "11        United Kingdom        Silverstone         British Grand Prix   \n",
       "12               Belgium  Spa-Francorchamps         Belgian Grand Prix   \n",
       "13               Hungary           Budapest       Hungarian Grand Prix   \n",
       "14           Netherlands          Zandvoort           Dutch Grand Prix   \n",
       "15                 Italy              Monza         Italian Grand Prix   \n",
       "16            Azerbaijan               Baku      Azerbaijan Grand Prix   \n",
       "17             Singapore         Marina Bay       Singapore Grand Prix   \n",
       "18         United States             Austin   United States Grand Prix   \n",
       "19                Mexico        Mexico City     Mexico City Grand Prix   \n",
       "20                Brazil          São Paulo       São Paulo Grand Prix   \n",
       "21         United States          Las Vegas       Las Vegas Grand Prix   \n",
       "22                 Qatar             Lusail           Qatar Grand Prix   \n",
       "23  United Arab Emirates         Yas Island       Abu Dhabi Grand Prix   \n",
       "\n",
       "    EventDate  \n",
       "0  2025-03-16  \n",
       "1  2025-03-23  \n",
       "2  2025-04-06  \n",
       "3  2025-04-13  \n",
       "4  2025-04-20  \n",
       "5  2025-05-04  \n",
       "6  2025-05-18  \n",
       "7  2025-05-25  \n",
       "8  2025-06-01  \n",
       "9  2025-06-15  \n",
       "10 2025-06-29  \n",
       "11 2025-07-06  \n",
       "12 2025-07-27  \n",
       "13 2025-08-03  \n",
       "14 2025-08-31  \n",
       "15 2025-09-07  \n",
       "16 2025-09-21  \n",
       "17 2025-10-05  \n",
       "18 2025-10-19  \n",
       "19 2025-10-26  \n",
       "20 2025-11-09  \n",
       "21 2025-11-22  \n",
       "22 2025-11-30  \n",
       "23 2025-12-07  "
      ]
     },
     "execution_count": 5,
     "metadata": {},
     "output_type": "execute_result"
    }
   ],
   "source": [
    "unique_circuits[:-1]"
   ]
  },
  {
   "cell_type": "code",
   "execution_count": 6,
   "id": "3042414b",
   "metadata": {},
   "outputs": [],
   "source": [
    "unique_circuits[:-1].to_csv('f1_unique_circuits.csv', index=False)"
   ]
  },
  {
   "cell_type": "code",
   "execution_count": 23,
   "id": "dd4b65db",
   "metadata": {},
   "outputs": [
    {
     "name": "stderr",
     "output_type": "stream",
     "text": [
      "core           INFO \tLoading data for Miami Grand Prix - Qualifying [v3.6.1]\n",
      "req            INFO \tNo cached data found for session_info. Loading data...\n",
      "_api           INFO \tFetching session info data...\n",
      "req            INFO \tData has been written to cache!\n",
      "req            INFO \tNo cached data found for driver_info. Loading data...\n",
      "_api           INFO \tFetching driver list...\n",
      "req            INFO \tData has been written to cache!\n",
      "logger      WARNING \tFailed to load result data from Ergast!\n",
      "core        WARNING \tNo result data for this session available on Ergast! (This is expected for recent sessions)\n",
      "req            INFO \tNo cached data found for session_status_data. Loading data...\n",
      "_api           INFO \tFetching session status data...\n",
      "req            INFO \tData has been written to cache!\n",
      "req            INFO \tNo cached data found for track_status_data. Loading data...\n",
      "_api           INFO \tFetching track status data...\n",
      "req            INFO \tData has been written to cache!\n",
      "req            INFO \tNo cached data found for _extended_timing_data. Loading data...\n",
      "_api           INFO \tFetching timing data...\n",
      "_api           INFO \tParsing timing data...\n",
      "req            INFO \tData has been written to cache!\n",
      "req            INFO \tNo cached data found for timing_app_data. Loading data...\n",
      "_api           INFO \tFetching timing app data...\n",
      "req            INFO \tData has been written to cache!\n",
      "core           INFO \tProcessing timing data...\n",
      "req            INFO \tNo cached data found for car_data. Loading data...\n",
      "_api           INFO \tFetching car data...\n",
      "_api           INFO \tParsing car data...\n",
      "req            INFO \tData has been written to cache!\n",
      "req            INFO \tNo cached data found for position_data. Loading data...\n",
      "_api           INFO \tFetching position data...\n",
      "_api           INFO \tParsing position data...\n",
      "req            INFO \tData has been written to cache!\n",
      "req            INFO \tNo cached data found for weather_data. Loading data...\n",
      "_api           INFO \tFetching weather data...\n",
      "req            INFO \tData has been written to cache!\n",
      "req            INFO \tNo cached data found for race_control_messages. Loading data...\n",
      "_api           INFO \tFetching race control messages...\n",
      "req            INFO \tData has been written to cache!\n",
      "core           INFO \tFinished loading data for 20 drivers: ['1', '4', '12', '81', '63', '55', '23', '16', '31', '22', '6', '44', '5', '7', '30', '27', '14', '10', '18', '87']\n"
     ]
    }
   ],
   "source": [
    "session = ff1.get_session(2025, \"Miami\", \"Q\")\n",
    "session.load()"
   ]
  },
  {
   "cell_type": "code",
   "execution_count": 6,
   "id": "b8a5ffe1",
   "metadata": {},
   "outputs": [],
   "source": [
    "FILE_CIRCUITS = 'f1_unique_circuits_complete.csv'\n",
    "\n",
    "circuit_info = pd.read_csv(FILE_CIRCUITS, delimiter=\",\")"
   ]
  },
  {
   "cell_type": "code",
   "execution_count": 28,
   "id": "5ca266b1",
   "metadata": {},
   "outputs": [
    {
     "data": {
      "text/plain": [
       "<bound method DataFrame.info of                  Country           Location                  EventName  \\\n",
       "0              Australia          Melbourne      Australian Grand Prix   \n",
       "1                  China           Shanghai         Chinese Grand Prix   \n",
       "2                  Japan             Suzuka        Japanese Grand Prix   \n",
       "3                Bahrain             Sakhir         Bahrain Grand Prix   \n",
       "4           Saudi Arabia             Jeddah   Saudi Arabian Grand Prix   \n",
       "5          United States              Miami           Miami Grand Prix   \n",
       "6                  Italy              Imola  Emilia Romagna Grand Prix   \n",
       "7                 Monaco             Monaco          Monaco Grand Prix   \n",
       "8                  Spain          Barcelona         Spanish Grand Prix   \n",
       "9                 Canada           Montréal        Canadian Grand Prix   \n",
       "10               Austria          Spielberg        Austrian Grand Prix   \n",
       "11        United Kingdom        Silverstone         British Grand Prix   \n",
       "12               Belgium  Spa-Francorchamps         Belgian Grand Prix   \n",
       "13               Hungary           Budapest       Hungarian Grand Prix   \n",
       "14           Netherlands          Zandvoort           Dutch Grand Prix   \n",
       "15                 Italy              Monza         Italian Grand Prix   \n",
       "16            Azerbaijan               Baku      Azerbaijan Grand Prix   \n",
       "17             Singapore         Marina Bay       Singapore Grand Prix   \n",
       "18         United States             Austin   United States Grand Prix   \n",
       "19                Mexico        Mexico City     Mexico City Grand Prix   \n",
       "20                Brazil          São Paulo       São Paulo Grand Prix   \n",
       "21         United States          Las Vegas       Las Vegas Grand Prix   \n",
       "22                 Qatar             Lusail           Qatar Grand Prix   \n",
       "23  United Arab Emirates         Yas Island       Abu Dhabi Grand Prix   \n",
       "\n",
       "     EventDate  TrackLenght  NumTurns  RaceDistance  NumLaps  Taction  \\\n",
       "0   2025-03-16        5.278        14       306.124       58        2   \n",
       "1   2025-03-23        5.451        16       305.066       56        3   \n",
       "2   2025-04-06        5.807        18       307.471       53        3   \n",
       "3   2025-04-13        5.412        15       308.238       57        4   \n",
       "4   2025-04-20        6.174        27       308.450       50        2   \n",
       "5   2025-05-04        5.412        19       308.326       57        3   \n",
       "6   2025-05-18        4.909        19       309.049       63        2   \n",
       "7   2025-05-25        3.337        19       260.286       78        5   \n",
       "8   2025-06-01        4.657        16       307.236       66        3   \n",
       "9   2025-06-15        4.361        14       305.270       70        4   \n",
       "10  2025-06-29        4.318        10       306.452       71        2   \n",
       "11  2025-07-06        5.891        18       306.198       52        3   \n",
       "12  2025-07-27        7.004        19       308.052       44        4   \n",
       "13  2025-08-03        4.381        14       306.630       70        4   \n",
       "14  2025-08-31        4.259        14       306.587       72        3   \n",
       "15  2025-09-07        5.793        11       306.720       53        3   \n",
       "16  2025-09-21        6.003        20       306.049       51        5   \n",
       "17  2025-10-05        4.940        19       306.143       62        4   \n",
       "18  2025-10-19        5.513        20       308.728       56        4   \n",
       "19  2025-10-26        4.304        17       305.354       71        3   \n",
       "20  2025-11-09        4.309        15       305.879       71        3   \n",
       "21  2025-11-22        6.201        17       309.958       50        2   \n",
       "22  2025-11-30        5.419        16       308.611       57        3   \n",
       "23  2025-12-07        5.281        16       306.183       58        4   \n",
       "\n",
       "    AsphaltGrip  AsphaltAbrasion  TrackEvolution  TyreStress  Braking  \\\n",
       "0             2                2               3           3        2   \n",
       "1             3                3               5           4        4   \n",
       "2             4                4               3           5        2   \n",
       "3             3                5               4           3        4   \n",
       "4             4                2               4           3        3   \n",
       "5             4                2               5           3        3   \n",
       "6             2                2               2           3        3   \n",
       "7             2                1               5           1        2   \n",
       "8             3                4               3           5        3   \n",
       "9             2                1               5           3        5   \n",
       "10            3                3               3           3        3   \n",
       "11            4                2               2           5        2   \n",
       "12            3                3               3           5        4   \n",
       "13            3                3               4           3        3   \n",
       "14            3                3               4           5        3   \n",
       "15            3                2               4           3        4   \n",
       "16            2                1               5           3        4   \n",
       "17            3                3               5           2        5   \n",
       "18            3                3               4           4        3   \n",
       "19            2                2               5           2        3   \n",
       "20            3                2               5           3        3   \n",
       "21            1                2               5           4        3   \n",
       "22            3                2               4           5        3   \n",
       "23            3                3               4           3        4   \n",
       "\n",
       "    LateralLoad  Downforce Soft Medium Hard  \n",
       "0             3          3   C5     C4   C3  \n",
       "1             4          3   C4     C3   C2  \n",
       "2             5          4   C3     C2   C1  \n",
       "3             3          3   C3     C2   C1  \n",
       "4             4          2   C5     C4   C3  \n",
       "5             3          3   C5     C4   C3  \n",
       "6             3          3   C6     C5   C4  \n",
       "7             1          5   C6     C5   C4  \n",
       "8             5          4   C3     C2   C1  \n",
       "9             1          1   C6     C5   C4  \n",
       "10            3          3   C5     C4   C3  \n",
       "11            5          4   C4     C3   C2  \n",
       "12            5          2   C4     C3   C2  \n",
       "13            3          5   C5     C4   C3  \n",
       "14            4          4   C4     C3   C2  \n",
       "15            2          1   C5     C4   C3  \n",
       "16            1          2   C6     C5   C4  \n",
       "17            2          5   C5     C4   C3  \n",
       "18            4          4   C4     C3   C1  \n",
       "19            2          5   C5     C4   C3  \n",
       "20            3          4   C5     C4   C3  \n",
       "21            2          1   C5     C4   C3  \n",
       "22            5          4   C3     C2   C1  \n",
       "23            3          3   C5     C4   C3  >"
      ]
     },
     "execution_count": 28,
     "metadata": {},
     "output_type": "execute_result"
    }
   ],
   "source": [
    "circuit_info.info"
   ]
  },
  {
   "cell_type": "code",
   "execution_count": 29,
   "id": "c176e467",
   "metadata": {},
   "outputs": [
    {
     "data": {
      "text/plain": [
       "0             Melbourne\n",
       "1              Shanghai\n",
       "2                Suzuka\n",
       "3                Sakhir\n",
       "4                Jeddah\n",
       "5                 Miami\n",
       "6                 Imola\n",
       "7                Monaco\n",
       "8             Barcelona\n",
       "9              Montréal\n",
       "10            Spielberg\n",
       "11          Silverstone\n",
       "12    Spa-Francorchamps\n",
       "13             Budapest\n",
       "14            Zandvoort\n",
       "15                Monza\n",
       "16                 Baku\n",
       "17           Marina Bay\n",
       "18               Austin\n",
       "19          Mexico City\n",
       "20            São Paulo\n",
       "21            Las Vegas\n",
       "22               Lusail\n",
       "23           Yas Island\n",
       "Name: Location, dtype: object"
      ]
     },
     "execution_count": 29,
     "metadata": {},
     "output_type": "execute_result"
    }
   ],
   "source": [
    "circuit_info['Location']"
   ]
  },
  {
   "cell_type": "code",
   "execution_count": 4,
   "id": "b39b4d18",
   "metadata": {},
   "outputs": [],
   "source": [
    "import logging\n",
    "logging.getLogger('fastf1').setLevel(logging.WARNING)"
   ]
  },
  {
   "cell_type": "code",
   "execution_count": null,
   "id": "f9013752",
   "metadata": {},
   "outputs": [
    {
     "name": "stderr",
     "output_type": "stream",
     "text": [
      "logger      WARNING \tFailed to load schedule from FastF1 backend!\n",
      "core        WARNING \tFixed incorrect tyre stint information for driver '4'\n"
     ]
    },
    {
     "name": "stdout",
     "output_type": "stream",
     "text": [
      "Melbourne    2025\n"
     ]
    },
    {
     "name": "stderr",
     "output_type": "stream",
     "text": [
      "logger      WARNING \tFailed to load schedule from FastF1 backend!\n"
     ]
    },
    {
     "name": "stdout",
     "output_type": "stream",
     "text": [
      "Shanghai    2025\n"
     ]
    },
    {
     "name": "stderr",
     "output_type": "stream",
     "text": [
      "logger      WARNING \tFailed to load schedule from FastF1 backend!\n"
     ]
    },
    {
     "name": "stdout",
     "output_type": "stream",
     "text": [
      "Suzuka    2025\n"
     ]
    },
    {
     "name": "stderr",
     "output_type": "stream",
     "text": [
      "logger      WARNING \tFailed to load schedule from FastF1 backend!\n"
     ]
    },
    {
     "name": "stdout",
     "output_type": "stream",
     "text": [
      "Sakhir    2025\n"
     ]
    },
    {
     "name": "stderr",
     "output_type": "stream",
     "text": [
      "logger      WARNING \tFailed to load schedule from FastF1 backend!\n"
     ]
    },
    {
     "name": "stdout",
     "output_type": "stream",
     "text": [
      "Jeddah    2025\n"
     ]
    },
    {
     "name": "stderr",
     "output_type": "stream",
     "text": [
      "core        WARNING \tFixed incorrect tyre stint information for driver '5'\n",
      "logger      WARNING \tFailed to load schedule from FastF1 backend!\n"
     ]
    },
    {
     "name": "stdout",
     "output_type": "stream",
     "text": [
      "Miami    2025\n"
     ]
    },
    {
     "name": "stderr",
     "output_type": "stream",
     "text": [
      "logger      WARNING \tFailed to load schedule from FastF1 backend!\n"
     ]
    },
    {
     "name": "stdout",
     "output_type": "stream",
     "text": [
      "Imola    2025\n"
     ]
    },
    {
     "name": "stderr",
     "output_type": "stream",
     "text": [
      "logger      WARNING \tFailed to load schedule from FastF1 backend!\n"
     ]
    },
    {
     "name": "stdout",
     "output_type": "stream",
     "text": [
      "Monaco    2025\n"
     ]
    },
    {
     "name": "stderr",
     "output_type": "stream",
     "text": [
      "logger      WARNING \tFailed to load schedule from FastF1 backend!\n"
     ]
    },
    {
     "name": "stdout",
     "output_type": "stream",
     "text": [
      "Barcelona    2025\n"
     ]
    },
    {
     "name": "stderr",
     "output_type": "stream",
     "text": [
      "logger      WARNING \tFailed to load schedule from FastF1 backend!\n"
     ]
    },
    {
     "name": "stdout",
     "output_type": "stream",
     "text": [
      "Montréal    2025\n"
     ]
    },
    {
     "name": "stderr",
     "output_type": "stream",
     "text": [
      "logger      WARNING \tFailed to load schedule from FastF1 backend!\n",
      "core        WARNING \tFixed incorrect tyre stint information for driver '16'\n",
      "core        WARNING \tFixed incorrect tyre stint information for driver '1'\n"
     ]
    },
    {
     "name": "stdout",
     "output_type": "stream",
     "text": [
      "Spielberg    2025\n"
     ]
    },
    {
     "name": "stderr",
     "output_type": "stream",
     "text": [
      "core        WARNING \tFixed incorrect tyre stint information for driver '5'\n",
      "core        WARNING \tFixed incorrect tyre stint information for driver '12'\n",
      "core        WARNING \tFixed incorrect tyre stint information for driver '10'\n",
      "core        WARNING \tFixed incorrect tyre stint information for driver '14'\n",
      "core        WARNING \tFixed incorrect tyre stint information for driver '23'\n",
      "core        WARNING \tFixed incorrect tyre stint information for driver '6'\n",
      "logger      WARNING \tFailed to load schedule from FastF1 backend!\n"
     ]
    },
    {
     "name": "stdout",
     "output_type": "stream",
     "text": [
      "Silverstone    2025\n"
     ]
    },
    {
     "name": "stderr",
     "output_type": "stream",
     "text": [
      "logger      WARNING \tFailed to load schedule from FastF1 backend!\n"
     ]
    },
    {
     "name": "stdout",
     "output_type": "stream",
     "text": [
      "Spa-Francorchamps    2025\n"
     ]
    },
    {
     "name": "stderr",
     "output_type": "stream",
     "text": [
      "logger      WARNING \tFailed to load schedule from FastF1 backend!\n"
     ]
    },
    {
     "name": "stdout",
     "output_type": "stream",
     "text": [
      "Budapest    2025\n"
     ]
    },
    {
     "name": "stderr",
     "output_type": "stream",
     "text": [
      "logger      WARNING \tFailed to load schedule from FastF1 backend!\n"
     ]
    },
    {
     "name": "stdout",
     "output_type": "stream",
     "text": [
      "Zandvoort    2025\n"
     ]
    },
    {
     "name": "stderr",
     "output_type": "stream",
     "text": [
      "logger      WARNING \tFailed to load schedule from FastF1 backend!\n"
     ]
    },
    {
     "name": "stdout",
     "output_type": "stream",
     "text": [
      "Monza    2025\n"
     ]
    },
    {
     "name": "stderr",
     "output_type": "stream",
     "text": [
      "logger      WARNING \tFailed to load schedule from FastF1 backend!\n"
     ]
    },
    {
     "name": "stdout",
     "output_type": "stream",
     "text": [
      "Baku    2025\n"
     ]
    },
    {
     "name": "stderr",
     "output_type": "stream",
     "text": [
      "logger      WARNING \tFailed to load schedule from FastF1 backend!\n"
     ]
    },
    {
     "name": "stdout",
     "output_type": "stream",
     "text": [
      "Marina Bay    2025\n"
     ]
    },
    {
     "name": "stderr",
     "output_type": "stream",
     "text": [
      "logger      WARNING \tFailed to load schedule from FastF1 backend!\n"
     ]
    },
    {
     "name": "stdout",
     "output_type": "stream",
     "text": [
      "Austin    2025\n"
     ]
    },
    {
     "name": "stderr",
     "output_type": "stream",
     "text": [
      "logger      WARNING \tFailed to load session info data!\n",
      "core        WARNING \tFailed to load extended driver information!\n",
      "core        WARNING \tNo result data for this session available on Ergast! (This is expected for recent sessions)\n",
      "core        WARNING \tFailed to load driver list and session results!\n",
      "logger      WARNING \tFailed to load session status data!\n",
      "logger      WARNING \tFailed to load track status data!\n",
      "logger      WARNING \tFailed to load timing data!\n",
      "logger      WARNING \tFailed to load telemetry data!\n",
      "logger      WARNING \tFailed to load weather data!\n",
      "logger      WARNING \tFailed to load race control messages!\n"
     ]
    },
    {
     "name": "stdout",
     "output_type": "stream",
     "text": [
      "Skipped Austin 2025: The data you are trying to access has not been loaded yet. See `Session.load`\n",
      "Mexico City    2025\n"
     ]
    },
    {
     "name": "stderr",
     "output_type": "stream",
     "text": [
      "logger      WARNING \tFailed to load schedule from FastF1 backend!\n",
      "events      WARNING \tCorrecting user input 'Mexico City' to 'Monaco Grand Prix'\n",
      "logger      WARNING \tFailed to load schedule from FastF1 backend!\n",
      "events      WARNING \tCorrecting user input 'São Paulo' to 'Spanish Grand Prix'\n"
     ]
    },
    {
     "name": "stdout",
     "output_type": "stream",
     "text": [
      "São Paulo    2025\n"
     ]
    },
    {
     "name": "stderr",
     "output_type": "stream",
     "text": [
      "logger      WARNING \tFailed to load schedule from FastF1 backend!\n",
      "events      WARNING \tCorrecting user input 'Las Vegas' to 'British Grand Prix'\n"
     ]
    },
    {
     "name": "stdout",
     "output_type": "stream",
     "text": [
      "Las Vegas    2025\n"
     ]
    },
    {
     "name": "stderr",
     "output_type": "stream",
     "text": [
      "logger      WARNING \tFailed to load schedule from FastF1 backend!\n",
      "events      WARNING \tCorrecting user input 'Lusail' to 'Spanish Grand Prix'\n"
     ]
    },
    {
     "name": "stdout",
     "output_type": "stream",
     "text": [
      "Lusail    2025\n"
     ]
    },
    {
     "name": "stderr",
     "output_type": "stream",
     "text": [
      "logger      WARNING \tFailed to load schedule from FastF1 backend!\n",
      "events      WARNING \tCorrecting user input 'Yas Island' to 'Austrian Grand Prix'\n",
      "core        WARNING \tFixed incorrect tyre stint information for driver '16'\n",
      "core        WARNING \tFixed incorrect tyre stint information for driver '1'\n"
     ]
    },
    {
     "name": "stdout",
     "output_type": "stream",
     "text": [
      "Yas Island    2025\n"
     ]
    },
    {
     "name": "stderr",
     "output_type": "stream",
     "text": [
      "core        WARNING \tFixed incorrect tyre stint information for driver '5'\n",
      "core        WARNING \tFixed incorrect tyre stint information for driver '12'\n",
      "core        WARNING \tFixed incorrect tyre stint information for driver '10'\n",
      "core        WARNING \tFixed incorrect tyre stint information for driver '14'\n",
      "core        WARNING \tFixed incorrect tyre stint information for driver '23'\n",
      "core        WARNING \tFixed incorrect tyre stint information for driver '6'\n",
      "logger      WARNING \tFailed to load schedule from FastF1 backend!\n"
     ]
    },
    {
     "name": "stdout",
     "output_type": "stream",
     "text": [
      "Melbourne    2024\n"
     ]
    },
    {
     "name": "stderr",
     "output_type": "stream",
     "text": [
      "logger      WARNING \tFailed to load schedule from F1 API backend!\n",
      "logger      WARNING \tFailed to load schedule from Ergast API backend!\n"
     ]
    },
    {
     "name": "stdout",
     "output_type": "stream",
     "text": [
      "Skipped Melbourne 2024: Failed to load any schedule data.\n",
      "Shanghai    2024\n"
     ]
    },
    {
     "name": "stderr",
     "output_type": "stream",
     "text": [
      "logger      WARNING \tFailed to load schedule from FastF1 backend!\n",
      "logger      WARNING \tFailed to load schedule from F1 API backend!\n",
      "logger      WARNING \tFailed to load schedule from Ergast API backend!\n"
     ]
    },
    {
     "name": "stdout",
     "output_type": "stream",
     "text": [
      "Skipped Shanghai 2024: Failed to load any schedule data.\n",
      "Suzuka    2024\n"
     ]
    },
    {
     "name": "stderr",
     "output_type": "stream",
     "text": [
      "logger      WARNING \tFailed to load schedule from FastF1 backend!\n",
      "logger      WARNING \tFailed to load schedule from F1 API backend!\n",
      "logger      WARNING \tFailed to load schedule from Ergast API backend!\n"
     ]
    },
    {
     "name": "stdout",
     "output_type": "stream",
     "text": [
      "Skipped Suzuka 2024: Failed to load any schedule data.\n",
      "Sakhir    2024\n"
     ]
    },
    {
     "name": "stderr",
     "output_type": "stream",
     "text": [
      "logger      WARNING \tFailed to load schedule from FastF1 backend!\n",
      "logger      WARNING \tFailed to load schedule from F1 API backend!\n",
      "logger      WARNING \tFailed to load schedule from Ergast API backend!\n"
     ]
    },
    {
     "name": "stdout",
     "output_type": "stream",
     "text": [
      "Skipped Sakhir 2024: Failed to load any schedule data.\n",
      "Jeddah    2024\n"
     ]
    },
    {
     "name": "stderr",
     "output_type": "stream",
     "text": [
      "logger      WARNING \tFailed to load schedule from FastF1 backend!\n",
      "logger      WARNING \tFailed to load schedule from F1 API backend!\n",
      "logger      WARNING \tFailed to load schedule from Ergast API backend!\n"
     ]
    },
    {
     "name": "stdout",
     "output_type": "stream",
     "text": [
      "Skipped Jeddah 2024: Failed to load any schedule data.\n",
      "Miami    2024\n"
     ]
    },
    {
     "name": "stderr",
     "output_type": "stream",
     "text": [
      "logger      WARNING \tFailed to load schedule from FastF1 backend!\n",
      "logger      WARNING \tFailed to load schedule from F1 API backend!\n",
      "logger      WARNING \tFailed to load schedule from Ergast API backend!\n"
     ]
    },
    {
     "name": "stdout",
     "output_type": "stream",
     "text": [
      "Skipped Miami 2024: Failed to load any schedule data.\n",
      "Imola    2024\n"
     ]
    },
    {
     "name": "stderr",
     "output_type": "stream",
     "text": [
      "logger      WARNING \tFailed to load schedule from FastF1 backend!\n",
      "logger      WARNING \tFailed to load schedule from F1 API backend!\n",
      "logger      WARNING \tFailed to load schedule from Ergast API backend!\n"
     ]
    },
    {
     "name": "stdout",
     "output_type": "stream",
     "text": [
      "Skipped Imola 2024: Failed to load any schedule data.\n",
      "Monaco    2024\n"
     ]
    },
    {
     "name": "stderr",
     "output_type": "stream",
     "text": [
      "logger      WARNING \tFailed to load schedule from FastF1 backend!\n",
      "logger      WARNING \tFailed to load schedule from F1 API backend!\n",
      "logger      WARNING \tFailed to load schedule from Ergast API backend!\n"
     ]
    },
    {
     "name": "stdout",
     "output_type": "stream",
     "text": [
      "Skipped Monaco 2024: Failed to load any schedule data.\n",
      "Barcelona    2024\n"
     ]
    },
    {
     "name": "stderr",
     "output_type": "stream",
     "text": [
      "logger      WARNING \tFailed to load schedule from FastF1 backend!\n",
      "logger      WARNING \tFailed to load schedule from F1 API backend!\n",
      "logger      WARNING \tFailed to load schedule from Ergast API backend!\n"
     ]
    },
    {
     "name": "stdout",
     "output_type": "stream",
     "text": [
      "Skipped Barcelona 2024: Failed to load any schedule data.\n",
      "Montréal    2024\n"
     ]
    },
    {
     "name": "stderr",
     "output_type": "stream",
     "text": [
      "logger      WARNING \tFailed to load schedule from FastF1 backend!\n",
      "logger      WARNING \tFailed to load schedule from F1 API backend!\n",
      "logger      WARNING \tFailed to load schedule from Ergast API backend!\n"
     ]
    },
    {
     "name": "stdout",
     "output_type": "stream",
     "text": [
      "Skipped Montréal 2024: Failed to load any schedule data.\n",
      "Spielberg    2024\n"
     ]
    },
    {
     "name": "stderr",
     "output_type": "stream",
     "text": [
      "logger      WARNING \tFailed to load schedule from FastF1 backend!\n",
      "logger      WARNING \tFailed to load schedule from F1 API backend!\n",
      "logger      WARNING \tFailed to load schedule from Ergast API backend!\n"
     ]
    },
    {
     "name": "stdout",
     "output_type": "stream",
     "text": [
      "Skipped Spielberg 2024: Failed to load any schedule data.\n",
      "Silverstone    2024\n"
     ]
    },
    {
     "name": "stderr",
     "output_type": "stream",
     "text": [
      "logger      WARNING \tFailed to load schedule from FastF1 backend!\n",
      "logger      WARNING \tFailed to load schedule from F1 API backend!\n",
      "logger      WARNING \tFailed to load schedule from Ergast API backend!\n"
     ]
    },
    {
     "name": "stdout",
     "output_type": "stream",
     "text": [
      "Skipped Silverstone 2024: Failed to load any schedule data.\n",
      "Spa-Francorchamps    2024\n"
     ]
    },
    {
     "name": "stderr",
     "output_type": "stream",
     "text": [
      "logger      WARNING \tFailed to load schedule from FastF1 backend!\n",
      "logger      WARNING \tFailed to load schedule from F1 API backend!\n",
      "logger      WARNING \tFailed to load schedule from Ergast API backend!\n"
     ]
    },
    {
     "name": "stdout",
     "output_type": "stream",
     "text": [
      "Skipped Spa-Francorchamps 2024: Failed to load any schedule data.\n",
      "Budapest    2024\n"
     ]
    },
    {
     "name": "stderr",
     "output_type": "stream",
     "text": [
      "logger      WARNING \tFailed to load schedule from FastF1 backend!\n",
      "logger      WARNING \tFailed to load schedule from F1 API backend!\n",
      "logger      WARNING \tFailed to load schedule from Ergast API backend!\n"
     ]
    },
    {
     "name": "stdout",
     "output_type": "stream",
     "text": [
      "Skipped Budapest 2024: Failed to load any schedule data.\n",
      "Zandvoort    2024\n"
     ]
    },
    {
     "name": "stderr",
     "output_type": "stream",
     "text": [
      "logger      WARNING \tFailed to load schedule from FastF1 backend!\n",
      "logger      WARNING \tFailed to load schedule from F1 API backend!\n",
      "logger      WARNING \tFailed to load schedule from Ergast API backend!\n"
     ]
    },
    {
     "name": "stdout",
     "output_type": "stream",
     "text": [
      "Skipped Zandvoort 2024: Failed to load any schedule data.\n",
      "Monza    2024\n"
     ]
    },
    {
     "name": "stderr",
     "output_type": "stream",
     "text": [
      "logger      WARNING \tFailed to load schedule from FastF1 backend!\n",
      "logger      WARNING \tFailed to load schedule from F1 API backend!\n",
      "logger      WARNING \tFailed to load schedule from Ergast API backend!\n"
     ]
    },
    {
     "name": "stdout",
     "output_type": "stream",
     "text": [
      "Skipped Monza 2024: Failed to load any schedule data.\n",
      "Baku    2024\n"
     ]
    },
    {
     "name": "stderr",
     "output_type": "stream",
     "text": [
      "logger      WARNING \tFailed to load schedule from FastF1 backend!\n",
      "logger      WARNING \tFailed to load schedule from F1 API backend!\n",
      "logger      WARNING \tFailed to load schedule from Ergast API backend!\n"
     ]
    },
    {
     "name": "stdout",
     "output_type": "stream",
     "text": [
      "Skipped Baku 2024: Failed to load any schedule data.\n",
      "Marina Bay    2024\n"
     ]
    },
    {
     "name": "stderr",
     "output_type": "stream",
     "text": [
      "logger      WARNING \tFailed to load schedule from FastF1 backend!\n",
      "logger      WARNING \tFailed to load schedule from F1 API backend!\n",
      "logger      WARNING \tFailed to load schedule from Ergast API backend!\n"
     ]
    },
    {
     "name": "stdout",
     "output_type": "stream",
     "text": [
      "Skipped Marina Bay 2024: Failed to load any schedule data.\n",
      "Austin    2024\n"
     ]
    },
    {
     "name": "stderr",
     "output_type": "stream",
     "text": [
      "logger      WARNING \tFailed to load schedule from FastF1 backend!\n",
      "logger      WARNING \tFailed to load schedule from F1 API backend!\n",
      "logger      WARNING \tFailed to load schedule from Ergast API backend!\n"
     ]
    },
    {
     "name": "stdout",
     "output_type": "stream",
     "text": [
      "Skipped Austin 2024: Failed to load any schedule data.\n",
      "Mexico City    2024\n"
     ]
    },
    {
     "name": "stderr",
     "output_type": "stream",
     "text": [
      "logger      WARNING \tFailed to load schedule from FastF1 backend!\n",
      "logger      WARNING \tFailed to load schedule from F1 API backend!\n",
      "logger      WARNING \tFailed to load schedule from Ergast API backend!\n"
     ]
    },
    {
     "name": "stdout",
     "output_type": "stream",
     "text": [
      "Skipped Mexico City 2024: Failed to load any schedule data.\n",
      "São Paulo    2024\n"
     ]
    },
    {
     "name": "stderr",
     "output_type": "stream",
     "text": [
      "logger      WARNING \tFailed to load schedule from FastF1 backend!\n",
      "logger      WARNING \tFailed to load schedule from F1 API backend!\n",
      "logger      WARNING \tFailed to load schedule from Ergast API backend!\n"
     ]
    },
    {
     "name": "stdout",
     "output_type": "stream",
     "text": [
      "Skipped São Paulo 2024: Failed to load any schedule data.\n",
      "Las Vegas    2024\n"
     ]
    },
    {
     "name": "stderr",
     "output_type": "stream",
     "text": [
      "logger      WARNING \tFailed to load schedule from FastF1 backend!\n",
      "logger      WARNING \tFailed to load schedule from F1 API backend!\n",
      "logger      WARNING \tFailed to load schedule from Ergast API backend!\n"
     ]
    },
    {
     "name": "stdout",
     "output_type": "stream",
     "text": [
      "Skipped Las Vegas 2024: Failed to load any schedule data.\n",
      "Lusail    2024\n"
     ]
    },
    {
     "name": "stderr",
     "output_type": "stream",
     "text": [
      "logger      WARNING \tFailed to load schedule from FastF1 backend!\n",
      "logger      WARNING \tFailed to load schedule from F1 API backend!\n",
      "logger      WARNING \tFailed to load schedule from Ergast API backend!\n"
     ]
    },
    {
     "name": "stdout",
     "output_type": "stream",
     "text": [
      "Skipped Lusail 2024: Failed to load any schedule data.\n",
      "Yas Island    2024\n"
     ]
    },
    {
     "name": "stderr",
     "output_type": "stream",
     "text": [
      "logger      WARNING \tFailed to load schedule from FastF1 backend!\n",
      "logger      WARNING \tFailed to load schedule from F1 API backend!\n",
      "logger      WARNING \tFailed to load schedule from Ergast API backend!\n"
     ]
    },
    {
     "name": "stdout",
     "output_type": "stream",
     "text": [
      "Skipped Yas Island 2024: Failed to load any schedule data.\n",
      "Melbourne    2023\n"
     ]
    },
    {
     "name": "stderr",
     "output_type": "stream",
     "text": [
      "logger      WARNING \tFailed to load schedule from FastF1 backend!\n",
      "logger      WARNING \tFailed to load schedule from F1 API backend!\n",
      "logger      WARNING \tFailed to load schedule from Ergast API backend!\n"
     ]
    },
    {
     "name": "stdout",
     "output_type": "stream",
     "text": [
      "Skipped Melbourne 2023: Failed to load any schedule data.\n",
      "Shanghai    2023\n"
     ]
    },
    {
     "name": "stderr",
     "output_type": "stream",
     "text": [
      "logger      WARNING \tFailed to load schedule from FastF1 backend!\n",
      "logger      WARNING \tFailed to load schedule from F1 API backend!\n",
      "logger      WARNING \tFailed to load schedule from Ergast API backend!\n"
     ]
    },
    {
     "name": "stdout",
     "output_type": "stream",
     "text": [
      "Skipped Shanghai 2023: Failed to load any schedule data.\n",
      "Suzuka    2023\n"
     ]
    },
    {
     "name": "stderr",
     "output_type": "stream",
     "text": [
      "logger      WARNING \tFailed to load schedule from FastF1 backend!\n",
      "logger      WARNING \tFailed to load schedule from F1 API backend!\n",
      "logger      WARNING \tFailed to load schedule from Ergast API backend!\n"
     ]
    },
    {
     "name": "stdout",
     "output_type": "stream",
     "text": [
      "Skipped Suzuka 2023: Failed to load any schedule data.\n",
      "Sakhir    2023\n"
     ]
    },
    {
     "name": "stderr",
     "output_type": "stream",
     "text": [
      "logger      WARNING \tFailed to load schedule from FastF1 backend!\n",
      "logger      WARNING \tFailed to load schedule from F1 API backend!\n",
      "logger      WARNING \tFailed to load schedule from Ergast API backend!\n"
     ]
    },
    {
     "name": "stdout",
     "output_type": "stream",
     "text": [
      "Skipped Sakhir 2023: Failed to load any schedule data.\n",
      "Jeddah    2023\n"
     ]
    },
    {
     "name": "stderr",
     "output_type": "stream",
     "text": [
      "logger      WARNING \tFailed to load schedule from FastF1 backend!\n",
      "logger      WARNING \tFailed to load schedule from F1 API backend!\n",
      "logger      WARNING \tFailed to load schedule from Ergast API backend!\n"
     ]
    },
    {
     "name": "stdout",
     "output_type": "stream",
     "text": [
      "Skipped Jeddah 2023: Failed to load any schedule data.\n",
      "Miami    2023\n"
     ]
    },
    {
     "name": "stderr",
     "output_type": "stream",
     "text": [
      "logger      WARNING \tFailed to load schedule from FastF1 backend!\n",
      "logger      WARNING \tFailed to load schedule from F1 API backend!\n",
      "logger      WARNING \tFailed to load schedule from Ergast API backend!\n"
     ]
    },
    {
     "name": "stdout",
     "output_type": "stream",
     "text": [
      "Skipped Miami 2023: Failed to load any schedule data.\n",
      "Imola    2023\n"
     ]
    },
    {
     "name": "stderr",
     "output_type": "stream",
     "text": [
      "logger      WARNING \tFailed to load schedule from FastF1 backend!\n",
      "logger      WARNING \tFailed to load schedule from F1 API backend!\n",
      "logger      WARNING \tFailed to load schedule from Ergast API backend!\n"
     ]
    },
    {
     "name": "stdout",
     "output_type": "stream",
     "text": [
      "Skipped Imola 2023: Failed to load any schedule data.\n",
      "Monaco    2023\n"
     ]
    },
    {
     "name": "stderr",
     "output_type": "stream",
     "text": [
      "logger      WARNING \tFailed to load schedule from FastF1 backend!\n",
      "logger      WARNING \tFailed to load schedule from F1 API backend!\n",
      "logger      WARNING \tFailed to load schedule from Ergast API backend!\n"
     ]
    },
    {
     "name": "stdout",
     "output_type": "stream",
     "text": [
      "Skipped Monaco 2023: Failed to load any schedule data.\n",
      "Barcelona    2023\n"
     ]
    },
    {
     "name": "stderr",
     "output_type": "stream",
     "text": [
      "logger      WARNING \tFailed to load schedule from FastF1 backend!\n",
      "logger      WARNING \tFailed to load schedule from F1 API backend!\n",
      "logger      WARNING \tFailed to load schedule from Ergast API backend!\n"
     ]
    },
    {
     "name": "stdout",
     "output_type": "stream",
     "text": [
      "Skipped Barcelona 2023: Failed to load any schedule data.\n",
      "Montréal    2023\n"
     ]
    },
    {
     "name": "stderr",
     "output_type": "stream",
     "text": [
      "logger      WARNING \tFailed to load schedule from FastF1 backend!\n",
      "logger      WARNING \tFailed to load schedule from F1 API backend!\n",
      "logger      WARNING \tFailed to load schedule from Ergast API backend!\n"
     ]
    },
    {
     "name": "stdout",
     "output_type": "stream",
     "text": [
      "Skipped Montréal 2023: Failed to load any schedule data.\n",
      "Spielberg    2023\n"
     ]
    },
    {
     "name": "stderr",
     "output_type": "stream",
     "text": [
      "logger      WARNING \tFailed to load schedule from FastF1 backend!\n",
      "logger      WARNING \tFailed to load schedule from F1 API backend!\n",
      "logger      WARNING \tFailed to load schedule from Ergast API backend!\n"
     ]
    },
    {
     "name": "stdout",
     "output_type": "stream",
     "text": [
      "Skipped Spielberg 2023: Failed to load any schedule data.\n",
      "Silverstone    2023\n"
     ]
    },
    {
     "name": "stderr",
     "output_type": "stream",
     "text": [
      "logger      WARNING \tFailed to load schedule from FastF1 backend!\n",
      "logger      WARNING \tFailed to load schedule from F1 API backend!\n",
      "logger      WARNING \tFailed to load schedule from Ergast API backend!\n"
     ]
    },
    {
     "name": "stdout",
     "output_type": "stream",
     "text": [
      "Skipped Silverstone 2023: Failed to load any schedule data.\n",
      "Spa-Francorchamps    2023\n"
     ]
    },
    {
     "name": "stderr",
     "output_type": "stream",
     "text": [
      "logger      WARNING \tFailed to load schedule from FastF1 backend!\n",
      "logger      WARNING \tFailed to load schedule from F1 API backend!\n",
      "logger      WARNING \tFailed to load schedule from Ergast API backend!\n"
     ]
    },
    {
     "name": "stdout",
     "output_type": "stream",
     "text": [
      "Skipped Spa-Francorchamps 2023: Failed to load any schedule data.\n",
      "Budapest    2023\n"
     ]
    },
    {
     "name": "stderr",
     "output_type": "stream",
     "text": [
      "logger      WARNING \tFailed to load schedule from FastF1 backend!\n",
      "logger      WARNING \tFailed to load schedule from F1 API backend!\n",
      "logger      WARNING \tFailed to load schedule from Ergast API backend!\n"
     ]
    },
    {
     "name": "stdout",
     "output_type": "stream",
     "text": [
      "Skipped Budapest 2023: Failed to load any schedule data.\n",
      "Zandvoort    2023\n"
     ]
    },
    {
     "name": "stderr",
     "output_type": "stream",
     "text": [
      "logger      WARNING \tFailed to load schedule from FastF1 backend!\n",
      "logger      WARNING \tFailed to load schedule from F1 API backend!\n",
      "logger      WARNING \tFailed to load schedule from Ergast API backend!\n"
     ]
    },
    {
     "name": "stdout",
     "output_type": "stream",
     "text": [
      "Skipped Zandvoort 2023: Failed to load any schedule data.\n",
      "Monza    2023\n"
     ]
    },
    {
     "name": "stderr",
     "output_type": "stream",
     "text": [
      "logger      WARNING \tFailed to load schedule from FastF1 backend!\n",
      "logger      WARNING \tFailed to load schedule from F1 API backend!\n",
      "logger      WARNING \tFailed to load schedule from Ergast API backend!\n"
     ]
    },
    {
     "name": "stdout",
     "output_type": "stream",
     "text": [
      "Skipped Monza 2023: Failed to load any schedule data.\n",
      "Baku    2023\n"
     ]
    },
    {
     "name": "stderr",
     "output_type": "stream",
     "text": [
      "logger      WARNING \tFailed to load schedule from FastF1 backend!\n",
      "logger      WARNING \tFailed to load schedule from F1 API backend!\n",
      "logger      WARNING \tFailed to load schedule from Ergast API backend!\n"
     ]
    },
    {
     "name": "stdout",
     "output_type": "stream",
     "text": [
      "Skipped Baku 2023: Failed to load any schedule data.\n",
      "Marina Bay    2023\n"
     ]
    },
    {
     "name": "stderr",
     "output_type": "stream",
     "text": [
      "logger      WARNING \tFailed to load schedule from FastF1 backend!\n",
      "logger      WARNING \tFailed to load schedule from F1 API backend!\n",
      "logger      WARNING \tFailed to load schedule from Ergast API backend!\n"
     ]
    },
    {
     "name": "stdout",
     "output_type": "stream",
     "text": [
      "Skipped Marina Bay 2023: Failed to load any schedule data.\n",
      "Austin    2023\n"
     ]
    },
    {
     "name": "stderr",
     "output_type": "stream",
     "text": [
      "logger      WARNING \tFailed to load schedule from FastF1 backend!\n",
      "logger      WARNING \tFailed to load schedule from F1 API backend!\n",
      "logger      WARNING \tFailed to load schedule from Ergast API backend!\n"
     ]
    },
    {
     "name": "stdout",
     "output_type": "stream",
     "text": [
      "Skipped Austin 2023: Failed to load any schedule data.\n",
      "Mexico City    2023\n"
     ]
    },
    {
     "name": "stderr",
     "output_type": "stream",
     "text": [
      "logger      WARNING \tFailed to load schedule from FastF1 backend!\n",
      "logger      WARNING \tFailed to load schedule from F1 API backend!\n",
      "logger      WARNING \tFailed to load schedule from Ergast API backend!\n"
     ]
    },
    {
     "name": "stdout",
     "output_type": "stream",
     "text": [
      "Skipped Mexico City 2023: Failed to load any schedule data.\n",
      "São Paulo    2023\n"
     ]
    },
    {
     "name": "stderr",
     "output_type": "stream",
     "text": [
      "logger      WARNING \tFailed to load schedule from FastF1 backend!\n",
      "logger      WARNING \tFailed to load schedule from F1 API backend!\n",
      "logger      WARNING \tFailed to load schedule from Ergast API backend!\n"
     ]
    },
    {
     "name": "stdout",
     "output_type": "stream",
     "text": [
      "Skipped São Paulo 2023: Failed to load any schedule data.\n",
      "Las Vegas    2023\n"
     ]
    },
    {
     "name": "stderr",
     "output_type": "stream",
     "text": [
      "logger      WARNING \tFailed to load schedule from FastF1 backend!\n",
      "logger      WARNING \tFailed to load schedule from F1 API backend!\n",
      "logger      WARNING \tFailed to load schedule from Ergast API backend!\n"
     ]
    },
    {
     "name": "stdout",
     "output_type": "stream",
     "text": [
      "Skipped Las Vegas 2023: Failed to load any schedule data.\n",
      "Lusail    2023\n"
     ]
    },
    {
     "name": "stderr",
     "output_type": "stream",
     "text": [
      "logger      WARNING \tFailed to load schedule from FastF1 backend!\n",
      "logger      WARNING \tFailed to load schedule from F1 API backend!\n",
      "logger      WARNING \tFailed to load schedule from Ergast API backend!\n"
     ]
    },
    {
     "name": "stdout",
     "output_type": "stream",
     "text": [
      "Skipped Lusail 2023: Failed to load any schedule data.\n",
      "Yas Island    2023\n"
     ]
    },
    {
     "name": "stderr",
     "output_type": "stream",
     "text": [
      "logger      WARNING \tFailed to load schedule from FastF1 backend!\n",
      "logger      WARNING \tFailed to load schedule from F1 API backend!\n",
      "logger      WARNING \tFailed to load schedule from Ergast API backend!\n"
     ]
    },
    {
     "name": "stdout",
     "output_type": "stream",
     "text": [
      "Skipped Yas Island 2023: Failed to load any schedule data.\n"
     ]
    }
   ],
   "source": [
    "all_features = []\n",
    "nan_counts_list = []\n",
    "\n",
    "\n",
    "for year in [2025, 2024, 2023]:\n",
    "    for location in circuit_info['Location']:\n",
    "        try:\n",
    "            print(location + \"    \" + str(year))\n",
    "            session = ff1.get_session(year, location, 'Q')\n",
    "            session.load()\n",
    "\n",
    "            # laps\n",
    "            laps = session.laps\n",
    "            laps_clean = laps.pick_quicklaps()\n",
    "            laps_clean = laps_clean.dropna(subset=['LapTime'])      # remove Nan lap times rows\n",
    "\n",
    "            # weather\n",
    "            weather = session.weather_data\n",
    "            laps_clean['LapStartTime'] = laps_clean['Time']\n",
    "            laps_with_weather = pd.merge_asof(\n",
    "                laps_clean.sort_values('LapStartTime'),\n",
    "                weather.sort_values('Time'),\n",
    "                left_on='LapStartTime',\n",
    "                right_on='Time',\n",
    "                direction = 'backward'    # use last known weather measurement\n",
    "            )\n",
    "\n",
    "            # select data\n",
    "            features = laps_with_weather[['Driver', 'Team', 'LapTime', 'LapNumber', 'Stint',\n",
    "                        'TyreLife', 'FreshTyre', 'Compound', 'TrackTemp', 'AirTemp',\n",
    "                        'Sector1Time', 'Sector2Time', 'Sector3Time']].copy()\n",
    "\n",
    "            features['LapTime'] = features['LapTime'].dt.total_seconds()\n",
    "            features['Sector1Time'] = features['Sector1Time'].dt.total_seconds()\n",
    "            features['Sector2Time'] = features['Sector2Time'].dt.total_seconds()\n",
    "            features['Sector3Time'] = features['Sector3Time'].dt.total_seconds()\n",
    "\n",
    "            features['Location'] = location\n",
    "            features['Year'] = year\n",
    "\n",
    "            # merge with circuit info\n",
    "            features_merged = pd.merge(features, circuit_info, on='Location', how='left')\n",
    "\n",
    "            all_features.append(features_merged)\n",
    "            nan_counts_list.append(features_merged.isna().sum())\n",
    "        \n",
    "        except Exception as e:\n",
    "            print(f\"Skipped {location} {year}: {e}\")\n",
    "\n",
    "\n",
    "all_features_df = pd.concat(all_features, ignore_index=True)\n",
    "# all_features_df.to_csv('features_laps.csv', index=False)\n",
    "\n",
    "nan_counts_df = pd.DataFrame(nan_counts_list)\n",
    "# nan_counts_df.to_csv('nan_counts.csv', index=False)"
   ]
  },
  {
   "cell_type": "code",
   "execution_count": 56,
   "id": "8daadd84",
   "metadata": {},
   "outputs": [
    {
     "name": "stderr",
     "output_type": "stream",
     "text": [
      "logger      WARNING \tFailed to load schedule from FastF1 backend!\n",
      "logger      WARNING \tFailed to load schedule from F1 API backend!\n",
      "logger      WARNING \tFailed to load schedule from Ergast API backend!\n"
     ]
    },
    {
     "ename": "ValueError",
     "evalue": "Failed to load any schedule data.",
     "output_type": "error",
     "traceback": [
      "\u001b[1;31m---------------------------------------------------------------------------\u001b[0m",
      "\u001b[1;31mValueError\u001b[0m                                Traceback (most recent call last)",
      "Cell \u001b[1;32mIn[56], line 1\u001b[0m\n\u001b[1;32m----> 1\u001b[0m ff1\u001b[38;5;241m.\u001b[39mget_event_schedule(\u001b[38;5;241m2023\u001b[39m)\n",
      "File \u001b[1;32mc:\\Users\\lucam\\anaconda3\\envs\\myenv_mlf1\\Lib\\site-packages\\fastf1\\events.py:522\u001b[0m, in \u001b[0;36mget_event_schedule\u001b[1;34m(year, include_testing, backend, force_ergast)\u001b[0m\n\u001b[0;32m    519\u001b[0m         \u001b[38;5;28;01mbreak\u001b[39;00m\n\u001b[0;32m    521\u001b[0m \u001b[38;5;28;01mif\u001b[39;00m schedule \u001b[38;5;129;01mis\u001b[39;00m \u001b[38;5;28;01mNone\u001b[39;00m:  \u001b[38;5;66;03m# raise Error if fallback failed as well\u001b[39;00m\n\u001b[1;32m--> 522\u001b[0m     \u001b[38;5;28;01mraise\u001b[39;00m \u001b[38;5;167;01mValueError\u001b[39;00m(\u001b[38;5;124m\"\u001b[39m\u001b[38;5;124mFailed to load any schedule data.\u001b[39m\u001b[38;5;124m\"\u001b[39m)\n\u001b[0;32m    524\u001b[0m \u001b[38;5;28;01mif\u001b[39;00m \u001b[38;5;129;01mnot\u001b[39;00m include_testing:\n\u001b[0;32m    525\u001b[0m     schedule \u001b[38;5;241m=\u001b[39m schedule[\u001b[38;5;241m~\u001b[39mschedule\u001b[38;5;241m.\u001b[39mis_testing()]\n",
      "\u001b[1;31mValueError\u001b[0m: Failed to load any schedule data."
     ]
    }
   ],
   "source": [
    "ff1.get_event_schedule(2023)"
   ]
  },
  {
   "cell_type": "code",
   "execution_count": 55,
   "id": "9a0f7694",
   "metadata": {},
   "outputs": [
    {
     "name": "stderr",
     "output_type": "stream",
     "text": [
      "logger      WARNING \tFailed to load schedule from FastF1 backend!\n",
      "logger      WARNING \tFailed to load schedule from F1 API backend!\n",
      "logger      WARNING \tFailed to load schedule from Ergast API backend!\n"
     ]
    },
    {
     "ename": "ValueError",
     "evalue": "Failed to load any schedule data.",
     "output_type": "error",
     "traceback": [
      "\u001b[1;31m---------------------------------------------------------------------------\u001b[0m",
      "\u001b[1;31mValueError\u001b[0m                                Traceback (most recent call last)",
      "Cell \u001b[1;32mIn[55], line 1\u001b[0m\n\u001b[1;32m----> 1\u001b[0m ses \u001b[38;5;241m=\u001b[39m ff1\u001b[38;5;241m.\u001b[39mget_session(\u001b[38;5;241m2023\u001b[39m, \u001b[38;5;241m5\u001b[39m, \u001b[38;5;124m'\u001b[39m\u001b[38;5;124mQ\u001b[39m\u001b[38;5;124m'\u001b[39m)\n\u001b[0;32m      2\u001b[0m ses\u001b[38;5;241m.\u001b[39mload()\n",
      "File \u001b[1;32mc:\\Users\\lucam\\anaconda3\\envs\\myenv_mlf1\\Lib\\site-packages\\fastf1\\events.py:310\u001b[0m, in \u001b[0;36mget_session\u001b[1;34m(year, gp, identifier, backend, force_ergast)\u001b[0m\n\u001b[0;32m    242\u001b[0m \u001b[38;5;28;01mdef\u001b[39;00m \u001b[38;5;21mget_session\u001b[39m(\n\u001b[0;32m    243\u001b[0m         year: \u001b[38;5;28mint\u001b[39m,\n\u001b[0;32m    244\u001b[0m         gp: Union[\u001b[38;5;28mstr\u001b[39m, \u001b[38;5;28mint\u001b[39m],\n\u001b[1;32m   (...)\u001b[0m\n\u001b[0;32m    248\u001b[0m         force_ergast: \u001b[38;5;28mbool\u001b[39m \u001b[38;5;241m=\u001b[39m \u001b[38;5;28;01mFalse\u001b[39;00m,\n\u001b[0;32m    249\u001b[0m ) \u001b[38;5;241m-\u001b[39m\u001b[38;5;241m>\u001b[39m Session:\n\u001b[0;32m    250\u001b[0m \u001b[38;5;250m    \u001b[39m\u001b[38;5;124;03m\"\"\"Create a :class:`~fastf1.core.Session` object based on year, event name\u001b[39;00m\n\u001b[0;32m    251\u001b[0m \u001b[38;5;124;03m    and session identifier.\u001b[39;00m\n\u001b[0;32m    252\u001b[0m \n\u001b[1;32m   (...)\u001b[0m\n\u001b[0;32m    308\u001b[0m \u001b[38;5;124;03m            from the ergast database to create the event schedule\u001b[39;00m\n\u001b[0;32m    309\u001b[0m \u001b[38;5;124;03m    \"\"\"\u001b[39;00m\n\u001b[1;32m--> 310\u001b[0m     event \u001b[38;5;241m=\u001b[39m get_event(year, gp, force_ergast\u001b[38;5;241m=\u001b[39mforce_ergast, backend\u001b[38;5;241m=\u001b[39mbackend)\n\u001b[0;32m    311\u001b[0m     \u001b[38;5;28;01mreturn\u001b[39;00m event\u001b[38;5;241m.\u001b[39mget_session(identifier)\n",
      "File \u001b[1;32mc:\\Users\\lucam\\anaconda3\\envs\\myenv_mlf1\\Lib\\site-packages\\fastf1\\events.py:405\u001b[0m, in \u001b[0;36mget_event\u001b[1;34m(year, gp, backend, force_ergast, strict_search, exact_match)\u001b[0m\n\u001b[0;32m    350\u001b[0m \u001b[38;5;28;01mdef\u001b[39;00m \u001b[38;5;21mget_event\u001b[39m(\n\u001b[0;32m    351\u001b[0m         year: \u001b[38;5;28mint\u001b[39m,\n\u001b[0;32m    352\u001b[0m         gp: Union[\u001b[38;5;28mint\u001b[39m, \u001b[38;5;28mstr\u001b[39m],\n\u001b[1;32m   (...)\u001b[0m\n\u001b[0;32m    357\u001b[0m         exact_match: \u001b[38;5;28mbool\u001b[39m \u001b[38;5;241m=\u001b[39m \u001b[38;5;28;01mFalse\u001b[39;00m\n\u001b[0;32m    358\u001b[0m ) \u001b[38;5;241m-\u001b[39m\u001b[38;5;241m>\u001b[39m \u001b[38;5;124m\"\u001b[39m\u001b[38;5;124mEvent\u001b[39m\u001b[38;5;124m\"\u001b[39m:\n\u001b[0;32m    359\u001b[0m \u001b[38;5;250m    \u001b[39m\u001b[38;5;124;03m\"\"\"Create an :class:`~fastf1.events.Event` object for a specific\u001b[39;00m\n\u001b[0;32m    360\u001b[0m \u001b[38;5;124;03m    season and gp.\u001b[39;00m\n\u001b[0;32m    361\u001b[0m \n\u001b[1;32m   (...)\u001b[0m\n\u001b[0;32m    403\u001b[0m \u001b[38;5;124;03m    .. versionadded:: 2.2\u001b[39;00m\n\u001b[0;32m    404\u001b[0m \u001b[38;5;124;03m    \"\"\"\u001b[39;00m\n\u001b[1;32m--> 405\u001b[0m     schedule \u001b[38;5;241m=\u001b[39m get_event_schedule(year\u001b[38;5;241m=\u001b[39myear, include_testing\u001b[38;5;241m=\u001b[39m\u001b[38;5;28;01mFalse\u001b[39;00m,\n\u001b[0;32m    406\u001b[0m                                   force_ergast\u001b[38;5;241m=\u001b[39mforce_ergast,\n\u001b[0;32m    407\u001b[0m                                   backend\u001b[38;5;241m=\u001b[39mbackend)\n\u001b[0;32m    409\u001b[0m     \u001b[38;5;28;01mif\u001b[39;00m \u001b[38;5;28misinstance\u001b[39m(gp, \u001b[38;5;28mstr\u001b[39m):\n\u001b[0;32m    410\u001b[0m         event \u001b[38;5;241m=\u001b[39m schedule\u001b[38;5;241m.\u001b[39mget_event_by_name(\n\u001b[0;32m    411\u001b[0m             gp, strict_search\u001b[38;5;241m=\u001b[39mstrict_search, exact_match\u001b[38;5;241m=\u001b[39mexact_match)\n",
      "File \u001b[1;32mc:\\Users\\lucam\\anaconda3\\envs\\myenv_mlf1\\Lib\\site-packages\\fastf1\\events.py:522\u001b[0m, in \u001b[0;36mget_event_schedule\u001b[1;34m(year, include_testing, backend, force_ergast)\u001b[0m\n\u001b[0;32m    519\u001b[0m         \u001b[38;5;28;01mbreak\u001b[39;00m\n\u001b[0;32m    521\u001b[0m \u001b[38;5;28;01mif\u001b[39;00m schedule \u001b[38;5;129;01mis\u001b[39;00m \u001b[38;5;28;01mNone\u001b[39;00m:  \u001b[38;5;66;03m# raise Error if fallback failed as well\u001b[39;00m\n\u001b[1;32m--> 522\u001b[0m     \u001b[38;5;28;01mraise\u001b[39;00m \u001b[38;5;167;01mValueError\u001b[39;00m(\u001b[38;5;124m\"\u001b[39m\u001b[38;5;124mFailed to load any schedule data.\u001b[39m\u001b[38;5;124m\"\u001b[39m)\n\u001b[0;32m    524\u001b[0m \u001b[38;5;28;01mif\u001b[39;00m \u001b[38;5;129;01mnot\u001b[39;00m include_testing:\n\u001b[0;32m    525\u001b[0m     schedule \u001b[38;5;241m=\u001b[39m schedule[\u001b[38;5;241m~\u001b[39mschedule\u001b[38;5;241m.\u001b[39mis_testing()]\n",
      "\u001b[1;31mValueError\u001b[0m: Failed to load any schedule data."
     ]
    }
   ],
   "source": [
    "ses = ff1.get_session(2023, 5, 'Q')\n",
    "ses.load()\n"
   ]
  },
  {
   "cell_type": "code",
   "execution_count": 59,
   "id": "526979a4",
   "metadata": {},
   "outputs": [
    {
     "name": "stderr",
     "output_type": "stream",
     "text": [
      "logger      WARNING \tFailed to load schedule from FastF1 backend!\n",
      "core        WARNING \tFixed incorrect tyre stint information for driver '4'\n"
     ]
    },
    {
     "name": "stdout",
     "output_type": "stream",
     "text": [
      "Melbourne    2025\n"
     ]
    },
    {
     "name": "stderr",
     "output_type": "stream",
     "text": [
      "logger      WARNING \tFailed to load schedule from FastF1 backend!\n"
     ]
    },
    {
     "name": "stdout",
     "output_type": "stream",
     "text": [
      "Shanghai    2025\n"
     ]
    },
    {
     "name": "stderr",
     "output_type": "stream",
     "text": [
      "logger      WARNING \tFailed to load schedule from FastF1 backend!\n"
     ]
    },
    {
     "name": "stdout",
     "output_type": "stream",
     "text": [
      "Suzuka    2025\n"
     ]
    },
    {
     "name": "stderr",
     "output_type": "stream",
     "text": [
      "logger      WARNING \tFailed to load schedule from FastF1 backend!\n"
     ]
    },
    {
     "name": "stdout",
     "output_type": "stream",
     "text": [
      "Sakhir    2025\n"
     ]
    },
    {
     "name": "stderr",
     "output_type": "stream",
     "text": [
      "logger      WARNING \tFailed to load schedule from FastF1 backend!\n"
     ]
    },
    {
     "name": "stdout",
     "output_type": "stream",
     "text": [
      "Jeddah    2025\n"
     ]
    },
    {
     "name": "stderr",
     "output_type": "stream",
     "text": [
      "core        WARNING \tFixed incorrect tyre stint information for driver '5'\n",
      "logger      WARNING \tFailed to load schedule from FastF1 backend!\n"
     ]
    },
    {
     "name": "stdout",
     "output_type": "stream",
     "text": [
      "Miami    2025\n"
     ]
    },
    {
     "name": "stderr",
     "output_type": "stream",
     "text": [
      "logger      WARNING \tFailed to load schedule from FastF1 backend!\n"
     ]
    },
    {
     "name": "stdout",
     "output_type": "stream",
     "text": [
      "Imola    2025\n"
     ]
    },
    {
     "name": "stderr",
     "output_type": "stream",
     "text": [
      "logger      WARNING \tFailed to load schedule from FastF1 backend!\n"
     ]
    },
    {
     "name": "stdout",
     "output_type": "stream",
     "text": [
      "Monaco    2025\n"
     ]
    },
    {
     "name": "stderr",
     "output_type": "stream",
     "text": [
      "logger      WARNING \tFailed to load schedule from FastF1 backend!\n"
     ]
    },
    {
     "name": "stdout",
     "output_type": "stream",
     "text": [
      "Barcelona    2025\n"
     ]
    },
    {
     "name": "stderr",
     "output_type": "stream",
     "text": [
      "logger      WARNING \tFailed to load schedule from FastF1 backend!\n"
     ]
    },
    {
     "name": "stdout",
     "output_type": "stream",
     "text": [
      "Montréal    2025\n"
     ]
    },
    {
     "name": "stderr",
     "output_type": "stream",
     "text": [
      "logger      WARNING \tFailed to load schedule from FastF1 backend!\n",
      "core        WARNING \tFixed incorrect tyre stint information for driver '16'\n",
      "core        WARNING \tFixed incorrect tyre stint information for driver '1'\n",
      "core        WARNING \tFixed incorrect tyre stint information for driver '5'\n",
      "core        WARNING \tFixed incorrect tyre stint information for driver '12'\n"
     ]
    },
    {
     "name": "stdout",
     "output_type": "stream",
     "text": [
      "Spielberg    2025\n"
     ]
    },
    {
     "name": "stderr",
     "output_type": "stream",
     "text": [
      "core        WARNING \tFixed incorrect tyre stint information for driver '10'\n",
      "core        WARNING \tFixed incorrect tyre stint information for driver '14'\n",
      "core        WARNING \tFixed incorrect tyre stint information for driver '23'\n",
      "core        WARNING \tFixed incorrect tyre stint information for driver '6'\n",
      "logger      WARNING \tFailed to load schedule from FastF1 backend!\n"
     ]
    },
    {
     "name": "stdout",
     "output_type": "stream",
     "text": [
      "Silverstone    2025\n"
     ]
    },
    {
     "name": "stderr",
     "output_type": "stream",
     "text": [
      "logger      WARNING \tFailed to load schedule from FastF1 backend!\n"
     ]
    },
    {
     "name": "stdout",
     "output_type": "stream",
     "text": [
      "Spa-Francorchamps    2025\n"
     ]
    },
    {
     "name": "stderr",
     "output_type": "stream",
     "text": [
      "logger      WARNING \tFailed to load schedule from FastF1 backend!\n"
     ]
    },
    {
     "name": "stdout",
     "output_type": "stream",
     "text": [
      "Budapest    2025\n"
     ]
    },
    {
     "name": "stderr",
     "output_type": "stream",
     "text": [
      "logger      WARNING \tFailed to load schedule from FastF1 backend!\n"
     ]
    },
    {
     "name": "stdout",
     "output_type": "stream",
     "text": [
      "Zandvoort    2025\n"
     ]
    },
    {
     "name": "stderr",
     "output_type": "stream",
     "text": [
      "logger      WARNING \tFailed to load schedule from FastF1 backend!\n"
     ]
    },
    {
     "name": "stdout",
     "output_type": "stream",
     "text": [
      "Monza    2025\n"
     ]
    },
    {
     "name": "stderr",
     "output_type": "stream",
     "text": [
      "logger      WARNING \tFailed to load schedule from FastF1 backend!\n"
     ]
    },
    {
     "name": "stdout",
     "output_type": "stream",
     "text": [
      "Baku    2025\n"
     ]
    },
    {
     "name": "stderr",
     "output_type": "stream",
     "text": [
      "logger      WARNING \tFailed to load schedule from FastF1 backend!\n"
     ]
    },
    {
     "name": "stdout",
     "output_type": "stream",
     "text": [
      "Marina Bay    2025\n"
     ]
    },
    {
     "name": "stderr",
     "output_type": "stream",
     "text": [
      "logger      WARNING \tFailed to load schedule from FastF1 backend!\n"
     ]
    },
    {
     "name": "stdout",
     "output_type": "stream",
     "text": [
      "Austin    2025\n"
     ]
    },
    {
     "name": "stderr",
     "output_type": "stream",
     "text": [
      "logger      WARNING \tFailed to load session info data!\n",
      "core        WARNING \tFailed to load extended driver information!\n",
      "core        WARNING \tNo result data for this session available on Ergast! (This is expected for recent sessions)\n",
      "core        WARNING \tFailed to load driver list and session results!\n",
      "logger      WARNING \tFailed to load session status data!\n",
      "logger      WARNING \tFailed to load track status data!\n",
      "logger      WARNING \tFailed to load timing data!\n",
      "logger      WARNING \tFailed to load telemetry data!\n",
      "logger      WARNING \tFailed to load weather data!\n",
      "logger      WARNING \tFailed to load race control messages!\n"
     ]
    },
    {
     "name": "stdout",
     "output_type": "stream",
     "text": [
      "Skipped Austin 2025: The data you are trying to access has not been loaded yet. See `Session.load`\n",
      "Mexico City    2025\n"
     ]
    },
    {
     "name": "stderr",
     "output_type": "stream",
     "text": [
      "logger      WARNING \tFailed to load schedule from FastF1 backend!\n",
      "events      WARNING \tCorrecting user input 'Mexico City' to 'Monaco Grand Prix'\n",
      "logger      WARNING \tFailed to load schedule from FastF1 backend!\n",
      "events      WARNING \tCorrecting user input 'São Paulo' to 'Spanish Grand Prix'\n"
     ]
    },
    {
     "name": "stdout",
     "output_type": "stream",
     "text": [
      "São Paulo    2025\n"
     ]
    },
    {
     "name": "stderr",
     "output_type": "stream",
     "text": [
      "logger      WARNING \tFailed to load schedule from FastF1 backend!\n",
      "events      WARNING \tCorrecting user input 'Las Vegas' to 'British Grand Prix'\n"
     ]
    },
    {
     "name": "stdout",
     "output_type": "stream",
     "text": [
      "Las Vegas    2025\n"
     ]
    },
    {
     "name": "stderr",
     "output_type": "stream",
     "text": [
      "logger      WARNING \tFailed to load schedule from FastF1 backend!\n",
      "events      WARNING \tCorrecting user input 'Lusail' to 'Spanish Grand Prix'\n"
     ]
    },
    {
     "name": "stdout",
     "output_type": "stream",
     "text": [
      "Lusail    2025\n"
     ]
    },
    {
     "name": "stderr",
     "output_type": "stream",
     "text": [
      "logger      WARNING \tFailed to load schedule from FastF1 backend!\n",
      "events      WARNING \tCorrecting user input 'Yas Island' to 'Austrian Grand Prix'\n",
      "core        WARNING \tFixed incorrect tyre stint information for driver '16'\n",
      "core        WARNING \tFixed incorrect tyre stint information for driver '1'\n",
      "core        WARNING \tFixed incorrect tyre stint information for driver '5'\n"
     ]
    },
    {
     "name": "stdout",
     "output_type": "stream",
     "text": [
      "Yas Island    2025\n"
     ]
    },
    {
     "name": "stderr",
     "output_type": "stream",
     "text": [
      "core        WARNING \tFixed incorrect tyre stint information for driver '12'\n",
      "core        WARNING \tFixed incorrect tyre stint information for driver '10'\n",
      "core        WARNING \tFixed incorrect tyre stint information for driver '14'\n",
      "core        WARNING \tFixed incorrect tyre stint information for driver '23'\n",
      "core        WARNING \tFixed incorrect tyre stint information for driver '6'\n"
     ]
    }
   ],
   "source": [
    "all_features = []\n",
    "nan_counts_list = []\n",
    "\n",
    "\n",
    "for year in [2025]:\n",
    "    for location in circuit_info['Location']:\n",
    "        try:\n",
    "            print(location + \"    \" + str(year))\n",
    "            session = ff1.get_session(year, location, 'Q')\n",
    "            session.load()\n",
    "\n",
    "            # laps\n",
    "            laps = session.laps\n",
    "            laps_clean = laps.pick_quicklaps()\n",
    "            laps_clean = laps_clean.dropna(subset=['LapTime'])      # remove Nan lap times rows\n",
    "\n",
    "            # weather\n",
    "            weather = session.weather_data\n",
    "            laps_clean['LapStartTime'] = laps_clean['Time']\n",
    "            laps_with_weather = pd.merge_asof(\n",
    "                laps_clean.sort_values('LapStartTime'),\n",
    "                weather.sort_values('Time'),\n",
    "                left_on='LapStartTime',\n",
    "                right_on='Time',\n",
    "                direction = 'backward'    # use last known weather measurement\n",
    "            )\n",
    "\n",
    "            # select data\n",
    "            features = laps_with_weather[['Driver', 'Team', 'LapTime', 'LapNumber', 'Stint',\n",
    "                        'TyreLife', 'FreshTyre', 'Compound', 'TrackTemp', 'AirTemp',\n",
    "                        'Sector1Time', 'Sector2Time', 'Sector3Time']].copy()\n",
    "\n",
    "            features['LapTime'] = features['LapTime'].dt.total_seconds()\n",
    "            features['Sector1Time'] = features['Sector1Time'].dt.total_seconds()\n",
    "            features['Sector2Time'] = features['Sector2Time'].dt.total_seconds()\n",
    "            features['Sector3Time'] = features['Sector3Time'].dt.total_seconds()\n",
    "\n",
    "            features['Location'] = location\n",
    "            features['Year'] = year\n",
    "\n",
    "            # merge with circuit info\n",
    "            features_merged = pd.merge(features, circuit_info, on='Location', how='left')\n",
    "\n",
    "            all_features.append(features_merged)\n",
    "            nan_counts_list.append(features_merged.isna().sum())\n",
    "        \n",
    "        except Exception as e:\n",
    "            print(f\"Skipped {location} {year}: {e}\")\n",
    "\n",
    "\n",
    "all_features_df = pd.concat(all_features, ignore_index=True)\n",
    "all_features_df.to_csv('features_laps_2025.csv', index=False)\n",
    "\n",
    "nan_counts_df = pd.DataFrame(nan_counts_list)\n",
    "nan_counts_df.to_csv('nan_counts_2025.csv', index=False)"
   ]
  },
  {
   "cell_type": "code",
   "execution_count": 65,
   "id": "c021b1cd",
   "metadata": {},
   "outputs": [
    {
     "name": "stdout",
     "output_type": "stream",
     "text": [
      "Melbourne    2024\n",
      "Shanghai    2024\n",
      "Suzuka    2024\n",
      "Sakhir    2024\n",
      "Jeddah    2024\n",
      "Miami    2024\n",
      "Imola    2024\n",
      "Monaco    2024\n",
      "Barcelona    2024\n",
      "Montréal    2024\n",
      "Spielberg    2024\n",
      "Silverstone    2024\n"
     ]
    },
    {
     "name": "stderr",
     "output_type": "stream",
     "text": [
      "core        WARNING \tFixed incorrect tyre stint information for driver '18'\n"
     ]
    },
    {
     "name": "stdout",
     "output_type": "stream",
     "text": [
      "Spa-Francorchamps    2024\n",
      "Budapest    2024\n",
      "Zandvoort    2024\n"
     ]
    },
    {
     "name": "stderr",
     "output_type": "stream",
     "text": [
      "core        WARNING \tNo lap data for driver 2\n",
      "core        WARNING \tFailed to perform lap accuracy check - all laps marked as inaccurate (driver 2)\n"
     ]
    },
    {
     "name": "stdout",
     "output_type": "stream",
     "text": [
      "Monza    2024\n",
      "Baku    2024\n"
     ]
    },
    {
     "name": "stderr",
     "output_type": "stream",
     "text": [
      "logger      WARNING \tFailed to load result data from Ergast!\n",
      "core        WARNING \tNo result data for this session available on Ergast! (This is expected for recent sessions)\n"
     ]
    },
    {
     "name": "stdout",
     "output_type": "stream",
     "text": [
      "Marina Bay    2024\n",
      "Austin    2024\n",
      "Mexico City    2024\n",
      "São Paulo    2024\n"
     ]
    },
    {
     "name": "stderr",
     "output_type": "stream",
     "text": [
      "core        WARNING \tFixed incorrect tyre stint information for driver '23'\n",
      "core        WARNING \tFixed incorrect tyre stint information for driver '55'\n"
     ]
    },
    {
     "name": "stdout",
     "output_type": "stream",
     "text": [
      "Las Vegas    2024\n",
      "Lusail    2024\n"
     ]
    },
    {
     "name": "stderr",
     "output_type": "stream",
     "text": [
      "_api        WARNING \tDriver  2: Car data is incomplete!\n",
      "_api        WARNING \tDriver  3: Car data is incomplete!\n",
      "_api        WARNING \tDriver  5: Car data is incomplete!\n",
      "_api        WARNING \tDriver  6: Car data is incomplete!\n",
      "_api        WARNING \tDriver  7: Car data is incomplete!\n",
      "_api        WARNING \tDriver  8: Car data is incomplete!\n",
      "_api        WARNING \tDriver  9: Car data is incomplete!\n",
      "_api        WARNING \tDriver 12: Car data is incomplete!\n",
      "_api        WARNING \tDriver 15: Car data is incomplete!\n",
      "_api        WARNING \tDriver 17: Car data is incomplete!\n",
      "_api        WARNING \tDriver 19: Car data is incomplete!\n",
      "_api        WARNING \tDriver 21: Car data is incomplete!\n",
      "_api        WARNING \tDriver 25: Car data is incomplete!\n",
      "_api        WARNING \tDriver 26: Car data is incomplete!\n",
      "_api        WARNING \tDriver 28: Car data is incomplete!\n",
      "_api        WARNING \tDriver 29: Car data is incomplete!\n",
      "_api        WARNING \tDriver 43: Car data is incomplete!\n",
      "_api        WARNING \tDriver 44: Car data is incomplete!\n",
      "_api        WARNING \tDriver 55: Car data is incomplete!\n",
      "_api        WARNING \tDriver 63: Car data is incomplete!\n",
      "_api        WARNING \tDriver 77: Car data is incomplete!\n",
      "_api        WARNING \tDriver 81: Car data is incomplete!\n",
      "_api        WARNING \tDriver  2: Position data is incomplete!\n",
      "_api        WARNING \tDriver  3: Position data is incomplete!\n",
      "_api        WARNING \tDriver  5: Position data is incomplete!\n",
      "_api        WARNING \tDriver  6: Position data is incomplete!\n",
      "_api        WARNING \tDriver  7: Position data is incomplete!\n",
      "_api        WARNING \tDriver  8: Position data is incomplete!\n",
      "_api        WARNING \tDriver  9: Position data is incomplete!\n",
      "_api        WARNING \tDriver 12: Position data is incomplete!\n",
      "_api        WARNING \tDriver 15: Position data is incomplete!\n",
      "_api        WARNING \tDriver 17: Position data is incomplete!\n",
      "_api        WARNING \tDriver 19: Position data is incomplete!\n",
      "_api        WARNING \tDriver 21: Position data is incomplete!\n",
      "_api        WARNING \tDriver 25: Position data is incomplete!\n",
      "_api        WARNING \tDriver 26: Position data is incomplete!\n",
      "_api        WARNING \tDriver 28: Position data is incomplete!\n",
      "_api        WARNING \tDriver 29: Position data is incomplete!\n",
      "_api        WARNING \tDriver 30: Position data is incomplete!\n",
      "_api        WARNING \tDriver 31: Position data is incomplete!\n",
      "_api        WARNING \tDriver 43: Position data is incomplete!\n",
      "_api        WARNING \tDriver 44: Position data is incomplete!\n",
      "_api        WARNING \tDriver 55: Position data is incomplete!\n",
      "_api        WARNING \tDriver 63: Position data is incomplete!\n",
      "_api        WARNING \tDriver 77: Position data is incomplete!\n",
      "_api        WARNING \tDriver 81: Position data is incomplete!\n"
     ]
    },
    {
     "name": "stdout",
     "output_type": "stream",
     "text": [
      "Yas Island    2024\n"
     ]
    }
   ],
   "source": [
    "all_features = []\n",
    "nan_counts_list = []\n",
    "\n",
    "import time\n",
    "\n",
    "\n",
    "for year in [2024]:\n",
    "    for location in circuit_info['Location']:\n",
    "        try:\n",
    "            print(location + \"    \" + str(year))\n",
    "            session = ff1.get_session(year, location, 'Q')\n",
    "            session.load()\n",
    "\n",
    "            # laps\n",
    "            laps = session.laps\n",
    "            laps_clean = laps.pick_quicklaps()\n",
    "            laps_clean = laps_clean.dropna(subset=['LapTime'])      # remove Nan lap times rows\n",
    "\n",
    "            # weather\n",
    "            weather = session.weather_data\n",
    "            laps_clean['LapStartTime'] = laps_clean['Time']\n",
    "            laps_with_weather = pd.merge_asof(\n",
    "                laps_clean.sort_values('LapStartTime'),\n",
    "                weather.sort_values('Time'),\n",
    "                left_on='LapStartTime',\n",
    "                right_on='Time',\n",
    "                direction = 'backward'    # use last known weather measurement\n",
    "            )\n",
    "\n",
    "            # select data\n",
    "            features = laps_with_weather[['Driver', 'Team', 'LapTime', 'LapNumber', 'Stint',\n",
    "                        'TyreLife', 'FreshTyre', 'Compound', 'TrackTemp', 'AirTemp',\n",
    "                        'Sector1Time', 'Sector2Time', 'Sector3Time']].copy()\n",
    "\n",
    "            features['LapTime'] = features['LapTime'].dt.total_seconds()\n",
    "            features['Sector1Time'] = features['Sector1Time'].dt.total_seconds()\n",
    "            features['Sector2Time'] = features['Sector2Time'].dt.total_seconds()\n",
    "            features['Sector3Time'] = features['Sector3Time'].dt.total_seconds()\n",
    "\n",
    "            features['Location'] = location\n",
    "            features['Year'] = year\n",
    "\n",
    "            # merge with circuit info\n",
    "            features_merged = pd.merge(features, circuit_info, on='Location', how='left')\n",
    "\n",
    "            all_features.append(features_merged)\n",
    "            nan_counts_list.append(features_merged.isna().sum())\n",
    "        \n",
    "        except Exception as e:\n",
    "            print(f\"Skipped {location} {year}: {e}\")\n",
    "\n",
    "        time.sleep(5)\n",
    "\n",
    "\n",
    "all_features_df = pd.concat(all_features, ignore_index=True)\n",
    "all_features_df.to_csv('features_laps_2024.csv', index=False)\n",
    "\n",
    "nan_counts_df = pd.DataFrame(nan_counts_list)\n",
    "nan_counts_df.to_csv('nan_counts_2024.csv', index=False)"
   ]
  },
  {
   "cell_type": "code",
   "execution_count": 5,
   "id": "19b8e250",
   "metadata": {},
   "outputs": [
    {
     "name": "stdout",
     "output_type": "stream",
     "text": [
      "Melbourne    2023\n"
     ]
    },
    {
     "name": "stderr",
     "output_type": "stream",
     "text": [
      "logger      WARNING \tFailed to load result data from Ergast!\n",
      "core        WARNING \tNo result data for this session available on Ergast! (This is expected for recent sessions)\n",
      "events      WARNING \tCorrecting user input 'Shanghai' to 'Hungarian Grand Prix'\n"
     ]
    },
    {
     "name": "stdout",
     "output_type": "stream",
     "text": [
      "Shanghai    2023\n",
      "Suzuka    2023\n",
      "Sakhir    2023\n",
      "Jeddah    2023\n",
      "Miami    2023\n"
     ]
    },
    {
     "name": "stderr",
     "output_type": "stream",
     "text": [
      "events      WARNING \tCorrecting user input 'Imola' to 'Italian Grand Prix'\n"
     ]
    },
    {
     "name": "stdout",
     "output_type": "stream",
     "text": [
      "Imola    2023\n",
      "Monaco    2023\n",
      "Barcelona    2023\n",
      "Montréal    2023\n",
      "Spielberg    2023\n",
      "Silverstone    2023\n",
      "Spa-Francorchamps    2023\n",
      "Budapest    2023\n",
      "Zandvoort    2023\n",
      "Monza    2023\n",
      "Baku    2023\n",
      "Marina Bay    2023\n",
      "Austin    2023\n",
      "Mexico City    2023\n",
      "São Paulo    2023\n",
      "Las Vegas    2023\n",
      "Lusail    2023\n",
      "Yas Island    2023\n"
     ]
    }
   ],
   "source": [
    "all_features = []\n",
    "nan_counts_list = []\n",
    "\n",
    "import time\n",
    "\n",
    "for year in [2023]:\n",
    "    for location in circuit_info['Location']:\n",
    "        try:\n",
    "            print(location + \"    \" + str(year))\n",
    "            session = ff1.get_session(year, location, 'Q')\n",
    "            session.load()\n",
    "\n",
    "            # laps\n",
    "            laps = session.laps\n",
    "            laps_clean = laps.pick_quicklaps()\n",
    "            laps_clean = laps_clean.dropna(subset=['LapTime'])      # remove Nan lap times rows\n",
    "\n",
    "            # weather\n",
    "            weather = session.weather_data\n",
    "            laps_clean['LapStartTime'] = laps_clean['Time']\n",
    "            laps_with_weather = pd.merge_asof(\n",
    "                laps_clean.sort_values('LapStartTime'),\n",
    "                weather.sort_values('Time'),\n",
    "                left_on='LapStartTime',\n",
    "                right_on='Time',\n",
    "                direction = 'backward'    # use last known weather measurement\n",
    "            )\n",
    "\n",
    "            # select data\n",
    "            features = laps_with_weather[['Driver', 'Team', 'LapTime', 'LapNumber', 'Stint',\n",
    "                        'TyreLife', 'FreshTyre', 'Compound', 'TrackTemp', 'AirTemp',\n",
    "                        'Sector1Time', 'Sector2Time', 'Sector3Time']].copy()\n",
    "\n",
    "            features['LapTime'] = features['LapTime'].dt.total_seconds()\n",
    "            features['Sector1Time'] = features['Sector1Time'].dt.total_seconds()\n",
    "            features['Sector2Time'] = features['Sector2Time'].dt.total_seconds()\n",
    "            features['Sector3Time'] = features['Sector3Time'].dt.total_seconds()\n",
    "\n",
    "            features['Location'] = location\n",
    "            features['Year'] = year\n",
    "\n",
    "            # merge with circuit info\n",
    "            features_merged = pd.merge(features, circuit_info, on='Location', how='left')\n",
    "\n",
    "            all_features.append(features_merged)\n",
    "            nan_counts_list.append(features_merged.isna().sum())\n",
    "        \n",
    "        except Exception as e:\n",
    "            print(f\"Skipped {location} {year}: {e}\")\n",
    "\n",
    "        time.sleep(5)\n",
    "\n",
    "\n",
    "\n",
    "all_features_df = pd.concat(all_features, ignore_index=True)\n",
    "all_features_df.to_csv('features_laps_2023.csv', index=False)\n",
    "\n",
    "nan_counts_df = pd.DataFrame(nan_counts_list)\n",
    "nan_counts_df.to_csv('nan_counts_2023.csv', index=False)"
   ]
  },
  {
   "cell_type": "code",
   "execution_count": 3,
   "id": "c0ba7088",
   "metadata": {},
   "outputs": [
    {
     "name": "stderr",
     "output_type": "stream",
     "text": [
      "core           INFO \tLoading data for São Paulo Grand Prix - Qualifying [v3.6.1]\n",
      "req            INFO \tUsing cached data for session_info\n",
      "req            INFO \tUsing cached data for driver_info\n",
      "req            INFO \tUsing cached data for session_status_data\n",
      "req            INFO \tUsing cached data for track_status_data\n",
      "req            INFO \tUsing cached data for _extended_timing_data\n",
      "req            INFO \tUsing cached data for timing_app_data\n",
      "core           INFO \tProcessing timing data...\n",
      "core        WARNING \tFixed incorrect tyre stint information for driver '23'\n",
      "core        WARNING \tFixed incorrect tyre stint information for driver '55'\n",
      "req            INFO \tUsing cached data for car_data\n",
      "req            INFO \tUsing cached data for position_data\n",
      "req            INFO \tUsing cached data for weather_data\n",
      "req            INFO \tUsing cached data for race_control_messages\n",
      "core           INFO \tFinished loading data for 20 drivers: ['4', '63', '22', '31', '30', '16', '23', '81', '14', '18', '77', '1', '11', '55', '10', '44', '50', '43', '27', '24']\n"
     ]
    }
   ],
   "source": [
    "session = ff1.get_session(2024, \"Brazil\", \"Q\")\n",
    "session.load()"
   ]
  },
  {
   "cell_type": "code",
   "execution_count": 4,
   "id": "38e44763",
   "metadata": {},
   "outputs": [
    {
     "data": {
      "text/plain": [
       "0      WET\n",
       "1      WET\n",
       "2      WET\n",
       "3      WET\n",
       "4      WET\n",
       "      ... \n",
       "420    WET\n",
       "421    WET\n",
       "422    WET\n",
       "423    WET\n",
       "424    WET\n",
       "Name: Compound, Length: 425, dtype: object"
      ]
     },
     "execution_count": 4,
     "metadata": {},
     "output_type": "execute_result"
    }
   ],
   "source": [
    "session.laps['Compound']"
   ]
  },
  {
   "cell_type": "code",
   "execution_count": null,
   "id": "70f55ef9",
   "metadata": {},
   "outputs": [],
   "source": []
  },
  {
   "cell_type": "code",
   "execution_count": 4,
   "id": "2c980e6d",
   "metadata": {},
   "outputs": [
    {
     "data": {
      "text/html": [
       "<div>\n",
       "<style scoped>\n",
       "    .dataframe tbody tr th:only-of-type {\n",
       "        vertical-align: middle;\n",
       "    }\n",
       "\n",
       "    .dataframe tbody tr th {\n",
       "        vertical-align: top;\n",
       "    }\n",
       "\n",
       "    .dataframe thead th {\n",
       "        text-align: right;\n",
       "    }\n",
       "</style>\n",
       "<table border=\"1\" class=\"dataframe\">\n",
       "  <thead>\n",
       "    <tr style=\"text-align: right;\">\n",
       "      <th></th>\n",
       "      <th>RoundNumber</th>\n",
       "      <th>Country</th>\n",
       "      <th>Location</th>\n",
       "      <th>OfficialEventName</th>\n",
       "      <th>EventDate</th>\n",
       "      <th>EventName</th>\n",
       "      <th>EventFormat</th>\n",
       "      <th>Session1</th>\n",
       "      <th>Session1Date</th>\n",
       "      <th>Session1DateUtc</th>\n",
       "      <th>...</th>\n",
       "      <th>Session3</th>\n",
       "      <th>Session3Date</th>\n",
       "      <th>Session3DateUtc</th>\n",
       "      <th>Session4</th>\n",
       "      <th>Session4Date</th>\n",
       "      <th>Session4DateUtc</th>\n",
       "      <th>Session5</th>\n",
       "      <th>Session5Date</th>\n",
       "      <th>Session5DateUtc</th>\n",
       "      <th>F1ApiSupport</th>\n",
       "    </tr>\n",
       "  </thead>\n",
       "  <tbody>\n",
       "    <tr>\n",
       "      <th>0</th>\n",
       "      <td>0</td>\n",
       "      <td>Spain</td>\n",
       "      <td>Spain</td>\n",
       "      <td>FORMULA 1 PRE-SEASON TRACK SESSION 2022</td>\n",
       "      <td>2022-02-25</td>\n",
       "      <td>Pre-Season Track Session</td>\n",
       "      <td>testing</td>\n",
       "      <td>Practice 1</td>\n",
       "      <td>2022-02-23 09:00:00+01:00</td>\n",
       "      <td>2022-02-23 08:00:00</td>\n",
       "      <td>...</td>\n",
       "      <td>Practice 3</td>\n",
       "      <td>2022-02-25 09:00:00+01:00</td>\n",
       "      <td>2022-02-25 08:00:00</td>\n",
       "      <td>None</td>\n",
       "      <td>NaT</td>\n",
       "      <td>NaT</td>\n",
       "      <td>None</td>\n",
       "      <td>NaT</td>\n",
       "      <td>NaT</td>\n",
       "      <td>False</td>\n",
       "    </tr>\n",
       "    <tr>\n",
       "      <th>1</th>\n",
       "      <td>0</td>\n",
       "      <td>Bahrain</td>\n",
       "      <td>Bahrain</td>\n",
       "      <td>FORMULA 1 ARAMCO PRE-SEASON TESTING 2022</td>\n",
       "      <td>2022-03-12</td>\n",
       "      <td>Pre-Season Test</td>\n",
       "      <td>testing</td>\n",
       "      <td>Practice 1</td>\n",
       "      <td>2022-03-10 10:00:00+03:00</td>\n",
       "      <td>2022-03-10 07:00:00</td>\n",
       "      <td>...</td>\n",
       "      <td>Practice 3</td>\n",
       "      <td>2022-03-12 10:00:00+03:00</td>\n",
       "      <td>2022-03-12 07:00:00</td>\n",
       "      <td>None</td>\n",
       "      <td>NaT</td>\n",
       "      <td>NaT</td>\n",
       "      <td>None</td>\n",
       "      <td>NaT</td>\n",
       "      <td>NaT</td>\n",
       "      <td>True</td>\n",
       "    </tr>\n",
       "    <tr>\n",
       "      <th>2</th>\n",
       "      <td>1</td>\n",
       "      <td>Bahrain</td>\n",
       "      <td>Sakhir</td>\n",
       "      <td>FORMULA 1 GULF AIR BAHRAIN GRAND PRIX 2022</td>\n",
       "      <td>2022-03-20</td>\n",
       "      <td>Bahrain Grand Prix</td>\n",
       "      <td>conventional</td>\n",
       "      <td>Practice 1</td>\n",
       "      <td>2022-03-18 15:00:00+03:00</td>\n",
       "      <td>2022-03-18 12:00:00</td>\n",
       "      <td>...</td>\n",
       "      <td>Practice 3</td>\n",
       "      <td>2022-03-19 15:00:00+03:00</td>\n",
       "      <td>2022-03-19 12:00:00</td>\n",
       "      <td>Qualifying</td>\n",
       "      <td>2022-03-19 18:00:00+03:00</td>\n",
       "      <td>2022-03-19 15:00:00</td>\n",
       "      <td>Race</td>\n",
       "      <td>2022-03-20 18:00:00+03:00</td>\n",
       "      <td>2022-03-20 15:00:00</td>\n",
       "      <td>True</td>\n",
       "    </tr>\n",
       "    <tr>\n",
       "      <th>3</th>\n",
       "      <td>2</td>\n",
       "      <td>Saudi Arabia</td>\n",
       "      <td>Jeddah</td>\n",
       "      <td>FORMULA 1 STC SAUDI ARABIAN GRAND PRIX 2022</td>\n",
       "      <td>2022-03-27</td>\n",
       "      <td>Saudi Arabian Grand Prix</td>\n",
       "      <td>conventional</td>\n",
       "      <td>Practice 1</td>\n",
       "      <td>2022-03-25 17:00:00+03:00</td>\n",
       "      <td>2022-03-25 14:00:00</td>\n",
       "      <td>...</td>\n",
       "      <td>Practice 3</td>\n",
       "      <td>2022-03-26 17:00:00+03:00</td>\n",
       "      <td>2022-03-26 14:00:00</td>\n",
       "      <td>Qualifying</td>\n",
       "      <td>2022-03-26 20:00:00+03:00</td>\n",
       "      <td>2022-03-26 17:00:00</td>\n",
       "      <td>Race</td>\n",
       "      <td>2022-03-27 20:00:00+03:00</td>\n",
       "      <td>2022-03-27 17:00:00</td>\n",
       "      <td>True</td>\n",
       "    </tr>\n",
       "    <tr>\n",
       "      <th>4</th>\n",
       "      <td>3</td>\n",
       "      <td>Australia</td>\n",
       "      <td>Melbourne</td>\n",
       "      <td>FORMULA 1 HEINEKEN AUSTRALIAN GRAND PRIX 2022</td>\n",
       "      <td>2022-04-10</td>\n",
       "      <td>Australian Grand Prix</td>\n",
       "      <td>conventional</td>\n",
       "      <td>Practice 1</td>\n",
       "      <td>2022-04-08 13:00:00+10:00</td>\n",
       "      <td>2022-04-08 03:00:00</td>\n",
       "      <td>...</td>\n",
       "      <td>Practice 3</td>\n",
       "      <td>2022-04-09 13:00:00+10:00</td>\n",
       "      <td>2022-04-09 03:00:00</td>\n",
       "      <td>Qualifying</td>\n",
       "      <td>2022-04-09 16:00:00+10:00</td>\n",
       "      <td>2022-04-09 06:00:00</td>\n",
       "      <td>Race</td>\n",
       "      <td>2022-04-10 15:00:00+10:00</td>\n",
       "      <td>2022-04-10 05:00:00</td>\n",
       "      <td>True</td>\n",
       "    </tr>\n",
       "    <tr>\n",
       "      <th>5</th>\n",
       "      <td>4</td>\n",
       "      <td>Italy</td>\n",
       "      <td>Imola</td>\n",
       "      <td>FORMULA 1 ROLEX GRAN PREMIO DEL MADE IN ITALY ...</td>\n",
       "      <td>2022-04-24</td>\n",
       "      <td>Emilia Romagna Grand Prix</td>\n",
       "      <td>sprint</td>\n",
       "      <td>Practice 1</td>\n",
       "      <td>2022-04-22 13:30:00+02:00</td>\n",
       "      <td>2022-04-22 11:30:00</td>\n",
       "      <td>...</td>\n",
       "      <td>Practice 2</td>\n",
       "      <td>2022-04-23 12:30:00+02:00</td>\n",
       "      <td>2022-04-23 10:30:00</td>\n",
       "      <td>Sprint</td>\n",
       "      <td>2022-04-23 16:30:00+02:00</td>\n",
       "      <td>2022-04-23 14:30:00</td>\n",
       "      <td>Race</td>\n",
       "      <td>2022-04-24 15:00:00+02:00</td>\n",
       "      <td>2022-04-24 13:00:00</td>\n",
       "      <td>True</td>\n",
       "    </tr>\n",
       "    <tr>\n",
       "      <th>6</th>\n",
       "      <td>5</td>\n",
       "      <td>United States</td>\n",
       "      <td>Miami</td>\n",
       "      <td>FORMULA 1 CRYPTO.COM MIAMI GRAND PRIX 2022</td>\n",
       "      <td>2022-05-08</td>\n",
       "      <td>Miami Grand Prix</td>\n",
       "      <td>conventional</td>\n",
       "      <td>Practice 1</td>\n",
       "      <td>2022-05-06 14:30:00-04:00</td>\n",
       "      <td>2022-05-06 18:30:00</td>\n",
       "      <td>...</td>\n",
       "      <td>Practice 3</td>\n",
       "      <td>2022-05-07 13:00:00-04:00</td>\n",
       "      <td>2022-05-07 17:00:00</td>\n",
       "      <td>Qualifying</td>\n",
       "      <td>2022-05-07 16:00:00-04:00</td>\n",
       "      <td>2022-05-07 20:00:00</td>\n",
       "      <td>Race</td>\n",
       "      <td>2022-05-08 15:30:00-04:00</td>\n",
       "      <td>2022-05-08 19:30:00</td>\n",
       "      <td>True</td>\n",
       "    </tr>\n",
       "    <tr>\n",
       "      <th>7</th>\n",
       "      <td>6</td>\n",
       "      <td>Spain</td>\n",
       "      <td>Barcelona</td>\n",
       "      <td>FORMULA 1 PIRELLI GRAN PREMIO DE ESPAÑA 2022</td>\n",
       "      <td>2022-05-22</td>\n",
       "      <td>Spanish Grand Prix</td>\n",
       "      <td>conventional</td>\n",
       "      <td>Practice 1</td>\n",
       "      <td>2022-05-20 14:00:00+02:00</td>\n",
       "      <td>2022-05-20 12:00:00</td>\n",
       "      <td>...</td>\n",
       "      <td>Practice 3</td>\n",
       "      <td>2022-05-21 13:00:00+02:00</td>\n",
       "      <td>2022-05-21 11:00:00</td>\n",
       "      <td>Qualifying</td>\n",
       "      <td>2022-05-21 16:00:00+02:00</td>\n",
       "      <td>2022-05-21 14:00:00</td>\n",
       "      <td>Race</td>\n",
       "      <td>2022-05-22 15:00:00+02:00</td>\n",
       "      <td>2022-05-22 13:00:00</td>\n",
       "      <td>True</td>\n",
       "    </tr>\n",
       "    <tr>\n",
       "      <th>8</th>\n",
       "      <td>7</td>\n",
       "      <td>Monaco</td>\n",
       "      <td>Monaco</td>\n",
       "      <td>FORMULA 1 GRAND PRIX DE MONACO 2022</td>\n",
       "      <td>2022-05-29</td>\n",
       "      <td>Monaco Grand Prix</td>\n",
       "      <td>conventional</td>\n",
       "      <td>Practice 1</td>\n",
       "      <td>2022-05-27 14:00:00+02:00</td>\n",
       "      <td>2022-05-27 12:00:00</td>\n",
       "      <td>...</td>\n",
       "      <td>Practice 3</td>\n",
       "      <td>2022-05-28 13:00:00+02:00</td>\n",
       "      <td>2022-05-28 11:00:00</td>\n",
       "      <td>Qualifying</td>\n",
       "      <td>2022-05-28 16:00:00+02:00</td>\n",
       "      <td>2022-05-28 14:00:00</td>\n",
       "      <td>Race</td>\n",
       "      <td>2022-05-29 15:00:00+02:00</td>\n",
       "      <td>2022-05-29 13:00:00</td>\n",
       "      <td>True</td>\n",
       "    </tr>\n",
       "    <tr>\n",
       "      <th>9</th>\n",
       "      <td>8</td>\n",
       "      <td>Azerbaijan</td>\n",
       "      <td>Baku</td>\n",
       "      <td>FORMULA 1 AZERBAIJAN GRAND PRIX 2022</td>\n",
       "      <td>2022-06-12</td>\n",
       "      <td>Azerbaijan Grand Prix</td>\n",
       "      <td>conventional</td>\n",
       "      <td>Practice 1</td>\n",
       "      <td>2022-06-10 15:00:00+04:00</td>\n",
       "      <td>2022-06-10 11:00:00</td>\n",
       "      <td>...</td>\n",
       "      <td>Practice 3</td>\n",
       "      <td>2022-06-11 15:00:00+04:00</td>\n",
       "      <td>2022-06-11 11:00:00</td>\n",
       "      <td>Qualifying</td>\n",
       "      <td>2022-06-11 18:00:00+04:00</td>\n",
       "      <td>2022-06-11 14:00:00</td>\n",
       "      <td>Race</td>\n",
       "      <td>2022-06-12 15:00:00+04:00</td>\n",
       "      <td>2022-06-12 11:00:00</td>\n",
       "      <td>True</td>\n",
       "    </tr>\n",
       "    <tr>\n",
       "      <th>10</th>\n",
       "      <td>9</td>\n",
       "      <td>Canada</td>\n",
       "      <td>Montréal</td>\n",
       "      <td>FORMULA 1 AWS GRAND PRIX DU CANADA 2022</td>\n",
       "      <td>2022-06-19</td>\n",
       "      <td>Canadian Grand Prix</td>\n",
       "      <td>conventional</td>\n",
       "      <td>Practice 1</td>\n",
       "      <td>2022-06-17 14:00:00-04:00</td>\n",
       "      <td>2022-06-17 18:00:00</td>\n",
       "      <td>...</td>\n",
       "      <td>Practice 3</td>\n",
       "      <td>2022-06-18 13:00:00-04:00</td>\n",
       "      <td>2022-06-18 17:00:00</td>\n",
       "      <td>Qualifying</td>\n",
       "      <td>2022-06-18 16:00:00-04:00</td>\n",
       "      <td>2022-06-18 20:00:00</td>\n",
       "      <td>Race</td>\n",
       "      <td>2022-06-19 14:00:00-04:00</td>\n",
       "      <td>2022-06-19 18:00:00</td>\n",
       "      <td>True</td>\n",
       "    </tr>\n",
       "    <tr>\n",
       "      <th>11</th>\n",
       "      <td>10</td>\n",
       "      <td>Great Britain</td>\n",
       "      <td>Silverstone</td>\n",
       "      <td>FORMULA 1 LENOVO BRITISH GRAND PRIX 2022</td>\n",
       "      <td>2022-07-03</td>\n",
       "      <td>British Grand Prix</td>\n",
       "      <td>conventional</td>\n",
       "      <td>Practice 1</td>\n",
       "      <td>2022-07-01 13:00:00+01:00</td>\n",
       "      <td>2022-07-01 12:00:00</td>\n",
       "      <td>...</td>\n",
       "      <td>Practice 3</td>\n",
       "      <td>2022-07-02 12:00:00+01:00</td>\n",
       "      <td>2022-07-02 11:00:00</td>\n",
       "      <td>Qualifying</td>\n",
       "      <td>2022-07-02 15:00:00+01:00</td>\n",
       "      <td>2022-07-02 14:00:00</td>\n",
       "      <td>Race</td>\n",
       "      <td>2022-07-03 15:00:00+01:00</td>\n",
       "      <td>2022-07-03 14:00:00</td>\n",
       "      <td>True</td>\n",
       "    </tr>\n",
       "    <tr>\n",
       "      <th>12</th>\n",
       "      <td>11</td>\n",
       "      <td>Austria</td>\n",
       "      <td>Spielberg</td>\n",
       "      <td>FORMULA 1 ROLEX GROSSER PREIS VON ÖSTERREICH 2022</td>\n",
       "      <td>2022-07-10</td>\n",
       "      <td>Austrian Grand Prix</td>\n",
       "      <td>sprint</td>\n",
       "      <td>Practice 1</td>\n",
       "      <td>2022-07-08 13:30:00+02:00</td>\n",
       "      <td>2022-07-08 11:30:00</td>\n",
       "      <td>...</td>\n",
       "      <td>Practice 2</td>\n",
       "      <td>2022-07-09 12:30:00+02:00</td>\n",
       "      <td>2022-07-09 10:30:00</td>\n",
       "      <td>Sprint</td>\n",
       "      <td>2022-07-09 16:30:00+02:00</td>\n",
       "      <td>2022-07-09 14:30:00</td>\n",
       "      <td>Race</td>\n",
       "      <td>2022-07-10 15:00:00+02:00</td>\n",
       "      <td>2022-07-10 13:00:00</td>\n",
       "      <td>True</td>\n",
       "    </tr>\n",
       "    <tr>\n",
       "      <th>13</th>\n",
       "      <td>12</td>\n",
       "      <td>France</td>\n",
       "      <td>Le Castellet</td>\n",
       "      <td>FORMULA 1 LENOVO GRAND PRIX DE FRANCE 2022</td>\n",
       "      <td>2022-07-24</td>\n",
       "      <td>French Grand Prix</td>\n",
       "      <td>conventional</td>\n",
       "      <td>Practice 1</td>\n",
       "      <td>2022-07-22 14:00:00+02:00</td>\n",
       "      <td>2022-07-22 12:00:00</td>\n",
       "      <td>...</td>\n",
       "      <td>Practice 3</td>\n",
       "      <td>2022-07-23 13:00:00+02:00</td>\n",
       "      <td>2022-07-23 11:00:00</td>\n",
       "      <td>Qualifying</td>\n",
       "      <td>2022-07-23 16:00:00+02:00</td>\n",
       "      <td>2022-07-23 14:00:00</td>\n",
       "      <td>Race</td>\n",
       "      <td>2022-07-24 15:00:00+02:00</td>\n",
       "      <td>2022-07-24 13:00:00</td>\n",
       "      <td>True</td>\n",
       "    </tr>\n",
       "    <tr>\n",
       "      <th>14</th>\n",
       "      <td>13</td>\n",
       "      <td>Hungary</td>\n",
       "      <td>Budapest</td>\n",
       "      <td>FORMULA 1 ARAMCO MAGYAR NAGYDÍJ 2022</td>\n",
       "      <td>2022-07-31</td>\n",
       "      <td>Hungarian Grand Prix</td>\n",
       "      <td>conventional</td>\n",
       "      <td>Practice 1</td>\n",
       "      <td>2022-07-29 14:00:00+02:00</td>\n",
       "      <td>2022-07-29 12:00:00</td>\n",
       "      <td>...</td>\n",
       "      <td>Practice 3</td>\n",
       "      <td>2022-07-30 13:00:00+02:00</td>\n",
       "      <td>2022-07-30 11:00:00</td>\n",
       "      <td>Qualifying</td>\n",
       "      <td>2022-07-30 16:00:00+02:00</td>\n",
       "      <td>2022-07-30 14:00:00</td>\n",
       "      <td>Race</td>\n",
       "      <td>2022-07-31 15:00:00+02:00</td>\n",
       "      <td>2022-07-31 13:00:00</td>\n",
       "      <td>True</td>\n",
       "    </tr>\n",
       "    <tr>\n",
       "      <th>15</th>\n",
       "      <td>14</td>\n",
       "      <td>Belgium</td>\n",
       "      <td>Spa-Francorchamps</td>\n",
       "      <td>FORMULA 1 ROLEX BELGIAN GRAND PRIX 2022</td>\n",
       "      <td>2022-08-28</td>\n",
       "      <td>Belgian Grand Prix</td>\n",
       "      <td>conventional</td>\n",
       "      <td>Practice 1</td>\n",
       "      <td>2022-08-26 14:00:00+02:00</td>\n",
       "      <td>2022-08-26 12:00:00</td>\n",
       "      <td>...</td>\n",
       "      <td>Practice 3</td>\n",
       "      <td>2022-08-27 13:00:00+02:00</td>\n",
       "      <td>2022-08-27 11:00:00</td>\n",
       "      <td>Qualifying</td>\n",
       "      <td>2022-08-27 16:00:00+02:00</td>\n",
       "      <td>2022-08-27 14:00:00</td>\n",
       "      <td>Race</td>\n",
       "      <td>2022-08-28 15:00:00+02:00</td>\n",
       "      <td>2022-08-28 13:00:00</td>\n",
       "      <td>True</td>\n",
       "    </tr>\n",
       "    <tr>\n",
       "      <th>16</th>\n",
       "      <td>15</td>\n",
       "      <td>Netherlands</td>\n",
       "      <td>Zandvoort</td>\n",
       "      <td>FORMULA 1 HEINEKEN DUTCH GRAND PRIX 2022</td>\n",
       "      <td>2022-09-04</td>\n",
       "      <td>Dutch Grand Prix</td>\n",
       "      <td>conventional</td>\n",
       "      <td>Practice 1</td>\n",
       "      <td>2022-09-02 12:30:00+02:00</td>\n",
       "      <td>2022-09-02 10:30:00</td>\n",
       "      <td>...</td>\n",
       "      <td>Practice 3</td>\n",
       "      <td>2022-09-03 12:00:00+02:00</td>\n",
       "      <td>2022-09-03 10:00:00</td>\n",
       "      <td>Qualifying</td>\n",
       "      <td>2022-09-03 15:00:00+02:00</td>\n",
       "      <td>2022-09-03 13:00:00</td>\n",
       "      <td>Race</td>\n",
       "      <td>2022-09-04 15:00:00+02:00</td>\n",
       "      <td>2022-09-04 13:00:00</td>\n",
       "      <td>True</td>\n",
       "    </tr>\n",
       "    <tr>\n",
       "      <th>17</th>\n",
       "      <td>16</td>\n",
       "      <td>Italy</td>\n",
       "      <td>Monza</td>\n",
       "      <td>FORMULA 1 PIRELLI GRAN PREMIO D’ITALIA 2022</td>\n",
       "      <td>2022-09-11</td>\n",
       "      <td>Italian Grand Prix</td>\n",
       "      <td>conventional</td>\n",
       "      <td>Practice 1</td>\n",
       "      <td>2022-09-09 14:00:00+02:00</td>\n",
       "      <td>2022-09-09 12:00:00</td>\n",
       "      <td>...</td>\n",
       "      <td>Practice 3</td>\n",
       "      <td>2022-09-10 13:00:00+02:00</td>\n",
       "      <td>2022-09-10 11:00:00</td>\n",
       "      <td>Qualifying</td>\n",
       "      <td>2022-09-10 16:00:00+02:00</td>\n",
       "      <td>2022-09-10 14:00:00</td>\n",
       "      <td>Race</td>\n",
       "      <td>2022-09-11 15:00:00+02:00</td>\n",
       "      <td>2022-09-11 13:00:00</td>\n",
       "      <td>True</td>\n",
       "    </tr>\n",
       "    <tr>\n",
       "      <th>18</th>\n",
       "      <td>17</td>\n",
       "      <td>Singapore</td>\n",
       "      <td>Marina Bay</td>\n",
       "      <td>FORMULA 1 SINGAPORE AIRLINES SINGAPORE GRAND P...</td>\n",
       "      <td>2022-10-02</td>\n",
       "      <td>Singapore Grand Prix</td>\n",
       "      <td>conventional</td>\n",
       "      <td>Practice 1</td>\n",
       "      <td>2022-09-30 18:00:00+08:00</td>\n",
       "      <td>2022-09-30 10:00:00</td>\n",
       "      <td>...</td>\n",
       "      <td>Practice 3</td>\n",
       "      <td>2022-10-01 18:00:00+08:00</td>\n",
       "      <td>2022-10-01 10:00:00</td>\n",
       "      <td>Qualifying</td>\n",
       "      <td>2022-10-01 21:00:00+08:00</td>\n",
       "      <td>2022-10-01 13:00:00</td>\n",
       "      <td>Race</td>\n",
       "      <td>2022-10-02 20:00:00+08:00</td>\n",
       "      <td>2022-10-02 12:00:00</td>\n",
       "      <td>True</td>\n",
       "    </tr>\n",
       "    <tr>\n",
       "      <th>19</th>\n",
       "      <td>18</td>\n",
       "      <td>Japan</td>\n",
       "      <td>Suzuka</td>\n",
       "      <td>FORMULA 1 HONDA JAPANESE GRAND PRIX 2022</td>\n",
       "      <td>2022-10-09</td>\n",
       "      <td>Japanese Grand Prix</td>\n",
       "      <td>conventional</td>\n",
       "      <td>Practice 1</td>\n",
       "      <td>2022-10-07 12:00:00+09:00</td>\n",
       "      <td>2022-10-07 03:00:00</td>\n",
       "      <td>...</td>\n",
       "      <td>Practice 3</td>\n",
       "      <td>2022-10-08 12:00:00+09:00</td>\n",
       "      <td>2022-10-08 03:00:00</td>\n",
       "      <td>Qualifying</td>\n",
       "      <td>2022-10-08 15:00:00+09:00</td>\n",
       "      <td>2022-10-08 06:00:00</td>\n",
       "      <td>Race</td>\n",
       "      <td>2022-10-09 14:00:00+09:00</td>\n",
       "      <td>2022-10-09 05:00:00</td>\n",
       "      <td>True</td>\n",
       "    </tr>\n",
       "    <tr>\n",
       "      <th>20</th>\n",
       "      <td>19</td>\n",
       "      <td>United States</td>\n",
       "      <td>Austin</td>\n",
       "      <td>FORMULA 1 ARAMCO UNITED STATES GRAND PRIX 2022</td>\n",
       "      <td>2022-10-23</td>\n",
       "      <td>United States Grand Prix</td>\n",
       "      <td>conventional</td>\n",
       "      <td>Practice 1</td>\n",
       "      <td>2022-10-21 14:00:00-05:00</td>\n",
       "      <td>2022-10-21 19:00:00</td>\n",
       "      <td>...</td>\n",
       "      <td>Practice 3</td>\n",
       "      <td>2022-10-22 14:00:00-05:00</td>\n",
       "      <td>2022-10-22 19:00:00</td>\n",
       "      <td>Qualifying</td>\n",
       "      <td>2022-10-22 17:00:00-05:00</td>\n",
       "      <td>2022-10-22 22:00:00</td>\n",
       "      <td>Race</td>\n",
       "      <td>2022-10-23 14:00:00-05:00</td>\n",
       "      <td>2022-10-23 19:00:00</td>\n",
       "      <td>True</td>\n",
       "    </tr>\n",
       "    <tr>\n",
       "      <th>21</th>\n",
       "      <td>20</td>\n",
       "      <td>Mexico</td>\n",
       "      <td>Mexico City</td>\n",
       "      <td>FORMULA 1 HEINEKEN GRAN PREMIO DE LA CIUDAD DE...</td>\n",
       "      <td>2022-10-30</td>\n",
       "      <td>Mexico City Grand Prix</td>\n",
       "      <td>conventional</td>\n",
       "      <td>Practice 1</td>\n",
       "      <td>2022-10-28 13:00:00-06:00</td>\n",
       "      <td>2022-10-28 19:00:00</td>\n",
       "      <td>...</td>\n",
       "      <td>Practice 3</td>\n",
       "      <td>2022-10-29 12:00:00-06:00</td>\n",
       "      <td>2022-10-29 18:00:00</td>\n",
       "      <td>Qualifying</td>\n",
       "      <td>2022-10-29 15:00:00-06:00</td>\n",
       "      <td>2022-10-29 21:00:00</td>\n",
       "      <td>Race</td>\n",
       "      <td>2022-10-30 14:00:00-06:00</td>\n",
       "      <td>2022-10-30 20:00:00</td>\n",
       "      <td>True</td>\n",
       "    </tr>\n",
       "    <tr>\n",
       "      <th>22</th>\n",
       "      <td>21</td>\n",
       "      <td>Brazil</td>\n",
       "      <td>São Paulo</td>\n",
       "      <td>FORMULA 1 HEINEKEN GRANDE PRÊMIO DE SÃO PAULO ...</td>\n",
       "      <td>2022-11-13</td>\n",
       "      <td>São Paulo Grand Prix</td>\n",
       "      <td>sprint</td>\n",
       "      <td>Practice 1</td>\n",
       "      <td>2022-11-11 12:30:00-03:00</td>\n",
       "      <td>2022-11-11 15:30:00</td>\n",
       "      <td>...</td>\n",
       "      <td>Practice 2</td>\n",
       "      <td>2022-11-12 12:30:00-03:00</td>\n",
       "      <td>2022-11-12 15:30:00</td>\n",
       "      <td>Sprint</td>\n",
       "      <td>2022-11-12 16:30:00-03:00</td>\n",
       "      <td>2022-11-12 19:30:00</td>\n",
       "      <td>Race</td>\n",
       "      <td>2022-11-13 15:00:00-03:00</td>\n",
       "      <td>2022-11-13 18:00:00</td>\n",
       "      <td>True</td>\n",
       "    </tr>\n",
       "    <tr>\n",
       "      <th>23</th>\n",
       "      <td>22</td>\n",
       "      <td>Abu Dhabi</td>\n",
       "      <td>Yas Island</td>\n",
       "      <td>FORMULA 1 ETIHAD AIRWAYS ABU DHABI GRAND PRIX ...</td>\n",
       "      <td>2022-11-20</td>\n",
       "      <td>Abu Dhabi Grand Prix</td>\n",
       "      <td>conventional</td>\n",
       "      <td>Practice 1</td>\n",
       "      <td>2022-11-18 14:00:00+04:00</td>\n",
       "      <td>2022-11-18 10:00:00</td>\n",
       "      <td>...</td>\n",
       "      <td>Practice 3</td>\n",
       "      <td>2022-11-19 14:30:00+04:00</td>\n",
       "      <td>2022-11-19 10:30:00</td>\n",
       "      <td>Qualifying</td>\n",
       "      <td>2022-11-19 18:00:00+04:00</td>\n",
       "      <td>2022-11-19 14:00:00</td>\n",
       "      <td>Race</td>\n",
       "      <td>2022-11-20 17:00:00+04:00</td>\n",
       "      <td>2022-11-20 13:00:00</td>\n",
       "      <td>True</td>\n",
       "    </tr>\n",
       "  </tbody>\n",
       "</table>\n",
       "<p>24 rows × 23 columns</p>\n",
       "</div>"
      ],
      "text/plain": [
       "    RoundNumber        Country           Location  \\\n",
       "0             0          Spain              Spain   \n",
       "1             0        Bahrain            Bahrain   \n",
       "2             1        Bahrain             Sakhir   \n",
       "3             2   Saudi Arabia             Jeddah   \n",
       "4             3      Australia          Melbourne   \n",
       "5             4          Italy              Imola   \n",
       "6             5  United States              Miami   \n",
       "7             6          Spain          Barcelona   \n",
       "8             7         Monaco             Monaco   \n",
       "9             8     Azerbaijan               Baku   \n",
       "10            9         Canada           Montréal   \n",
       "11           10  Great Britain        Silverstone   \n",
       "12           11        Austria          Spielberg   \n",
       "13           12         France       Le Castellet   \n",
       "14           13        Hungary           Budapest   \n",
       "15           14        Belgium  Spa-Francorchamps   \n",
       "16           15    Netherlands          Zandvoort   \n",
       "17           16          Italy              Monza   \n",
       "18           17      Singapore         Marina Bay   \n",
       "19           18          Japan             Suzuka   \n",
       "20           19  United States             Austin   \n",
       "21           20         Mexico        Mexico City   \n",
       "22           21         Brazil          São Paulo   \n",
       "23           22      Abu Dhabi         Yas Island   \n",
       "\n",
       "                                    OfficialEventName  EventDate  \\\n",
       "0             FORMULA 1 PRE-SEASON TRACK SESSION 2022 2022-02-25   \n",
       "1            FORMULA 1 ARAMCO PRE-SEASON TESTING 2022 2022-03-12   \n",
       "2          FORMULA 1 GULF AIR BAHRAIN GRAND PRIX 2022 2022-03-20   \n",
       "3         FORMULA 1 STC SAUDI ARABIAN GRAND PRIX 2022 2022-03-27   \n",
       "4       FORMULA 1 HEINEKEN AUSTRALIAN GRAND PRIX 2022 2022-04-10   \n",
       "5   FORMULA 1 ROLEX GRAN PREMIO DEL MADE IN ITALY ... 2022-04-24   \n",
       "6          FORMULA 1 CRYPTO.COM MIAMI GRAND PRIX 2022 2022-05-08   \n",
       "7        FORMULA 1 PIRELLI GRAN PREMIO DE ESPAÑA 2022 2022-05-22   \n",
       "8                 FORMULA 1 GRAND PRIX DE MONACO 2022 2022-05-29   \n",
       "9                FORMULA 1 AZERBAIJAN GRAND PRIX 2022 2022-06-12   \n",
       "10            FORMULA 1 AWS GRAND PRIX DU CANADA 2022 2022-06-19   \n",
       "11           FORMULA 1 LENOVO BRITISH GRAND PRIX 2022 2022-07-03   \n",
       "12  FORMULA 1 ROLEX GROSSER PREIS VON ÖSTERREICH 2022 2022-07-10   \n",
       "13         FORMULA 1 LENOVO GRAND PRIX DE FRANCE 2022 2022-07-24   \n",
       "14               FORMULA 1 ARAMCO MAGYAR NAGYDÍJ 2022 2022-07-31   \n",
       "15            FORMULA 1 ROLEX BELGIAN GRAND PRIX 2022 2022-08-28   \n",
       "16           FORMULA 1 HEINEKEN DUTCH GRAND PRIX 2022 2022-09-04   \n",
       "17        FORMULA 1 PIRELLI GRAN PREMIO D’ITALIA 2022 2022-09-11   \n",
       "18  FORMULA 1 SINGAPORE AIRLINES SINGAPORE GRAND P... 2022-10-02   \n",
       "19           FORMULA 1 HONDA JAPANESE GRAND PRIX 2022 2022-10-09   \n",
       "20     FORMULA 1 ARAMCO UNITED STATES GRAND PRIX 2022 2022-10-23   \n",
       "21  FORMULA 1 HEINEKEN GRAN PREMIO DE LA CIUDAD DE... 2022-10-30   \n",
       "22  FORMULA 1 HEINEKEN GRANDE PRÊMIO DE SÃO PAULO ... 2022-11-13   \n",
       "23  FORMULA 1 ETIHAD AIRWAYS ABU DHABI GRAND PRIX ... 2022-11-20   \n",
       "\n",
       "                    EventName   EventFormat    Session1  \\\n",
       "0    Pre-Season Track Session       testing  Practice 1   \n",
       "1             Pre-Season Test       testing  Practice 1   \n",
       "2          Bahrain Grand Prix  conventional  Practice 1   \n",
       "3    Saudi Arabian Grand Prix  conventional  Practice 1   \n",
       "4       Australian Grand Prix  conventional  Practice 1   \n",
       "5   Emilia Romagna Grand Prix        sprint  Practice 1   \n",
       "6            Miami Grand Prix  conventional  Practice 1   \n",
       "7          Spanish Grand Prix  conventional  Practice 1   \n",
       "8           Monaco Grand Prix  conventional  Practice 1   \n",
       "9       Azerbaijan Grand Prix  conventional  Practice 1   \n",
       "10        Canadian Grand Prix  conventional  Practice 1   \n",
       "11         British Grand Prix  conventional  Practice 1   \n",
       "12        Austrian Grand Prix        sprint  Practice 1   \n",
       "13          French Grand Prix  conventional  Practice 1   \n",
       "14       Hungarian Grand Prix  conventional  Practice 1   \n",
       "15         Belgian Grand Prix  conventional  Practice 1   \n",
       "16           Dutch Grand Prix  conventional  Practice 1   \n",
       "17         Italian Grand Prix  conventional  Practice 1   \n",
       "18       Singapore Grand Prix  conventional  Practice 1   \n",
       "19        Japanese Grand Prix  conventional  Practice 1   \n",
       "20   United States Grand Prix  conventional  Practice 1   \n",
       "21     Mexico City Grand Prix  conventional  Practice 1   \n",
       "22       São Paulo Grand Prix        sprint  Practice 1   \n",
       "23       Abu Dhabi Grand Prix  conventional  Practice 1   \n",
       "\n",
       "                 Session1Date     Session1DateUtc  ...    Session3  \\\n",
       "0   2022-02-23 09:00:00+01:00 2022-02-23 08:00:00  ...  Practice 3   \n",
       "1   2022-03-10 10:00:00+03:00 2022-03-10 07:00:00  ...  Practice 3   \n",
       "2   2022-03-18 15:00:00+03:00 2022-03-18 12:00:00  ...  Practice 3   \n",
       "3   2022-03-25 17:00:00+03:00 2022-03-25 14:00:00  ...  Practice 3   \n",
       "4   2022-04-08 13:00:00+10:00 2022-04-08 03:00:00  ...  Practice 3   \n",
       "5   2022-04-22 13:30:00+02:00 2022-04-22 11:30:00  ...  Practice 2   \n",
       "6   2022-05-06 14:30:00-04:00 2022-05-06 18:30:00  ...  Practice 3   \n",
       "7   2022-05-20 14:00:00+02:00 2022-05-20 12:00:00  ...  Practice 3   \n",
       "8   2022-05-27 14:00:00+02:00 2022-05-27 12:00:00  ...  Practice 3   \n",
       "9   2022-06-10 15:00:00+04:00 2022-06-10 11:00:00  ...  Practice 3   \n",
       "10  2022-06-17 14:00:00-04:00 2022-06-17 18:00:00  ...  Practice 3   \n",
       "11  2022-07-01 13:00:00+01:00 2022-07-01 12:00:00  ...  Practice 3   \n",
       "12  2022-07-08 13:30:00+02:00 2022-07-08 11:30:00  ...  Practice 2   \n",
       "13  2022-07-22 14:00:00+02:00 2022-07-22 12:00:00  ...  Practice 3   \n",
       "14  2022-07-29 14:00:00+02:00 2022-07-29 12:00:00  ...  Practice 3   \n",
       "15  2022-08-26 14:00:00+02:00 2022-08-26 12:00:00  ...  Practice 3   \n",
       "16  2022-09-02 12:30:00+02:00 2022-09-02 10:30:00  ...  Practice 3   \n",
       "17  2022-09-09 14:00:00+02:00 2022-09-09 12:00:00  ...  Practice 3   \n",
       "18  2022-09-30 18:00:00+08:00 2022-09-30 10:00:00  ...  Practice 3   \n",
       "19  2022-10-07 12:00:00+09:00 2022-10-07 03:00:00  ...  Practice 3   \n",
       "20  2022-10-21 14:00:00-05:00 2022-10-21 19:00:00  ...  Practice 3   \n",
       "21  2022-10-28 13:00:00-06:00 2022-10-28 19:00:00  ...  Practice 3   \n",
       "22  2022-11-11 12:30:00-03:00 2022-11-11 15:30:00  ...  Practice 2   \n",
       "23  2022-11-18 14:00:00+04:00 2022-11-18 10:00:00  ...  Practice 3   \n",
       "\n",
       "                 Session3Date     Session3DateUtc    Session4  \\\n",
       "0   2022-02-25 09:00:00+01:00 2022-02-25 08:00:00        None   \n",
       "1   2022-03-12 10:00:00+03:00 2022-03-12 07:00:00        None   \n",
       "2   2022-03-19 15:00:00+03:00 2022-03-19 12:00:00  Qualifying   \n",
       "3   2022-03-26 17:00:00+03:00 2022-03-26 14:00:00  Qualifying   \n",
       "4   2022-04-09 13:00:00+10:00 2022-04-09 03:00:00  Qualifying   \n",
       "5   2022-04-23 12:30:00+02:00 2022-04-23 10:30:00      Sprint   \n",
       "6   2022-05-07 13:00:00-04:00 2022-05-07 17:00:00  Qualifying   \n",
       "7   2022-05-21 13:00:00+02:00 2022-05-21 11:00:00  Qualifying   \n",
       "8   2022-05-28 13:00:00+02:00 2022-05-28 11:00:00  Qualifying   \n",
       "9   2022-06-11 15:00:00+04:00 2022-06-11 11:00:00  Qualifying   \n",
       "10  2022-06-18 13:00:00-04:00 2022-06-18 17:00:00  Qualifying   \n",
       "11  2022-07-02 12:00:00+01:00 2022-07-02 11:00:00  Qualifying   \n",
       "12  2022-07-09 12:30:00+02:00 2022-07-09 10:30:00      Sprint   \n",
       "13  2022-07-23 13:00:00+02:00 2022-07-23 11:00:00  Qualifying   \n",
       "14  2022-07-30 13:00:00+02:00 2022-07-30 11:00:00  Qualifying   \n",
       "15  2022-08-27 13:00:00+02:00 2022-08-27 11:00:00  Qualifying   \n",
       "16  2022-09-03 12:00:00+02:00 2022-09-03 10:00:00  Qualifying   \n",
       "17  2022-09-10 13:00:00+02:00 2022-09-10 11:00:00  Qualifying   \n",
       "18  2022-10-01 18:00:00+08:00 2022-10-01 10:00:00  Qualifying   \n",
       "19  2022-10-08 12:00:00+09:00 2022-10-08 03:00:00  Qualifying   \n",
       "20  2022-10-22 14:00:00-05:00 2022-10-22 19:00:00  Qualifying   \n",
       "21  2022-10-29 12:00:00-06:00 2022-10-29 18:00:00  Qualifying   \n",
       "22  2022-11-12 12:30:00-03:00 2022-11-12 15:30:00      Sprint   \n",
       "23  2022-11-19 14:30:00+04:00 2022-11-19 10:30:00  Qualifying   \n",
       "\n",
       "                 Session4Date     Session4DateUtc Session5  \\\n",
       "0                         NaT                 NaT     None   \n",
       "1                         NaT                 NaT     None   \n",
       "2   2022-03-19 18:00:00+03:00 2022-03-19 15:00:00     Race   \n",
       "3   2022-03-26 20:00:00+03:00 2022-03-26 17:00:00     Race   \n",
       "4   2022-04-09 16:00:00+10:00 2022-04-09 06:00:00     Race   \n",
       "5   2022-04-23 16:30:00+02:00 2022-04-23 14:30:00     Race   \n",
       "6   2022-05-07 16:00:00-04:00 2022-05-07 20:00:00     Race   \n",
       "7   2022-05-21 16:00:00+02:00 2022-05-21 14:00:00     Race   \n",
       "8   2022-05-28 16:00:00+02:00 2022-05-28 14:00:00     Race   \n",
       "9   2022-06-11 18:00:00+04:00 2022-06-11 14:00:00     Race   \n",
       "10  2022-06-18 16:00:00-04:00 2022-06-18 20:00:00     Race   \n",
       "11  2022-07-02 15:00:00+01:00 2022-07-02 14:00:00     Race   \n",
       "12  2022-07-09 16:30:00+02:00 2022-07-09 14:30:00     Race   \n",
       "13  2022-07-23 16:00:00+02:00 2022-07-23 14:00:00     Race   \n",
       "14  2022-07-30 16:00:00+02:00 2022-07-30 14:00:00     Race   \n",
       "15  2022-08-27 16:00:00+02:00 2022-08-27 14:00:00     Race   \n",
       "16  2022-09-03 15:00:00+02:00 2022-09-03 13:00:00     Race   \n",
       "17  2022-09-10 16:00:00+02:00 2022-09-10 14:00:00     Race   \n",
       "18  2022-10-01 21:00:00+08:00 2022-10-01 13:00:00     Race   \n",
       "19  2022-10-08 15:00:00+09:00 2022-10-08 06:00:00     Race   \n",
       "20  2022-10-22 17:00:00-05:00 2022-10-22 22:00:00     Race   \n",
       "21  2022-10-29 15:00:00-06:00 2022-10-29 21:00:00     Race   \n",
       "22  2022-11-12 16:30:00-03:00 2022-11-12 19:30:00     Race   \n",
       "23  2022-11-19 18:00:00+04:00 2022-11-19 14:00:00     Race   \n",
       "\n",
       "                 Session5Date     Session5DateUtc F1ApiSupport  \n",
       "0                         NaT                 NaT        False  \n",
       "1                         NaT                 NaT         True  \n",
       "2   2022-03-20 18:00:00+03:00 2022-03-20 15:00:00         True  \n",
       "3   2022-03-27 20:00:00+03:00 2022-03-27 17:00:00         True  \n",
       "4   2022-04-10 15:00:00+10:00 2022-04-10 05:00:00         True  \n",
       "5   2022-04-24 15:00:00+02:00 2022-04-24 13:00:00         True  \n",
       "6   2022-05-08 15:30:00-04:00 2022-05-08 19:30:00         True  \n",
       "7   2022-05-22 15:00:00+02:00 2022-05-22 13:00:00         True  \n",
       "8   2022-05-29 15:00:00+02:00 2022-05-29 13:00:00         True  \n",
       "9   2022-06-12 15:00:00+04:00 2022-06-12 11:00:00         True  \n",
       "10  2022-06-19 14:00:00-04:00 2022-06-19 18:00:00         True  \n",
       "11  2022-07-03 15:00:00+01:00 2022-07-03 14:00:00         True  \n",
       "12  2022-07-10 15:00:00+02:00 2022-07-10 13:00:00         True  \n",
       "13  2022-07-24 15:00:00+02:00 2022-07-24 13:00:00         True  \n",
       "14  2022-07-31 15:00:00+02:00 2022-07-31 13:00:00         True  \n",
       "15  2022-08-28 15:00:00+02:00 2022-08-28 13:00:00         True  \n",
       "16  2022-09-04 15:00:00+02:00 2022-09-04 13:00:00         True  \n",
       "17  2022-09-11 15:00:00+02:00 2022-09-11 13:00:00         True  \n",
       "18  2022-10-02 20:00:00+08:00 2022-10-02 12:00:00         True  \n",
       "19  2022-10-09 14:00:00+09:00 2022-10-09 05:00:00         True  \n",
       "20  2022-10-23 14:00:00-05:00 2022-10-23 19:00:00         True  \n",
       "21  2022-10-30 14:00:00-06:00 2022-10-30 20:00:00         True  \n",
       "22  2022-11-13 15:00:00-03:00 2022-11-13 18:00:00         True  \n",
       "23  2022-11-20 17:00:00+04:00 2022-11-20 13:00:00         True  \n",
       "\n",
       "[24 rows x 23 columns]"
      ]
     },
     "execution_count": 4,
     "metadata": {},
     "output_type": "execute_result"
    }
   ],
   "source": [
    "ff1.get_event_schedule(2022)"
   ]
  },
  {
   "cell_type": "code",
   "execution_count": 7,
   "id": "1e6ed93e",
   "metadata": {},
   "outputs": [
    {
     "name": "stderr",
     "output_type": "stream",
     "text": [
      "core           INFO \tLoading data for Australian Grand Prix - Qualifying [v3.6.1]\n",
      "req            INFO \tNo cached data found for session_info. Loading data...\n",
      "_api           INFO \tFetching session info data...\n"
     ]
    },
    {
     "name": "stdout",
     "output_type": "stream",
     "text": [
      "Melbourne    2022\n"
     ]
    },
    {
     "name": "stderr",
     "output_type": "stream",
     "text": [
      "req            INFO \tData has been written to cache!\n",
      "req            INFO \tNo cached data found for driver_info. Loading data...\n",
      "_api           INFO \tFetching driver list...\n",
      "req            INFO \tData has been written to cache!\n",
      "req            INFO \tNo cached data found for session_status_data. Loading data...\n",
      "_api           INFO \tFetching session status data...\n",
      "req            INFO \tData has been written to cache!\n",
      "req            INFO \tNo cached data found for track_status_data. Loading data...\n",
      "_api           INFO \tFetching track status data...\n",
      "req            INFO \tData has been written to cache!\n",
      "req            INFO \tNo cached data found for _extended_timing_data. Loading data...\n",
      "_api           INFO \tFetching timing data...\n",
      "_api           INFO \tParsing timing data...\n",
      "req            INFO \tData has been written to cache!\n",
      "req            INFO \tNo cached data found for timing_app_data. Loading data...\n",
      "_api           INFO \tFetching timing app data...\n",
      "req            INFO \tData has been written to cache!\n",
      "core           INFO \tProcessing timing data...\n",
      "req            INFO \tNo cached data found for car_data. Loading data...\n",
      "_api           INFO \tFetching car data...\n",
      "_api           INFO \tParsing car data...\n",
      "req            INFO \tData has been written to cache!\n",
      "req            INFO \tNo cached data found for position_data. Loading data...\n",
      "_api           INFO \tFetching position data...\n",
      "_api           INFO \tParsing position data...\n",
      "req            INFO \tData has been written to cache!\n",
      "req            INFO \tNo cached data found for weather_data. Loading data...\n",
      "_api           INFO \tFetching weather data...\n",
      "req            INFO \tData has been written to cache!\n",
      "req            INFO \tNo cached data found for race_control_messages. Loading data...\n",
      "_api           INFO \tFetching race control messages...\n",
      "req            INFO \tData has been written to cache!\n",
      "core           INFO \tFinished loading data for 20 drivers: ['16', '1', '11', '4', '44', '63', '3', '31', '55', '14', '10', '77', '22', '24', '47', '23', '20', '5', '6', '18']\n",
      "events      WARNING \tCorrecting user input 'Shanghai' to 'Hungarian Grand Prix'\n",
      "core           INFO \tLoading data for Hungarian Grand Prix - Qualifying [v3.6.1]\n",
      "req            INFO \tNo cached data found for session_info. Loading data...\n",
      "_api           INFO \tFetching session info data...\n"
     ]
    },
    {
     "name": "stdout",
     "output_type": "stream",
     "text": [
      "Shanghai    2022\n"
     ]
    },
    {
     "name": "stderr",
     "output_type": "stream",
     "text": [
      "req            INFO \tData has been written to cache!\n",
      "req            INFO \tNo cached data found for driver_info. Loading data...\n",
      "_api           INFO \tFetching driver list...\n",
      "req            INFO \tData has been written to cache!\n",
      "req            INFO \tNo cached data found for session_status_data. Loading data...\n",
      "_api           INFO \tFetching session status data...\n",
      "req            INFO \tData has been written to cache!\n",
      "req            INFO \tNo cached data found for track_status_data. Loading data...\n",
      "_api           INFO \tFetching track status data...\n",
      "req            INFO \tData has been written to cache!\n",
      "req            INFO \tNo cached data found for _extended_timing_data. Loading data...\n",
      "_api           INFO \tFetching timing data...\n",
      "_api           INFO \tParsing timing data...\n",
      "req            INFO \tData has been written to cache!\n",
      "req            INFO \tNo cached data found for timing_app_data. Loading data...\n",
      "_api           INFO \tFetching timing app data...\n",
      "req            INFO \tData has been written to cache!\n",
      "core           INFO \tProcessing timing data...\n",
      "req            INFO \tNo cached data found for car_data. Loading data...\n",
      "_api           INFO \tFetching car data...\n",
      "_api           INFO \tParsing car data...\n",
      "req            INFO \tData has been written to cache!\n",
      "req            INFO \tNo cached data found for position_data. Loading data...\n",
      "_api           INFO \tFetching position data...\n",
      "_api           INFO \tParsing position data...\n",
      "req            INFO \tData has been written to cache!\n",
      "req            INFO \tNo cached data found for weather_data. Loading data...\n",
      "_api           INFO \tFetching weather data...\n",
      "req            INFO \tData has been written to cache!\n",
      "req            INFO \tNo cached data found for race_control_messages. Loading data...\n",
      "_api           INFO \tFetching race control messages...\n",
      "req            INFO \tData has been written to cache!\n",
      "core           INFO \tFinished loading data for 20 drivers: ['63', '55', '16', '4', '31', '14', '44', '77', '3', '1', '11', '24', '20', '18', '47', '22', '23', '5', '10', '6']\n",
      "core           INFO \tLoading data for Japanese Grand Prix - Qualifying [v3.6.1]\n",
      "req            INFO \tNo cached data found for session_info. Loading data...\n",
      "_api           INFO \tFetching session info data...\n"
     ]
    },
    {
     "name": "stdout",
     "output_type": "stream",
     "text": [
      "Suzuka    2022\n"
     ]
    },
    {
     "name": "stderr",
     "output_type": "stream",
     "text": [
      "req            INFO \tData has been written to cache!\n",
      "req            INFO \tNo cached data found for driver_info. Loading data...\n",
      "_api           INFO \tFetching driver list...\n",
      "req            INFO \tData has been written to cache!\n",
      "req            INFO \tNo cached data found for session_status_data. Loading data...\n",
      "_api           INFO \tFetching session status data...\n",
      "req            INFO \tData has been written to cache!\n",
      "req            INFO \tNo cached data found for track_status_data. Loading data...\n",
      "_api           INFO \tFetching track status data...\n",
      "req            INFO \tData has been written to cache!\n",
      "req            INFO \tNo cached data found for _extended_timing_data. Loading data...\n",
      "_api           INFO \tFetching timing data...\n",
      "logger      WARNING \tFailed to load timing data!\n",
      "req            INFO \tNo cached data found for car_data. Loading data...\n",
      "_api           INFO \tFetching car data...\n",
      "_api           INFO \tParsing car data...\n",
      "req            INFO \tData has been written to cache!\n",
      "req            INFO \tNo cached data found for position_data. Loading data...\n",
      "_api           INFO \tFetching position data...\n",
      "_api           INFO \tParsing position data...\n",
      "req            INFO \tData has been written to cache!\n",
      "req            INFO \tNo cached data found for weather_data. Loading data...\n",
      "_api           INFO \tFetching weather data...\n",
      "req            INFO \tData has been written to cache!\n",
      "req            INFO \tNo cached data found for race_control_messages. Loading data...\n",
      "_api           INFO \tFetching race control messages...\n",
      "req            INFO \tData has been written to cache!\n",
      "core           INFO \tFinished loading data for 20 drivers: ['1', '16', '55', '11', '31', '44', '14', '63', '5', '4', '3', '77', '22', '24', '47', '23', '10', '20', '18', '6']\n"
     ]
    },
    {
     "name": "stdout",
     "output_type": "stream",
     "text": [
      "Skipped Suzuka 2022: The data you are trying to access has not been loaded yet. See `Session.load`\n"
     ]
    },
    {
     "name": "stderr",
     "output_type": "stream",
     "text": [
      "logger      WARNING \tFailed to load schedule from FastF1 backend!\n",
      "req            INFO \tNo cached data found for season_schedule. Loading data...\n",
      "_api           INFO \tFetching season schedule...\n"
     ]
    },
    {
     "name": "stdout",
     "output_type": "stream",
     "text": [
      "Sakhir    2022\n"
     ]
    },
    {
     "name": "stderr",
     "output_type": "stream",
     "text": [
      "req            INFO \tData has been written to cache!\n",
      "core           INFO \tLoading data for Bahrain Grand Prix - Qualifying [v3.6.1]\n",
      "req            INFO \tNo cached data found for session_info. Loading data...\n",
      "_api           INFO \tFetching session info data...\n",
      "req            INFO \tData has been written to cache!\n",
      "req            INFO \tNo cached data found for driver_info. Loading data...\n",
      "_api           INFO \tFetching driver list...\n",
      "req            INFO \tData has been written to cache!\n",
      "req            INFO \tNo cached data found for session_status_data. Loading data...\n",
      "_api           INFO \tFetching session status data...\n",
      "req            INFO \tData has been written to cache!\n",
      "req            INFO \tNo cached data found for track_status_data. Loading data...\n",
      "_api           INFO \tFetching track status data...\n",
      "req            INFO \tData has been written to cache!\n",
      "req            INFO \tNo cached data found for _extended_timing_data. Loading data...\n",
      "_api           INFO \tFetching timing data...\n",
      "_api           INFO \tParsing timing data...\n",
      "req            INFO \tData has been written to cache!\n",
      "req            INFO \tNo cached data found for timing_app_data. Loading data...\n",
      "_api           INFO \tFetching timing app data...\n",
      "req            INFO \tData has been written to cache!\n",
      "core           INFO \tProcessing timing data...\n",
      "req            INFO \tNo cached data found for car_data. Loading data...\n",
      "_api           INFO \tFetching car data...\n",
      "_api           INFO \tParsing car data...\n",
      "req            INFO \tData has been written to cache!\n",
      "req            INFO \tNo cached data found for position_data. Loading data...\n",
      "_api           INFO \tFetching position data...\n",
      "_api           INFO \tParsing position data...\n",
      "req            INFO \tData has been written to cache!\n",
      "req            INFO \tNo cached data found for weather_data. Loading data...\n",
      "_api           INFO \tFetching weather data...\n",
      "req            INFO \tData has been written to cache!\n",
      "req            INFO \tNo cached data found for race_control_messages. Loading data...\n",
      "_api           INFO \tFetching race control messages...\n",
      "req            INFO \tData has been written to cache!\n",
      "core           INFO \tFinished loading data for 20 drivers: ['16', '1', '55', '11', '44', '77', '20', '14', '63', '10', '31', '47', '4', '23', '24', '22', '27', '3', '18', '6']\n",
      "core           INFO \tLoading data for Saudi Arabian Grand Prix - Qualifying [v3.6.1]\n"
     ]
    },
    {
     "name": "stdout",
     "output_type": "stream",
     "text": [
      "Jeddah    2022\n"
     ]
    },
    {
     "name": "stderr",
     "output_type": "stream",
     "text": [
      "req            INFO \tNo cached data found for session_info. Loading data...\n",
      "_api           INFO \tFetching session info data...\n",
      "req            INFO \tData has been written to cache!\n",
      "req            INFO \tNo cached data found for driver_info. Loading data...\n",
      "_api           INFO \tFetching driver list...\n",
      "req            INFO \tData has been written to cache!\n",
      "req            INFO \tNo cached data found for session_status_data. Loading data...\n",
      "_api           INFO \tFetching session status data...\n",
      "req            INFO \tData has been written to cache!\n",
      "req            INFO \tNo cached data found for track_status_data. Loading data...\n",
      "_api           INFO \tFetching track status data...\n",
      "req            INFO \tData has been written to cache!\n",
      "req            INFO \tNo cached data found for _extended_timing_data. Loading data...\n",
      "_api           INFO \tFetching timing data...\n",
      "_api           INFO \tParsing timing data...\n",
      "_api        WARNING \tDriver  1: Encountered 1 timing integrity error(s) near lap(s): [12].\n",
      "This might be a bug and should be reported.\n",
      "req            INFO \tData has been written to cache!\n",
      "req            INFO \tNo cached data found for timing_app_data. Loading data...\n",
      "_api           INFO \tFetching timing app data...\n",
      "req            INFO \tData has been written to cache!\n",
      "core           INFO \tProcessing timing data...\n",
      "req            INFO \tNo cached data found for car_data. Loading data...\n",
      "_api           INFO \tFetching car data...\n",
      "_api           INFO \tParsing car data...\n",
      "req            INFO \tData has been written to cache!\n",
      "req            INFO \tNo cached data found for position_data. Loading data...\n",
      "_api           INFO \tFetching position data...\n",
      "_api           INFO \tParsing position data...\n",
      "req            INFO \tData has been written to cache!\n",
      "req            INFO \tNo cached data found for weather_data. Loading data...\n",
      "_api           INFO \tFetching weather data...\n",
      "req            INFO \tData has been written to cache!\n",
      "req            INFO \tNo cached data found for race_control_messages. Loading data...\n",
      "_api           INFO \tFetching race control messages...\n",
      "logger      WARNING \tFailed to load race control messages!\n",
      "core           INFO \tFinished loading data for 20 drivers: ['11', '16', '55', '1', '31', '63', '14', '77', '10', '20', '4', '3', '24', '47', '18', '44', '23', '27', '6', '22']\n",
      "core           INFO \tLoading data for Miami Grand Prix - Qualifying [v3.6.1]\n",
      "req            INFO \tNo cached data found for session_info. Loading data...\n",
      "_api           INFO \tFetching session info data...\n"
     ]
    },
    {
     "name": "stdout",
     "output_type": "stream",
     "text": [
      "Miami    2022\n"
     ]
    },
    {
     "name": "stderr",
     "output_type": "stream",
     "text": [
      "req            INFO \tData has been written to cache!\n",
      "req            INFO \tNo cached data found for driver_info. Loading data...\n",
      "_api           INFO \tFetching driver list...\n",
      "req            INFO \tData has been written to cache!\n",
      "req            INFO \tNo cached data found for session_status_data. Loading data...\n",
      "_api           INFO \tFetching session status data...\n",
      "req            INFO \tData has been written to cache!\n",
      "req            INFO \tNo cached data found for track_status_data. Loading data...\n",
      "_api           INFO \tFetching track status data...\n",
      "req            INFO \tData has been written to cache!\n",
      "req            INFO \tNo cached data found for _extended_timing_data. Loading data...\n",
      "_api           INFO \tFetching timing data...\n",
      "_api           INFO \tParsing timing data...\n",
      "req            INFO \tData has been written to cache!\n",
      "req            INFO \tNo cached data found for timing_app_data. Loading data...\n",
      "_api           INFO \tFetching timing app data...\n",
      "req            INFO \tData has been written to cache!\n",
      "core           INFO \tProcessing timing data...\n",
      "core        WARNING \tNo lap data for driver 31\n",
      "core        WARNING \tFailed to perform lap accuracy check - all laps marked as inaccurate (driver 31)\n",
      "req            INFO \tNo cached data found for car_data. Loading data...\n",
      "_api           INFO \tFetching car data...\n",
      "_api           INFO \tParsing car data...\n",
      "req            INFO \tData has been written to cache!\n",
      "req            INFO \tNo cached data found for position_data. Loading data...\n",
      "_api           INFO \tFetching position data...\n",
      "_api           INFO \tParsing position data...\n",
      "req            INFO \tData has been written to cache!\n",
      "req            INFO \tNo cached data found for weather_data. Loading data...\n",
      "_api           INFO \tFetching weather data...\n",
      "req            INFO \tData has been written to cache!\n",
      "req            INFO \tNo cached data found for race_control_messages. Loading data...\n",
      "_api           INFO \tFetching race control messages...\n",
      "req            INFO \tData has been written to cache!\n",
      "core           INFO \tFinished loading data for 20 drivers: ['16', '55', '1', '11', '77', '44', '10', '4', '22', '18', '14', '63', '5', '3', '47', '20', '24', '23', '6', '31']\n",
      "core           INFO \tLoading data for Emilia Romagna Grand Prix - Qualifying [v3.6.1]\n",
      "req            INFO \tNo cached data found for session_info. Loading data...\n",
      "_api           INFO \tFetching session info data...\n"
     ]
    },
    {
     "name": "stdout",
     "output_type": "stream",
     "text": [
      "Imola    2022\n"
     ]
    },
    {
     "name": "stderr",
     "output_type": "stream",
     "text": [
      "req            INFO \tData has been written to cache!\n",
      "req            INFO \tNo cached data found for driver_info. Loading data...\n",
      "_api           INFO \tFetching driver list...\n",
      "req            INFO \tData has been written to cache!\n",
      "req            INFO \tNo cached data found for session_status_data. Loading data...\n",
      "_api           INFO \tFetching session status data...\n",
      "req            INFO \tData has been written to cache!\n",
      "req            INFO \tNo cached data found for track_status_data. Loading data...\n",
      "_api           INFO \tFetching track status data...\n",
      "req            INFO \tData has been written to cache!\n",
      "req            INFO \tNo cached data found for _extended_timing_data. Loading data...\n",
      "_api           INFO \tFetching timing data...\n",
      "_api           INFO \tParsing timing data...\n",
      "req            INFO \tData has been written to cache!\n",
      "req            INFO \tNo cached data found for timing_app_data. Loading data...\n",
      "_api           INFO \tFetching timing app data...\n",
      "req            INFO \tData has been written to cache!\n",
      "core           INFO \tProcessing timing data...\n",
      "req            INFO \tNo cached data found for car_data. Loading data...\n",
      "_api           INFO \tFetching car data...\n",
      "_api           INFO \tParsing car data...\n",
      "req            INFO \tData has been written to cache!\n",
      "req            INFO \tNo cached data found for position_data. Loading data...\n",
      "_api           INFO \tFetching position data...\n",
      "_api           INFO \tParsing position data...\n",
      "req            INFO \tData has been written to cache!\n",
      "req            INFO \tNo cached data found for weather_data. Loading data...\n",
      "_api           INFO \tFetching weather data...\n",
      "req            INFO \tData has been written to cache!\n",
      "req            INFO \tNo cached data found for race_control_messages. Loading data...\n",
      "_api           INFO \tFetching race control messages...\n",
      "req            INFO \tData has been written to cache!\n",
      "core           INFO \tFinished loading data for 20 drivers: ['1', '16', '4', '20', '14', '3', '11', '77', '5', '55', '63', '47', '44', '24', '18', '22', '10', '6', '31', '23']\n",
      "core           INFO \tLoading data for Monaco Grand Prix - Qualifying [v3.6.1]\n",
      "req            INFO \tNo cached data found for session_info. Loading data...\n",
      "_api           INFO \tFetching session info data...\n"
     ]
    },
    {
     "name": "stdout",
     "output_type": "stream",
     "text": [
      "Monaco    2022\n"
     ]
    },
    {
     "name": "stderr",
     "output_type": "stream",
     "text": [
      "req            INFO \tData has been written to cache!\n",
      "req            INFO \tNo cached data found for driver_info. Loading data...\n",
      "_api           INFO \tFetching driver list...\n",
      "req            INFO \tData has been written to cache!\n",
      "req            INFO \tNo cached data found for session_status_data. Loading data...\n",
      "_api           INFO \tFetching session status data...\n",
      "req            INFO \tData has been written to cache!\n",
      "req            INFO \tNo cached data found for track_status_data. Loading data...\n",
      "_api           INFO \tFetching track status data...\n",
      "req            INFO \tData has been written to cache!\n",
      "req            INFO \tNo cached data found for _extended_timing_data. Loading data...\n",
      "_api           INFO \tFetching timing data...\n",
      "_api           INFO \tParsing timing data...\n",
      "req            INFO \tData has been written to cache!\n",
      "req            INFO \tNo cached data found for timing_app_data. Loading data...\n",
      "_api           INFO \tFetching timing app data...\n",
      "req            INFO \tData has been written to cache!\n",
      "core           INFO \tProcessing timing data...\n",
      "req            INFO \tNo cached data found for car_data. Loading data...\n",
      "_api           INFO \tFetching car data...\n",
      "_api           INFO \tParsing car data...\n",
      "req            INFO \tData has been written to cache!\n",
      "req            INFO \tNo cached data found for position_data. Loading data...\n",
      "_api           INFO \tFetching position data...\n",
      "_api           INFO \tParsing position data...\n",
      "req            INFO \tData has been written to cache!\n",
      "req            INFO \tNo cached data found for weather_data. Loading data...\n",
      "_api           INFO \tFetching weather data...\n",
      "req            INFO \tData has been written to cache!\n",
      "req            INFO \tNo cached data found for race_control_messages. Loading data...\n",
      "_api           INFO \tFetching race control messages...\n",
      "req            INFO \tData has been written to cache!\n",
      "core           INFO \tFinished loading data for 20 drivers: ['16', '55', '11', '1', '4', '63', '14', '44', '5', '31', '22', '77', '20', '3', '47', '23', '10', '18', '6', '24']\n",
      "core           INFO \tLoading data for Spanish Grand Prix - Qualifying [v3.6.1]\n",
      "req            INFO \tNo cached data found for session_info. Loading data...\n",
      "_api           INFO \tFetching session info data...\n"
     ]
    },
    {
     "name": "stdout",
     "output_type": "stream",
     "text": [
      "Barcelona    2022\n"
     ]
    },
    {
     "name": "stderr",
     "output_type": "stream",
     "text": [
      "req            INFO \tData has been written to cache!\n",
      "req            INFO \tNo cached data found for driver_info. Loading data...\n",
      "_api           INFO \tFetching driver list...\n",
      "req            INFO \tData has been written to cache!\n",
      "req            INFO \tNo cached data found for session_status_data. Loading data...\n",
      "_api           INFO \tFetching session status data...\n",
      "req            INFO \tData has been written to cache!\n",
      "req            INFO \tNo cached data found for track_status_data. Loading data...\n",
      "_api           INFO \tFetching track status data...\n",
      "req            INFO \tData has been written to cache!\n",
      "req            INFO \tNo cached data found for _extended_timing_data. Loading data...\n",
      "_api           INFO \tFetching timing data...\n",
      "_api           INFO \tParsing timing data...\n",
      "req            INFO \tData has been written to cache!\n",
      "req            INFO \tNo cached data found for timing_app_data. Loading data...\n",
      "_api           INFO \tFetching timing app data...\n",
      "req            INFO \tData has been written to cache!\n",
      "core           INFO \tProcessing timing data...\n",
      "req            INFO \tNo cached data found for car_data. Loading data...\n",
      "_api           INFO \tFetching car data...\n",
      "_api           INFO \tParsing car data...\n",
      "req            INFO \tData has been written to cache!\n",
      "req            INFO \tNo cached data found for position_data. Loading data...\n",
      "_api           INFO \tFetching position data...\n",
      "_api           INFO \tParsing position data...\n",
      "req            INFO \tData has been written to cache!\n",
      "req            INFO \tNo cached data found for weather_data. Loading data...\n",
      "_api           INFO \tFetching weather data...\n",
      "req            INFO \tData has been written to cache!\n",
      "req            INFO \tNo cached data found for race_control_messages. Loading data...\n",
      "_api           INFO \tFetching race control messages...\n",
      "req            INFO \tData has been written to cache!\n",
      "core           INFO \tFinished loading data for 20 drivers: ['16', '1', '55', '63', '11', '44', '77', '20', '3', '47', '4', '31', '22', '10', '24', '5', '14', '18', '23', '6']\n",
      "core           INFO \tLoading data for Canadian Grand Prix - Qualifying [v3.6.1]\n",
      "req            INFO \tNo cached data found for session_info. Loading data...\n",
      "_api           INFO \tFetching session info data...\n"
     ]
    },
    {
     "name": "stdout",
     "output_type": "stream",
     "text": [
      "Montréal    2022\n"
     ]
    },
    {
     "name": "stderr",
     "output_type": "stream",
     "text": [
      "req            INFO \tData has been written to cache!\n",
      "req            INFO \tNo cached data found for driver_info. Loading data...\n",
      "_api           INFO \tFetching driver list...\n",
      "req            INFO \tData has been written to cache!\n",
      "req            INFO \tNo cached data found for session_status_data. Loading data...\n",
      "_api           INFO \tFetching session status data...\n",
      "req            INFO \tData has been written to cache!\n",
      "req            INFO \tNo cached data found for track_status_data. Loading data...\n",
      "_api           INFO \tFetching track status data...\n",
      "req            INFO \tData has been written to cache!\n",
      "req            INFO \tNo cached data found for _extended_timing_data. Loading data...\n",
      "_api           INFO \tFetching timing data...\n",
      "_api           INFO \tParsing timing data...\n",
      "_api        WARNING \tDriver  1: Encountered 1 timing integrity error(s) near lap(s): [14].\n",
      "This might be a bug and should be reported.\n",
      "_api        WARNING \tDriver 77: Encountered 1 timing integrity error(s) near lap(s): [14].\n",
      "This might be a bug and should be reported.\n",
      "req            INFO \tData has been written to cache!\n",
      "req            INFO \tNo cached data found for timing_app_data. Loading data...\n",
      "_api           INFO \tFetching timing app data...\n",
      "req            INFO \tData has been written to cache!\n",
      "core           INFO \tProcessing timing data...\n",
      "req            INFO \tNo cached data found for car_data. Loading data...\n",
      "_api           INFO \tFetching car data...\n",
      "_api           INFO \tParsing car data...\n",
      "req            INFO \tData has been written to cache!\n",
      "req            INFO \tNo cached data found for position_data. Loading data...\n",
      "_api           INFO \tFetching position data...\n",
      "_api           INFO \tParsing position data...\n",
      "req            INFO \tData has been written to cache!\n",
      "req            INFO \tNo cached data found for weather_data. Loading data...\n",
      "_api           INFO \tFetching weather data...\n",
      "req            INFO \tData has been written to cache!\n",
      "req            INFO \tNo cached data found for race_control_messages. Loading data...\n",
      "_api           INFO \tFetching race control messages...\n",
      "req            INFO \tData has been written to cache!\n",
      "core           INFO \tFinished loading data for 20 drivers: ['1', '14', '55', '44', '20', '47', '31', '63', '3', '24', '77', '23', '11', '4', '16', '10', '5', '18', '6', '22']\n",
      "core           INFO \tLoading data for Austrian Grand Prix - Qualifying [v3.6.1]\n",
      "req            INFO \tNo cached data found for session_info. Loading data...\n",
      "_api           INFO \tFetching session info data...\n"
     ]
    },
    {
     "name": "stdout",
     "output_type": "stream",
     "text": [
      "Spielberg    2022\n"
     ]
    },
    {
     "name": "stderr",
     "output_type": "stream",
     "text": [
      "req            INFO \tData has been written to cache!\n",
      "req            INFO \tNo cached data found for driver_info. Loading data...\n",
      "_api           INFO \tFetching driver list...\n",
      "req            INFO \tData has been written to cache!\n",
      "req            INFO \tNo cached data found for session_status_data. Loading data...\n",
      "_api           INFO \tFetching session status data...\n",
      "req            INFO \tData has been written to cache!\n",
      "req            INFO \tNo cached data found for track_status_data. Loading data...\n",
      "_api           INFO \tFetching track status data...\n",
      "req            INFO \tData has been written to cache!\n",
      "req            INFO \tNo cached data found for _extended_timing_data. Loading data...\n",
      "_api           INFO \tFetching timing data...\n",
      "_api           INFO \tParsing timing data...\n",
      "req            INFO \tData has been written to cache!\n",
      "req            INFO \tNo cached data found for timing_app_data. Loading data...\n",
      "_api           INFO \tFetching timing app data...\n",
      "req            INFO \tData has been written to cache!\n",
      "core           INFO \tProcessing timing data...\n",
      "req            INFO \tNo cached data found for car_data. Loading data...\n",
      "_api           INFO \tFetching car data...\n",
      "_api           INFO \tParsing car data...\n",
      "req            INFO \tData has been written to cache!\n",
      "req            INFO \tNo cached data found for position_data. Loading data...\n",
      "_api           INFO \tFetching position data...\n",
      "_api           INFO \tParsing position data...\n",
      "req            INFO \tData has been written to cache!\n",
      "req            INFO \tNo cached data found for weather_data. Loading data...\n",
      "_api           INFO \tFetching weather data...\n",
      "req            INFO \tData has been written to cache!\n",
      "req            INFO \tNo cached data found for race_control_messages. Loading data...\n",
      "_api           INFO \tFetching race control messages...\n",
      "req            INFO \tData has been written to cache!\n",
      "core           INFO \tFinished loading data for 20 drivers: ['1', '16', '55', '63', '31', '20', '47', '14', '44', '10', '23', '77', '11', '22', '4', '3', '18', '24', '6', '5']\n",
      "core           INFO \tLoading data for British Grand Prix - Qualifying [v3.6.1]\n",
      "req            INFO \tNo cached data found for session_info. Loading data...\n",
      "_api           INFO \tFetching session info data...\n"
     ]
    },
    {
     "name": "stdout",
     "output_type": "stream",
     "text": [
      "Silverstone    2022\n"
     ]
    },
    {
     "name": "stderr",
     "output_type": "stream",
     "text": [
      "req            INFO \tData has been written to cache!\n",
      "req            INFO \tNo cached data found for driver_info. Loading data...\n",
      "_api           INFO \tFetching driver list...\n",
      "req            INFO \tData has been written to cache!\n",
      "req            INFO \tNo cached data found for session_status_data. Loading data...\n",
      "_api           INFO \tFetching session status data...\n",
      "req            INFO \tData has been written to cache!\n",
      "req            INFO \tNo cached data found for track_status_data. Loading data...\n",
      "_api           INFO \tFetching track status data...\n",
      "req            INFO \tData has been written to cache!\n",
      "req            INFO \tNo cached data found for _extended_timing_data. Loading data...\n",
      "_api           INFO \tFetching timing data...\n",
      "_api           INFO \tParsing timing data...\n",
      "req            INFO \tData has been written to cache!\n",
      "req            INFO \tNo cached data found for timing_app_data. Loading data...\n",
      "_api           INFO \tFetching timing app data...\n",
      "req            INFO \tData has been written to cache!\n",
      "core           INFO \tProcessing timing data...\n",
      "req            INFO \tNo cached data found for car_data. Loading data...\n",
      "_api           INFO \tFetching car data...\n",
      "_api           INFO \tParsing car data...\n",
      "req            INFO \tData has been written to cache!\n",
      "req            INFO \tNo cached data found for position_data. Loading data...\n",
      "_api           INFO \tFetching position data...\n",
      "_api           INFO \tParsing position data...\n",
      "req            INFO \tData has been written to cache!\n",
      "req            INFO \tNo cached data found for weather_data. Loading data...\n",
      "_api           INFO \tFetching weather data...\n",
      "req            INFO \tData has been written to cache!\n",
      "req            INFO \tNo cached data found for race_control_messages. Loading data...\n",
      "_api           INFO \tFetching race control messages...\n",
      "req            INFO \tData has been written to cache!\n",
      "core           INFO \tFinished loading data for 20 drivers: ['55', '1', '16', '11', '44', '4', '14', '63', '24', '6', '10', '77', '22', '3', '31', '23', '20', '5', '47', '18']\n",
      "core           INFO \tLoading data for Belgian Grand Prix - Qualifying [v3.6.1]\n",
      "req            INFO \tNo cached data found for session_info. Loading data...\n",
      "_api           INFO \tFetching session info data...\n"
     ]
    },
    {
     "name": "stdout",
     "output_type": "stream",
     "text": [
      "Spa-Francorchamps    2022\n"
     ]
    },
    {
     "name": "stderr",
     "output_type": "stream",
     "text": [
      "req            INFO \tData has been written to cache!\n",
      "req            INFO \tNo cached data found for driver_info. Loading data...\n",
      "_api           INFO \tFetching driver list...\n",
      "req            INFO \tData has been written to cache!\n",
      "req            INFO \tNo cached data found for session_status_data. Loading data...\n",
      "_api           INFO \tFetching session status data...\n",
      "req            INFO \tData has been written to cache!\n",
      "req            INFO \tNo cached data found for track_status_data. Loading data...\n",
      "_api           INFO \tFetching track status data...\n",
      "req            INFO \tData has been written to cache!\n",
      "req            INFO \tNo cached data found for _extended_timing_data. Loading data...\n",
      "_api           INFO \tFetching timing data...\n",
      "_api           INFO \tParsing timing data...\n",
      "req            INFO \tData has been written to cache!\n",
      "req            INFO \tNo cached data found for timing_app_data. Loading data...\n",
      "_api           INFO \tFetching timing app data...\n",
      "req            INFO \tData has been written to cache!\n",
      "core           INFO \tProcessing timing data...\n",
      "req            INFO \tNo cached data found for car_data. Loading data...\n",
      "_api           INFO \tFetching car data...\n",
      "_api           INFO \tParsing car data...\n",
      "req            INFO \tData has been written to cache!\n",
      "req            INFO \tNo cached data found for position_data. Loading data...\n",
      "_api           INFO \tFetching position data...\n",
      "_api           INFO \tParsing position data...\n",
      "req            INFO \tData has been written to cache!\n",
      "req            INFO \tNo cached data found for weather_data. Loading data...\n",
      "_api           INFO \tFetching weather data...\n",
      "req            INFO \tData has been written to cache!\n",
      "req            INFO \tNo cached data found for race_control_messages. Loading data...\n",
      "_api           INFO \tFetching race control messages...\n",
      "req            INFO \tData has been written to cache!\n",
      "core           INFO \tFinished loading data for 20 drivers: ['1', '55', '11', '16', '31', '14', '44', '63', '23', '4', '3', '10', '24', '18', '47', '5', '6', '20', '22', '77']\n",
      "core           INFO \tLoading data for Hungarian Grand Prix - Qualifying [v3.6.1]\n",
      "req            INFO \tUsing cached data for session_info\n",
      "req            INFO \tUsing cached data for driver_info\n",
      "req            INFO \tUsing cached data for session_status_data\n",
      "req            INFO \tUsing cached data for track_status_data\n",
      "req            INFO \tUsing cached data for _extended_timing_data\n",
      "req            INFO \tUsing cached data for timing_app_data\n",
      "core           INFO \tProcessing timing data...\n"
     ]
    },
    {
     "name": "stdout",
     "output_type": "stream",
     "text": [
      "Budapest    2022\n"
     ]
    },
    {
     "name": "stderr",
     "output_type": "stream",
     "text": [
      "req            INFO \tUsing cached data for car_data\n",
      "req            INFO \tUsing cached data for position_data\n",
      "req            INFO \tUsing cached data for weather_data\n",
      "req            INFO \tUsing cached data for race_control_messages\n",
      "core           INFO \tFinished loading data for 20 drivers: ['63', '55', '16', '4', '31', '14', '44', '77', '3', '1', '11', '24', '20', '18', '47', '22', '23', '5', '10', '6']\n",
      "core           INFO \tLoading data for Dutch Grand Prix - Qualifying [v3.6.1]\n",
      "req            INFO \tNo cached data found for session_info. Loading data...\n",
      "_api           INFO \tFetching session info data...\n"
     ]
    },
    {
     "name": "stdout",
     "output_type": "stream",
     "text": [
      "Zandvoort    2022\n"
     ]
    },
    {
     "name": "stderr",
     "output_type": "stream",
     "text": [
      "req            INFO \tData has been written to cache!\n",
      "req            INFO \tNo cached data found for driver_info. Loading data...\n",
      "_api           INFO \tFetching driver list...\n",
      "req            INFO \tData has been written to cache!\n",
      "req            INFO \tNo cached data found for session_status_data. Loading data...\n",
      "_api           INFO \tFetching session status data...\n",
      "req            INFO \tData has been written to cache!\n",
      "req            INFO \tNo cached data found for track_status_data. Loading data...\n",
      "_api           INFO \tFetching track status data...\n",
      "req            INFO \tData has been written to cache!\n",
      "req            INFO \tNo cached data found for _extended_timing_data. Loading data...\n",
      "_api           INFO \tFetching timing data...\n",
      "_api           INFO \tParsing timing data...\n",
      "req            INFO \tData has been written to cache!\n",
      "req            INFO \tNo cached data found for timing_app_data. Loading data...\n",
      "_api           INFO \tFetching timing app data...\n",
      "req            INFO \tData has been written to cache!\n",
      "core           INFO \tProcessing timing data...\n",
      "req            INFO \tNo cached data found for car_data. Loading data...\n",
      "_api           INFO \tFetching car data...\n",
      "_api           INFO \tParsing car data...\n",
      "req            INFO \tData has been written to cache!\n",
      "req            INFO \tNo cached data found for position_data. Loading data...\n",
      "_api           INFO \tFetching position data...\n",
      "_api           INFO \tParsing position data...\n",
      "req            INFO \tData has been written to cache!\n",
      "req            INFO \tNo cached data found for weather_data. Loading data...\n",
      "_api           INFO \tFetching weather data...\n",
      "req            INFO \tData has been written to cache!\n",
      "req            INFO \tNo cached data found for race_control_messages. Loading data...\n",
      "_api           INFO \tFetching race control messages...\n",
      "req            INFO \tData has been written to cache!\n",
      "core           INFO \tFinished loading data for 20 drivers: ['1', '16', '55', '44', '11', '63', '4', '47', '22', '18', '10', '31', '14', '24', '23', '77', '3', '20', '5', '6']\n",
      "core           INFO \tLoading data for Italian Grand Prix - Qualifying [v3.6.1]\n",
      "req            INFO \tNo cached data found for session_info. Loading data...\n",
      "_api           INFO \tFetching session info data...\n"
     ]
    },
    {
     "name": "stdout",
     "output_type": "stream",
     "text": [
      "Monza    2022\n"
     ]
    },
    {
     "name": "stderr",
     "output_type": "stream",
     "text": [
      "req            INFO \tData has been written to cache!\n",
      "req            INFO \tNo cached data found for driver_info. Loading data...\n",
      "_api           INFO \tFetching driver list...\n",
      "req            INFO \tData has been written to cache!\n",
      "req            INFO \tNo cached data found for session_status_data. Loading data...\n",
      "_api           INFO \tFetching session status data...\n",
      "req            INFO \tData has been written to cache!\n",
      "req            INFO \tNo cached data found for track_status_data. Loading data...\n",
      "_api           INFO \tFetching track status data...\n",
      "req            INFO \tData has been written to cache!\n",
      "req            INFO \tNo cached data found for _extended_timing_data. Loading data...\n",
      "_api           INFO \tFetching timing data...\n",
      "_api           INFO \tParsing timing data...\n",
      "req            INFO \tData has been written to cache!\n",
      "req            INFO \tNo cached data found for timing_app_data. Loading data...\n",
      "_api           INFO \tFetching timing app data...\n",
      "req            INFO \tData has been written to cache!\n",
      "core           INFO \tProcessing timing data...\n",
      "req            INFO \tNo cached data found for car_data. Loading data...\n",
      "_api           INFO \tFetching car data...\n",
      "_api           INFO \tParsing car data...\n",
      "req            INFO \tData has been written to cache!\n",
      "req            INFO \tNo cached data found for position_data. Loading data...\n",
      "_api           INFO \tFetching position data...\n",
      "_api           INFO \tParsing position data...\n",
      "req            INFO \tData has been written to cache!\n",
      "req            INFO \tNo cached data found for weather_data. Loading data...\n",
      "_api           INFO \tFetching weather data...\n",
      "req            INFO \tData has been written to cache!\n",
      "req            INFO \tNo cached data found for race_control_messages. Loading data...\n",
      "_api           INFO \tFetching race control messages...\n",
      "req            INFO \tData has been written to cache!\n",
      "core           INFO \tFinished loading data for 20 drivers: ['16', '1', '55', '11', '44', '63', '4', '3', '10', '14', '31', '77', '45', '24', '22', '6', '5', '18', '20', '47']\n",
      "core           INFO \tLoading data for Azerbaijan Grand Prix - Qualifying [v3.6.1]\n",
      "req            INFO \tNo cached data found for session_info. Loading data...\n",
      "_api           INFO \tFetching session info data...\n"
     ]
    },
    {
     "name": "stdout",
     "output_type": "stream",
     "text": [
      "Baku    2022\n"
     ]
    },
    {
     "name": "stderr",
     "output_type": "stream",
     "text": [
      "req            INFO \tData has been written to cache!\n",
      "req            INFO \tNo cached data found for driver_info. Loading data...\n",
      "_api           INFO \tFetching driver list...\n",
      "req            INFO \tData has been written to cache!\n",
      "req            INFO \tNo cached data found for session_status_data. Loading data...\n",
      "_api           INFO \tFetching session status data...\n",
      "req            INFO \tData has been written to cache!\n",
      "req            INFO \tNo cached data found for track_status_data. Loading data...\n",
      "_api           INFO \tFetching track status data...\n",
      "req            INFO \tData has been written to cache!\n",
      "req            INFO \tNo cached data found for _extended_timing_data. Loading data...\n",
      "_api           INFO \tFetching timing data...\n",
      "_api           INFO \tParsing timing data...\n",
      "req            INFO \tData has been written to cache!\n",
      "req            INFO \tNo cached data found for timing_app_data. Loading data...\n",
      "_api           INFO \tFetching timing app data...\n",
      "req            INFO \tData has been written to cache!\n",
      "core           INFO \tProcessing timing data...\n",
      "req            INFO \tNo cached data found for car_data. Loading data...\n",
      "_api           INFO \tFetching car data...\n",
      "_api           INFO \tParsing car data...\n",
      "req            INFO \tData has been written to cache!\n",
      "req            INFO \tNo cached data found for position_data. Loading data...\n",
      "_api           INFO \tFetching position data...\n",
      "logger      WARNING \tFailed to load telemetry data!\n",
      "req            INFO \tNo cached data found for weather_data. Loading data...\n",
      "_api           INFO \tFetching weather data...\n",
      "req            INFO \tData has been written to cache!\n",
      "req            INFO \tNo cached data found for race_control_messages. Loading data...\n",
      "_api           INFO \tFetching race control messages...\n",
      "req            INFO \tData has been written to cache!\n",
      "core           INFO \tFinished loading data for 20 drivers: ['16', '11', '1', '55', '63', '10', '44', '22', '5', '14', '4', '3', '31', '24', '77', '20', '23', '6', '18', '47']\n",
      "core           INFO \tLoading data for Singapore Grand Prix - Qualifying [v3.6.1]\n",
      "req            INFO \tNo cached data found for session_info. Loading data...\n",
      "_api           INFO \tFetching session info data...\n"
     ]
    },
    {
     "name": "stdout",
     "output_type": "stream",
     "text": [
      "Marina Bay    2022\n"
     ]
    },
    {
     "name": "stderr",
     "output_type": "stream",
     "text": [
      "req            INFO \tData has been written to cache!\n",
      "req            INFO \tNo cached data found for driver_info. Loading data...\n",
      "_api           INFO \tFetching driver list...\n",
      "req            INFO \tData has been written to cache!\n",
      "req            INFO \tNo cached data found for session_status_data. Loading data...\n",
      "_api           INFO \tFetching session status data...\n",
      "req            INFO \tData has been written to cache!\n",
      "req            INFO \tNo cached data found for track_status_data. Loading data...\n",
      "_api           INFO \tFetching track status data...\n",
      "req            INFO \tData has been written to cache!\n",
      "req            INFO \tNo cached data found for _extended_timing_data. Loading data...\n",
      "_api           INFO \tFetching timing data...\n",
      "_api           INFO \tParsing timing data...\n",
      "req            INFO \tData has been written to cache!\n",
      "req            INFO \tNo cached data found for timing_app_data. Loading data...\n",
      "_api           INFO \tFetching timing app data...\n",
      "req            INFO \tData has been written to cache!\n",
      "core           INFO \tProcessing timing data...\n",
      "req            INFO \tNo cached data found for car_data. Loading data...\n",
      "_api           INFO \tFetching car data...\n",
      "_api           INFO \tParsing car data...\n",
      "req            INFO \tData has been written to cache!\n",
      "req            INFO \tNo cached data found for position_data. Loading data...\n",
      "_api           INFO \tFetching position data...\n",
      "_api           INFO \tParsing position data...\n",
      "req            INFO \tData has been written to cache!\n",
      "req            INFO \tNo cached data found for weather_data. Loading data...\n",
      "_api           INFO \tFetching weather data...\n",
      "req            INFO \tData has been written to cache!\n",
      "req            INFO \tNo cached data found for race_control_messages. Loading data...\n",
      "_api           INFO \tFetching race control messages...\n",
      "req            INFO \tData has been written to cache!\n",
      "core           INFO \tFinished loading data for 20 drivers: ['16', '11', '44', '55', '14', '4', '10', '1', '20', '22', '63', '18', '47', '5', '24', '77', '3', '31', '23', '6']\n",
      "core           INFO \tLoading data for United States Grand Prix - Qualifying [v3.6.1]\n",
      "req            INFO \tNo cached data found for session_info. Loading data...\n",
      "_api           INFO \tFetching session info data...\n"
     ]
    },
    {
     "name": "stdout",
     "output_type": "stream",
     "text": [
      "Austin    2022\n"
     ]
    },
    {
     "name": "stderr",
     "output_type": "stream",
     "text": [
      "req            INFO \tData has been written to cache!\n",
      "req            INFO \tNo cached data found for driver_info. Loading data...\n",
      "_api           INFO \tFetching driver list...\n",
      "req            INFO \tData has been written to cache!\n",
      "req            INFO \tNo cached data found for session_status_data. Loading data...\n",
      "_api           INFO \tFetching session status data...\n",
      "req            INFO \tData has been written to cache!\n",
      "req            INFO \tNo cached data found for track_status_data. Loading data...\n",
      "_api           INFO \tFetching track status data...\n",
      "req            INFO \tData has been written to cache!\n",
      "req            INFO \tNo cached data found for _extended_timing_data. Loading data...\n",
      "_api           INFO \tFetching timing data...\n",
      "_api           INFO \tParsing timing data...\n",
      "req            INFO \tData has been written to cache!\n",
      "req            INFO \tNo cached data found for timing_app_data. Loading data...\n",
      "_api           INFO \tFetching timing app data...\n",
      "req            INFO \tData has been written to cache!\n",
      "core           INFO \tProcessing timing data...\n",
      "req            INFO \tNo cached data found for car_data. Loading data...\n",
      "_api           INFO \tFetching car data...\n",
      "_api           INFO \tParsing car data...\n",
      "req            INFO \tData has been written to cache!\n",
      "req            INFO \tNo cached data found for position_data. Loading data...\n",
      "_api           INFO \tFetching position data...\n",
      "_api           INFO \tParsing position data...\n",
      "req            INFO \tData has been written to cache!\n",
      "req            INFO \tNo cached data found for weather_data. Loading data...\n",
      "_api           INFO \tFetching weather data...\n",
      "req            INFO \tData has been written to cache!\n",
      "req            INFO \tNo cached data found for race_control_messages. Loading data...\n",
      "_api           INFO \tFetching race control messages...\n",
      "req            INFO \tData has been written to cache!\n",
      "core           INFO \tFinished loading data for 20 drivers: ['55', '16', '1', '11', '44', '63', '18', '4', '14', '77', '23', '5', '10', '24', '22', '20', '3', '31', '47', '6']\n",
      "core           INFO \tLoading data for Mexico City Grand Prix - Qualifying [v3.6.1]\n",
      "req            INFO \tNo cached data found for session_info. Loading data...\n",
      "_api           INFO \tFetching session info data...\n"
     ]
    },
    {
     "name": "stdout",
     "output_type": "stream",
     "text": [
      "Mexico City    2022\n"
     ]
    },
    {
     "name": "stderr",
     "output_type": "stream",
     "text": [
      "req            INFO \tData has been written to cache!\n",
      "req            INFO \tNo cached data found for driver_info. Loading data...\n",
      "_api           INFO \tFetching driver list...\n",
      "req            INFO \tData has been written to cache!\n",
      "req            INFO \tNo cached data found for session_status_data. Loading data...\n",
      "_api           INFO \tFetching session status data...\n",
      "req            INFO \tData has been written to cache!\n",
      "req            INFO \tNo cached data found for track_status_data. Loading data...\n",
      "_api           INFO \tFetching track status data...\n",
      "req            INFO \tData has been written to cache!\n",
      "req            INFO \tNo cached data found for _extended_timing_data. Loading data...\n",
      "_api           INFO \tFetching timing data...\n",
      "_api           INFO \tParsing timing data...\n",
      "req            INFO \tData has been written to cache!\n",
      "req            INFO \tNo cached data found for timing_app_data. Loading data...\n",
      "_api           INFO \tFetching timing app data...\n",
      "req            INFO \tData has been written to cache!\n",
      "core           INFO \tProcessing timing data...\n",
      "req            INFO \tNo cached data found for car_data. Loading data...\n",
      "_api           INFO \tFetching car data...\n",
      "_api           INFO \tParsing car data...\n",
      "req            INFO \tData has been written to cache!\n",
      "req            INFO \tNo cached data found for position_data. Loading data...\n",
      "_api           INFO \tFetching position data...\n",
      "_api           INFO \tParsing position data...\n",
      "req            INFO \tData has been written to cache!\n",
      "req            INFO \tNo cached data found for weather_data. Loading data...\n",
      "_api           INFO \tFetching weather data...\n",
      "req            INFO \tData has been written to cache!\n",
      "req            INFO \tNo cached data found for race_control_messages. Loading data...\n",
      "_api           INFO \tFetching race control messages...\n",
      "req            INFO \tData has been written to cache!\n",
      "core           INFO \tFinished loading data for 20 drivers: ['1', '63', '44', '11', '55', '77', '16', '4', '14', '31', '3', '24', '22', '10', '20', '47', '5', '18', '23', '6']\n",
      "core           INFO \tLoading data for São Paulo Grand Prix - Qualifying [v3.6.1]\n",
      "req            INFO \tNo cached data found for session_info. Loading data...\n",
      "_api           INFO \tFetching session info data...\n"
     ]
    },
    {
     "name": "stdout",
     "output_type": "stream",
     "text": [
      "São Paulo    2022\n"
     ]
    },
    {
     "name": "stderr",
     "output_type": "stream",
     "text": [
      "req            INFO \tData has been written to cache!\n",
      "req            INFO \tNo cached data found for driver_info. Loading data...\n",
      "_api           INFO \tFetching driver list...\n",
      "req            INFO \tData has been written to cache!\n",
      "req            INFO \tNo cached data found for session_status_data. Loading data...\n",
      "_api           INFO \tFetching session status data...\n",
      "req            INFO \tData has been written to cache!\n",
      "req            INFO \tNo cached data found for track_status_data. Loading data...\n",
      "_api           INFO \tFetching track status data...\n",
      "req            INFO \tData has been written to cache!\n",
      "req            INFO \tNo cached data found for _extended_timing_data. Loading data...\n",
      "_api           INFO \tFetching timing data...\n",
      "_api           INFO \tParsing timing data...\n",
      "req            INFO \tData has been written to cache!\n",
      "req            INFO \tNo cached data found for timing_app_data. Loading data...\n",
      "_api           INFO \tFetching timing app data...\n",
      "req            INFO \tData has been written to cache!\n",
      "core           INFO \tProcessing timing data...\n",
      "req            INFO \tNo cached data found for car_data. Loading data...\n",
      "_api           INFO \tFetching car data...\n",
      "_api           INFO \tParsing car data...\n",
      "req            INFO \tData has been written to cache!\n",
      "req            INFO \tNo cached data found for position_data. Loading data...\n",
      "_api           INFO \tFetching position data...\n",
      "_api           INFO \tParsing position data...\n",
      "req            INFO \tData has been written to cache!\n",
      "req            INFO \tNo cached data found for weather_data. Loading data...\n",
      "_api           INFO \tFetching weather data...\n",
      "req            INFO \tData has been written to cache!\n",
      "req            INFO \tNo cached data found for race_control_messages. Loading data...\n",
      "_api           INFO \tFetching race control messages...\n",
      "req            INFO \tData has been written to cache!\n",
      "core           INFO \tFinished loading data for 20 drivers: ['20', '1', '63', '4', '55', '31', '14', '44', '11', '16', '23', '10', '5', '3', '18', '6', '24', '77', '22', '47']\n",
      "events      WARNING \tCorrecting user input 'Las Vegas' to 'British Grand Prix'\n",
      "core           INFO \tLoading data for British Grand Prix - Qualifying [v3.6.1]\n",
      "req            INFO \tUsing cached data for session_info\n",
      "req            INFO \tUsing cached data for driver_info\n",
      "req            INFO \tUsing cached data for session_status_data\n",
      "req            INFO \tUsing cached data for track_status_data\n",
      "req            INFO \tUsing cached data for _extended_timing_data\n",
      "req            INFO \tUsing cached data for timing_app_data\n",
      "core           INFO \tProcessing timing data...\n"
     ]
    },
    {
     "name": "stdout",
     "output_type": "stream",
     "text": [
      "Las Vegas    2022\n"
     ]
    },
    {
     "name": "stderr",
     "output_type": "stream",
     "text": [
      "req            INFO \tUsing cached data for car_data\n",
      "req            INFO \tUsing cached data for position_data\n",
      "req            INFO \tUsing cached data for weather_data\n",
      "req            INFO \tUsing cached data for race_control_messages\n",
      "core           INFO \tFinished loading data for 20 drivers: ['55', '1', '16', '11', '44', '4', '14', '63', '24', '6', '10', '77', '22', '3', '31', '23', '20', '5', '47', '18']\n",
      "events      WARNING \tCorrecting user input 'Lusail' to 'Spanish Grand Prix'\n",
      "core           INFO \tLoading data for Spanish Grand Prix - Qualifying [v3.6.1]\n",
      "req            INFO \tUsing cached data for session_info\n",
      "req            INFO \tUsing cached data for driver_info\n",
      "req            INFO \tUsing cached data for session_status_data\n",
      "req            INFO \tUsing cached data for track_status_data\n",
      "req            INFO \tUsing cached data for _extended_timing_data\n",
      "req            INFO \tUsing cached data for timing_app_data\n",
      "core           INFO \tProcessing timing data...\n"
     ]
    },
    {
     "name": "stdout",
     "output_type": "stream",
     "text": [
      "Lusail    2022\n"
     ]
    },
    {
     "name": "stderr",
     "output_type": "stream",
     "text": [
      "req            INFO \tUsing cached data for car_data\n",
      "req            INFO \tUsing cached data for position_data\n",
      "req            INFO \tUsing cached data for weather_data\n",
      "req            INFO \tUsing cached data for race_control_messages\n",
      "core           INFO \tFinished loading data for 20 drivers: ['16', '1', '55', '63', '11', '44', '77', '20', '3', '47', '4', '31', '22', '10', '24', '5', '14', '18', '23', '6']\n",
      "core           INFO \tLoading data for Abu Dhabi Grand Prix - Qualifying [v3.6.1]\n",
      "req            INFO \tNo cached data found for session_info. Loading data...\n",
      "_api           INFO \tFetching session info data...\n"
     ]
    },
    {
     "name": "stdout",
     "output_type": "stream",
     "text": [
      "Yas Island    2022\n"
     ]
    },
    {
     "name": "stderr",
     "output_type": "stream",
     "text": [
      "req            INFO \tData has been written to cache!\n",
      "req            INFO \tNo cached data found for driver_info. Loading data...\n",
      "_api           INFO \tFetching driver list...\n",
      "req            INFO \tData has been written to cache!\n",
      "logger      WARNING \tFailed to load result data from Ergast!\n",
      "core        WARNING \tNo result data for this session available on Ergast! (This is expected for recent sessions)\n",
      "req            INFO \tNo cached data found for session_status_data. Loading data...\n",
      "_api           INFO \tFetching session status data...\n",
      "req            INFO \tData has been written to cache!\n",
      "req            INFO \tNo cached data found for track_status_data. Loading data...\n",
      "_api           INFO \tFetching track status data...\n",
      "req            INFO \tData has been written to cache!\n",
      "req            INFO \tNo cached data found for _extended_timing_data. Loading data...\n",
      "_api           INFO \tFetching timing data...\n",
      "_api           INFO \tParsing timing data...\n",
      "req            INFO \tData has been written to cache!\n",
      "req            INFO \tNo cached data found for timing_app_data. Loading data...\n",
      "_api           INFO \tFetching timing app data...\n",
      "req            INFO \tData has been written to cache!\n",
      "core           INFO \tProcessing timing data...\n",
      "req            INFO \tNo cached data found for car_data. Loading data...\n",
      "_api           INFO \tFetching car data...\n",
      "_api           INFO \tParsing car data...\n",
      "req            INFO \tData has been written to cache!\n",
      "req            INFO \tNo cached data found for position_data. Loading data...\n",
      "_api           INFO \tFetching position data...\n",
      "_api           INFO \tParsing position data...\n",
      "req            INFO \tData has been written to cache!\n",
      "req            INFO \tNo cached data found for weather_data. Loading data...\n",
      "_api           INFO \tFetching weather data...\n",
      "req            INFO \tData has been written to cache!\n",
      "req            INFO \tNo cached data found for race_control_messages. Loading data...\n",
      "_api           INFO \tFetching race control messages...\n",
      "req            INFO \tData has been written to cache!\n",
      "core           INFO \tFinished loading data for 20 drivers: ['1', '11', '16', '55', '44', '63', '4', '31', '5', '3', '14', '22', '47', '18', '24', '20', '10', '77', '23', '6']\n"
     ]
    }
   ],
   "source": [
    "all_features = []\n",
    "nan_counts_list = []\n",
    "\n",
    "import time\n",
    "\n",
    "for year in [2022]:\n",
    "    for location in circuit_info['Location']:\n",
    "        try:\n",
    "            print(location + \"    \" + str(year))\n",
    "            session = ff1.get_session(year, location, 'Q')\n",
    "            session.load()\n",
    "\n",
    "            # laps\n",
    "            laps = session.laps\n",
    "            laps_clean = laps.pick_quicklaps()\n",
    "            laps_clean = laps_clean.dropna(subset=['LapTime'])      # remove Nan lap times rows\n",
    "\n",
    "            # weather\n",
    "            weather = session.weather_data\n",
    "            laps_clean['LapStartTime'] = laps_clean['Time']\n",
    "            laps_with_weather = pd.merge_asof(\n",
    "                laps_clean.sort_values('LapStartTime'),\n",
    "                weather.sort_values('Time'),\n",
    "                left_on='LapStartTime',\n",
    "                right_on='Time',\n",
    "                direction = 'backward'    # use last known weather measurement\n",
    "            )\n",
    "\n",
    "            # select data\n",
    "            features = laps_with_weather[['Driver', 'Team', 'LapTime', 'LapNumber', 'Stint',\n",
    "                        'TyreLife', 'FreshTyre', 'Compound', 'TrackTemp', 'AirTemp',\n",
    "                        'Sector1Time', 'Sector2Time', 'Sector3Time']].copy()\n",
    "\n",
    "            features['LapTime'] = features['LapTime'].dt.total_seconds()\n",
    "            features['Sector1Time'] = features['Sector1Time'].dt.total_seconds()\n",
    "            features['Sector2Time'] = features['Sector2Time'].dt.total_seconds()\n",
    "            features['Sector3Time'] = features['Sector3Time'].dt.total_seconds()\n",
    "\n",
    "            features['Location'] = location\n",
    "            features['Year'] = year\n",
    "\n",
    "            # merge with circuit info\n",
    "            features_merged = pd.merge(features, circuit_info, on='Location', how='left')\n",
    "\n",
    "            all_features.append(features_merged)\n",
    "            nan_counts_list.append(features_merged.isna().sum())\n",
    "        \n",
    "        except Exception as e:\n",
    "            print(f\"Skipped {location} {year}: {e}\")\n",
    "\n",
    "        time.sleep(5)\n",
    "\n",
    "\n",
    "\n",
    "all_features_df = pd.concat(all_features, ignore_index=True)\n",
    "all_features_df.to_csv('features_laps_2022.csv', index=False)\n",
    "\n",
    "nan_counts_df = pd.DataFrame(nan_counts_list)\n",
    "nan_counts_df.to_csv('nan_counts_2022.csv', index=False)"
   ]
  }
 ],
 "metadata": {
  "kernelspec": {
   "display_name": "myenv_mlf1",
   "language": "python",
   "name": "python3"
  },
  "language_info": {
   "codemirror_mode": {
    "name": "ipython",
    "version": 3
   },
   "file_extension": ".py",
   "mimetype": "text/x-python",
   "name": "python",
   "nbconvert_exporter": "python",
   "pygments_lexer": "ipython3",
   "version": "3.12.9"
  }
 },
 "nbformat": 4,
 "nbformat_minor": 5
}
